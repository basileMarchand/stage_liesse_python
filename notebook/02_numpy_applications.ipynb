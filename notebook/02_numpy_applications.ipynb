{
 "cells": [
  {
   "cell_type": "markdown",
   "metadata": {},
   "source": [
    "## Mise en oeuvre Numpy "
   ]
  },
  {
   "cell_type": "markdown",
   "metadata": {},
   "source": [
    "### Traitement de données avec Numpy "
   ]
  },
  {
   "cell_type": "markdown",
   "metadata": {},
   "source": [
    "Vous avez à disposition dans le `data/experiments` quatre fichiers de données expérimentales. L'objectif est de faire un programme utilisant massivement Numpy pour : \n",
    "\n",
    "1. Lire les 4 fichiers \n",
    "2. Nettoyer les données (notamment la présence de valeurs NaN)\n",
    "3. Trouver la valeur max de la contrainte dans chaque fichier \n",
    "4. Calculer la moyenne des valeurs max \n",
    "\n",
    "Indication : en utilisant pleinement le potentiel de Numpy ces opérations peuvent se faire en 10 lignes de code. "
   ]
  },
  {
   "cell_type": "markdown",
   "metadata": {},
   "source": [
    "## Compression d'image par SVD "
   ]
  },
  {
   "cell_type": "markdown",
   "metadata": {},
   "source": [
    "Dans ce premier exerice l'objectif est de compresser une image en niveau de gris en utilisant une SVD (Singular Value Decomposition). L'image à compresser est la suivante : "
   ]
  },
  {
   "cell_type": "markdown",
   "metadata": {},
   "source": [
    "![](data/carrie_fisher.png)"
   ]
  },
  {
   "cell_type": "markdown",
   "metadata": {},
   "source": [
    "Pour rappel, la décomposition SVD d'une matrice $\\mathbf{A} \\in \\mathbb{R}^{m\\times n}$ s'écrit de la manière suivante : \n",
    "\n",
    "$$ \\mathbf{A} = \\mathbf{U}\\cdot\\mathbf{\\Sigma}\\cdot\\mathbf{V} $$\n",
    "\n",
    "Avec $\\mathbf{U}\\in \\mathbb{R}^{m\\times m}$, $\\mathbf{\\Sigma}\\in\\mathbb{R}^{m\\times n}$ une matrice diagonale des valeurs singulière et $\\mathbf{V} \\in \\mathbb{R}^{n\\times n}$. "
   ]
  },
  {
   "cell_type": "markdown",
   "metadata": {},
   "source": [
    "**Question 1 :** \n",
    "\n",
    "Charger l'image de Carrie Fisher (vous trouverez dans le dossier data un fichier carrie_fisher.npz contenant l'image ous forme d'un np.ndarray) et calculer sa décomposition en valeurs singulière. \n",
    "\n",
    "**Question 2 :**\n",
    "\n",
    "Tracer l'évolution des valeurs singulière de l'image. \n",
    "\n",
    "**Question 3 :**\n",
    "\n",
    "Pour différentes troncatures ($k=\\lbrace 1,5,10,15,20,30,50,100 \\rbrace$) reconstruire l'image, l'afficher et calculer le taux de compression obtenues.  "
   ]
  },
  {
   "cell_type": "markdown",
   "metadata": {},
   "source": [
    "## Résolution d'un système non-linéaire : méthode de Newton "
   ]
  },
  {
   "cell_type": "markdown",
   "metadata": {},
   "source": [
    "Considérons un système non-linéaire de deux équations à deux inconnues.\n",
    "\n",
    "\n"
   ]
  },
  {
   "cell_type": "markdown",
   "metadata": {},
   "source": [
    "$$\\mathcal{R}\\left( x_1, x_2 \\right) = \\begin{cases}\n",
    "  x_1^{2} + 2 x_1 x_2 &= 0 \\\\\n",
    "  x_1 x_2 + 1           &= 0\n",
    " \\end{cases}$$"
   ]
  },
  {
   "cell_type": "markdown",
   "metadata": {},
   "source": [
    "Pour rappel la méthode de Newton permet de définir la suite suivante : "
   ]
  },
  {
   "cell_type": "markdown",
   "metadata": {},
   "source": [
    "$$ \\mathbf{x}^{(k+1)} = \\mathbf{x}^{(k)} - D\\left( \\mathcal{R}( \\mathbf{x}^{(k)} ) \\right)^{-1} \\cdot \\mathcal{R}( \\mathbf{x}^{(k)} ) $$"
   ]
  },
  {
   "cell_type": "markdown",
   "metadata": {},
   "source": [
    "La notation $D\\left( \\mathcal{R}( \\mathbf{x}^{(k)} )\\right)$ symbolise le gradient (dérivée multidimensionnelle) de la fonctionnelle $\\mathcal{R}$. Il s'agit donc de la matrice jacobienne de $\\mathcal{R}$ évaluée en $\\mathbf{x}^{(k)}$. Concrètement cette matrice jacobienne se définit, dans le cas d'un système de taille $n$, de la manière suivante : \n",
    "\n",
    "$$ \\left[ D\\left( \\mathcal{R}( \\mathbf{x}^{(k)} )\\right) \\right]_{ij} = \\left. \\frac{ \\partial [ \\mathcal{R} ]_{i} }{ \\partial [\\mathbf{x}]_{j} } \\right\\vert_{\\mathbf{x}=\\mathbf{x}^{(k)}} \\;\\;\\; \\forall (i,j) \\in N,N$$"
   ]
  },
  {
   "cell_type": "markdown",
   "metadata": {},
   "source": [
    "**Question 1 :**\n",
    "\n",
    "Calculer la matrice Jacobienne de $\\mathcal{R}$. \n",
    "\n",
    "\n",
    "**Question 2 :** \n",
    "\n",
    "Implémenter la méthode de Newton et résoudre le système d'équation. \n",
    "\n",
    "**Bonus :**\n",
    "\n",
    "Proposer une méthode de résolution utilisant une approximation de la matrice jacobienne. "
   ]
  },
  {
   "cell_type": "markdown",
   "metadata": {},
   "source": [
    "## Résolution d'un système de N ressorts (niveau avancé)"
   ]
  },
  {
   "cell_type": "markdown",
   "metadata": {},
   "source": [
    "Considérons un système de N ressort en série et/ou paralléle comme représenté sur la figure ci-dessous :  "
   ]
  },
  {
   "cell_type": "code",
   "execution_count": null,
   "metadata": {},
   "outputs": [],
   "source": []
  },
  {
   "cell_type": "markdown",
   "metadata": {},
   "source": [
    "L'objectif est de déterminer par une approche matricielle la résponse du système à un effort $F$. \n",
    "\n",
    "La formulation du problème doit donc se ramener à la résolution d'un problème de la forme \n",
    "\n",
    "$$ \\mathbf{K} \\cdot \\mathbf{u} = \\mathbf{F}$$ \n",
    "\n",
    "Avec $\\mathbf{K} \\in \\mathbb{R}^{M\\times M}$, $\\mathbf{u} \\in \\mathbb{R}^{M}$, $\\mathbf{F} \\in \\mathbb{R}^{M}$ et $M$ le nombre de points du système. "
   ]
  },
  {
   "cell_type": "markdown",
   "metadata": {},
   "source": [
    "Pour cela on rappel que l'énergie potentielle du système peut s'exprimer de la forme suivante : \n",
    "\n",
    "$$ E_p = \\frac{1}{2} \\sum_{i=1}^{N} \\left( u_{i,1} - u_{i,0} \\right)\\cdot  k_{i} \\cdot \\left( u_{i,1} - u_{i,0} \\right) $$\n",
    "\n",
    "Avec $u_{i,0}$ le déplacement du premier noeuds d'attache du $i$-ème ressort et $u_{i,1}$ le déplacement du second noeud d'attache du $i$-ème ressort."
   ]
  },
  {
   "cell_type": "markdown",
   "metadata": {},
   "source": [
    "Cette énergie potentielle peut s'écrire sous la forme matricielle suivante : \n",
    "\n",
    "$$ E_p = \\mathbf{U}^T \\cdot \\mathbf{K} \\cdot \\mathbf{U} $$ "
   ]
  },
  {
   "cell_type": "markdown",
   "metadata": {},
   "source": [
    "En utilisant alors le théorème de l'énergie potentielle nous pouvons écrire que \n",
    "\n",
    "$$ \\mathbf{K}\\cdot \\mathbf{U} = \\mathbf{F} $$  "
   ]
  },
  {
   "cell_type": "markdown",
   "metadata": {},
   "source": [
    "**Question 1 :** \n",
    "\n",
    "\n",
    "A partir de l'expression de l'énergie potentielle d'un ressort définir la matrice de rigidité élémentaire. "
   ]
  },
  {
   "cell_type": "markdown",
   "metadata": {},
   "source": [
    "**Question 2 :** \n",
    "\n",
    "Utiliser la matrice de rigidité d'un ressort pour construire la matrice $\\mathbf{K}$ globale. Pour cela utiliser la notion de table de connectivité. Pour rappel la table de connectivité est une liste $L$ telle que le $i$-ème élément de $L$ est le doublet des indices des points d'attache du ressort. "
   ]
  },
  {
   "cell_type": "markdown",
   "metadata": {},
   "source": [
    "**Question 3 :**\n",
    "\n",
    "Construire le second membre $F$. \n",
    "\n"
   ]
  },
  {
   "cell_type": "markdown",
   "metadata": {},
   "source": [
    "**Question 4 :** \n",
    "    \n",
    "Résoudre le système linéaire "
   ]
  },
  {
   "cell_type": "markdown",
   "metadata": {},
   "source": [
    "**Bonus :** \n",
    "\n",
    "En utilisant matplotlib, visualiser le profil de la matrice $\\mathbf{K}$:  \n",
    "\n",
    "```python \n",
    "import matplotlib.pyplot as plt \n",
    "plt.imshow( K ) \n",
    "plt.colorbar()\n",
    "plt.show()\n",
    "```\n",
    "\n",
    "Que peut-on en conclure ? Quelle piste d'amélioration est envisageable pour accélérer la résolution du problème ? "
   ]
  },
  {
   "cell_type": "code",
   "execution_count": null,
   "metadata": {},
   "outputs": [],
   "source": []
  }
 ],
 "metadata": {
  "kernelspec": {
   "display_name": "Python 3",
   "language": "python",
   "name": "python3"
  },
  "language_info": {
   "codemirror_mode": {
    "name": "ipython",
    "version": 3
   },
   "file_extension": ".py",
   "mimetype": "text/x-python",
   "name": "python",
   "nbconvert_exporter": "python",
   "pygments_lexer": "ipython3",
   "version": "3.7.4"
  }
 },
 "nbformat": 4,
 "nbformat_minor": 2
}
