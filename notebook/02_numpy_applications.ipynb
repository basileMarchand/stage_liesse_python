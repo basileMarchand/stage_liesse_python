{
 "cells": [
  {
   "cell_type": "markdown",
   "metadata": {},
   "source": [
    "## Mise en oeuvre Numpy "
   ]
  },
  {
   "cell_type": "markdown",
   "metadata": {},
   "source": [
    "### Traitement de données avec Numpy "
   ]
  },
  {
   "cell_type": "markdown",
   "metadata": {},
   "source": [
    "Vous avez à disposition dans le `data/experiments` quatre fichiers de données expérimentales. L'objectif est de faire un programme utilisant massivement Numpy pour : \n",
    "\n",
    "1. Lire les 4 fichiers \n",
    "2. Nettoyer les données (notamment la présence de valeurs NaN)\n",
    "3. Trouver la valeur max de la contrainte dans chaque fichier \n",
    "4. Calculer la moyenne des valeurs max \n",
    "\n",
    "Indication : en utilisant pleinement le potentiel de Numpy ces opérations peuvent se faire en 10 lignes de code. "
   ]
  },
  {
   "cell_type": "markdown",
   "metadata": {},
   "source": [
    "## Résolution d'un système non-linéaire : méthode de Newton "
   ]
  },
  {
   "cell_type": "markdown",
   "metadata": {},
   "source": [
    "Considérons un système non-linéaire de deux équations à deux inconnues.\n",
    "\n",
    "\n"
   ]
  },
  {
   "cell_type": "markdown",
   "metadata": {},
   "source": [
    "$$\\mathcal{R}\\left( x_1, x_2 \\right) = \\begin{cases}\n",
    "  x_1^{2} + 2 x_1 x_2 &= 0 \\\\\n",
    "  x_1 x_2 + 1           &= 0\n",
    " \\end{cases}$$"
   ]
  },
  {
   "cell_type": "markdown",
   "metadata": {},
   "source": [
    "Pour rappel la méthode de Newton permet de définir la suite suivante : "
   ]
  },
  {
   "cell_type": "markdown",
   "metadata": {},
   "source": [
    "$$ \\mathbf{x}^{(k+1)} = \\mathbf{x}^{(k)} - D\\left( \\mathcal{R}( \\mathbf{x}^{(k)} ) \\right)^{-1} \\cdot \\mathcal{R}( \\mathbf{x}^{(k)} ) $$"
   ]
  },
  {
   "cell_type": "markdown",
   "metadata": {},
   "source": [
    "La notation $D\\left( \\mathcal{R}( \\mathbf{x}^{(k)} )\\right)$ symbolise le gradient (dérivée multidimensionnelle) de la fonctionnelle $\\mathcal{R}$. Il s'agit donc de la matrice jacobienne de $\\mathcal{R}$ évaluée en $\\mathbf{x}^{(k)}$. Concrètement cette matrice jacobienne se définit, dans le cas d'un système de taille $n$, de la manière suivante : \n",
    "\n",
    "$$ \\left[ D\\left( \\mathcal{R}( \\mathbf{x}^{(k)} )\\right) \\right]_{ij} = \\left. \\frac{ \\partial [ \\mathcal{R} ]_{i} }{ \\partial [\\mathbf{x}]_{j} } \\right\\vert_{\\mathbf{x}=\\mathbf{x}^{(k)}} \\;\\;\\; \\forall (i,j) \\in N,N$$"
   ]
  },
  {
   "cell_type": "markdown",
   "metadata": {},
   "source": [
    "**Question 1 :**\n",
    "\n",
    "Calculer la matrice Jacobienne de $\\mathcal{R}$. \n",
    "\n",
    "\n",
    "**Question 2 :** \n",
    "\n",
    "Implémenter la méthode de Newton et résoudre le système d'équation. \n",
    "\n",
    "**Bonus :**\n",
    "\n",
    "Proposer une méthode de résolution utilisant une approximation de la matrice jacobienne. "
   ]
  },
  {
   "cell_type": "markdown",
   "metadata": {},
   "source": [
    "\n",
    "## Compression d'image par SVD "
   ]
  },
  {
   "cell_type": "markdown",
   "metadata": {},
   "source": [
    "Dans ce premier exerice l'objectif est de compresser une image en niveau de gris en utilisant une SVD (Singular Value Decomposition). L'image à compresser est la suivante : "
   ]
  },
  {
   "cell_type": "markdown",
   "metadata": {},
   "source": [
    "![](data/carrie_fisher.png)"
   ]
  },
  {
   "cell_type": "markdown",
   "metadata": {},
   "source": [
    "Pour rappel, la décomposition SVD d'une matrice $\\mathbf{A} \\in \\mathbb{R}^{m\\times n}$ s'écrit de la manière suivante : \n",
    "\n",
    "$$ \\mathbf{A} = \\mathbf{U}\\cdot\\mathbf{\\Sigma}\\cdot\\mathbf{V} $$\n",
    "\n",
    "Avec $\\mathbf{U}\\in \\mathbb{R}^{m\\times m}$, $\\mathbf{\\Sigma}\\in\\mathbb{R}^{m\\times n}$ une matrice diagonale des valeurs singulière et $\\mathbf{V} \\in \\mathbb{R}^{n\\times n}$. "
   ]
  },
  {
   "cell_type": "markdown",
   "metadata": {},
   "source": [
    "**Question 1 :** \n",
    "\n",
    "Charger l'image de Carrie Fisher (vous trouverez dans le dossier data un fichier carrie_fisher.npy contenant l'image ous forme d'un np.ndarray) et calculer sa décomposition en valeurs singulière. \n",
    "\n",
    "**Question 2 :**\n",
    "\n",
    "Tracer l'évolution des valeurs singulière de l'image. \n",
    "\n",
    "**Question 3 :**\n",
    "\n",
    "Pour différentes troncatures ($k=\\lbrace 1,5,10,15,20,30,50,100 \\rbrace$) reconstruire l'image, l'afficher et calculer le taux de compression obtenues.  "
   ]
  },
  {
   "cell_type": "code",
   "execution_count": null,
   "metadata": {},
   "outputs": [],
   "source": []
  }
 ],
 "metadata": {
  "kernelspec": {
   "display_name": "Python 3",
   "language": "python",
   "name": "python3"
  },
  "language_info": {
   "codemirror_mode": {
    "name": "ipython",
    "version": 3
   },
   "file_extension": ".py",
   "mimetype": "text/x-python",
   "name": "python",
   "nbconvert_exporter": "python",
   "pygments_lexer": "ipython3",
   "version": "3.7.4"
  },
  "nbTranslate": {
   "displayLangs": [
    "*"
   ],
   "hotkey": "alt-t",
   "langInMainMenu": true,
   "sourceLang": "en",
   "targetLang": "fr",
   "useGoogleTranslate": true
  }
 },
 "nbformat": 4,
 "nbformat_minor": 2
}
