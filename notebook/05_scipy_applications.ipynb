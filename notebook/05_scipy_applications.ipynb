{
 "cells": [
  {
   "cell_type": "markdown",
   "metadata": {},
   "source": [
    "# Mise en oeuvre Scipy "
   ]
  },
  {
   "cell_type": "markdown",
   "metadata": {},
   "source": [
    "## Résolution EDO "
   ]
  },
  {
   "cell_type": "markdown",
   "metadata": {},
   "source": [
    "Considérons un circuit RC classique définit par l'équation différentielle suivante : \n",
    "\n",
    "$$ RC \\frac{du}{dt} + u = u_e $$ \n",
    "\n",
    "Avec $R=1000\\Omega$, $C=10^{-6}F$ et $u(t=0) = 0$. "
   ]
  },
  {
   "cell_type": "markdown",
   "metadata": {},
   "source": [
    "**Question 1:** \n",
    "\n",
    "Dans le cas où $u_e(t) = U_0$ avec $U_0=10\\,V$ calculer la solution de l'équation différentielle sur l'intervalle $[0, 0.005]$.\n",
    "\n",
    "**Question 2:** \n",
    "\n",
    "Dans le cas où $u_e(t) = U_0 \\sin \\left( 2\\pi f t \\right)$ avec $U_0=10\\,V$ et $f=100\\,Hz$ calculer la solution de l'équation différentielle sur l'intervalle $[0, 5/f]$."
   ]
  },
  {
   "cell_type": "markdown",
   "metadata": {},
   "source": [
    "## Résolution d'un système d'équation différentielle "
   ]
  },
  {
   "cell_type": "markdown",
   "metadata": {},
   "source": [
    "Considérons un circuit RLC classique définit par l'équation différentielle suivante : \n",
    "\n",
    "$$LC\\frac{d^2u}{dt^2} + RC \\frac{du}{dt} + u = u_e $$"
   ]
  },
  {
   "cell_type": "markdown",
   "metadata": {},
   "source": [
    "**Question 1 :**\n",
    "\n",
    "Transformer cette équation du second ordre en un système de deux équations du premier ordre. \n",
    "\n",
    "**Question 2 :**\n",
    "\n",
    "Déterminer l'évolution de $u(t)$ sur l'intervalle $t \\in [0, 0.02]$ pour $R=1000\\,\\Omega$, $F=10^{-6}\\,F$. A vous de choisir la valeur de $L$ pour résoudre : (i) en régime pseudo-périodique ; (ii) apériodique ; (iii) critique. "
   ]
  },
  {
   "cell_type": "markdown",
   "metadata": {},
   "source": [
    "## Trouver le zéro d'une fonction scalaire "
   ]
  },
  {
   "cell_type": "markdown",
   "metadata": {},
   "source": [
    "Considérons l'équation de Kepler : \n",
    "\n",
    "$$ x - e\\cdot \\sin x = m $$ "
   ]
  },
  {
   "cell_type": "markdown",
   "metadata": {},
   "source": [
    "**Question 1 :** \n",
    "\n",
    "A l'aide de `scipy` trouver la solution de l'équation de Kepler dans le cas où $e=\\frac{1}{2}$ et $m=1$. Vérifier que la solution trouvée par scipy est correcte. \n"
   ]
  },
  {
   "cell_type": "markdown",
   "metadata": {},
   "source": [
    "## Idenficiation de paramètres --- circuit RLC "
   ]
  },
  {
   "cell_type": "markdown",
   "metadata": {},
   "source": [
    "Considérons le circuit RC précédemment étudié. \n",
    "\n",
    "Nous allons chercher à identifier le paramètre R du système à partir de données \"expérimentales\". \n",
    "Les données expérimentales en questions sont données dans le fichier `notebook/data/exp_data_rc.dat`. Si l'on représente ces données on obtient la courbe suivante : \n"
   ]
  },
  {
   "cell_type": "code",
   "execution_count": 4,
   "metadata": {},
   "outputs": [
    {
     "data": {
      "image/png": "[encoded data removed]",
      "text/plain": [
       "<Figure size 432x288 with 1 Axes>"
      ]
     },
     "metadata": {
      "needs_background": "light"
     },
     "output_type": "display_data"
    }
   ],
   "source": [
    "import matplotlib.pyplot as plt \n",
    "import numpy as np\n",
    "import pathlib as pl \n",
    "\n",
    "data = np.loadtxt(str(pl.Path(\".\") / \"data\" / \"exp_data_rc.dat\"))\n",
    "\n",
    "plt.plot( data[:,0], data[:,1])\n",
    "plt.xlabel(\"Time (s)\")\n",
    "plt.ylabel(\"U (V)\")\n",
    "plt.show()\n"
   ]
  },
  {
   "cell_type": "markdown",
   "metadata": {},
   "source": [
    "Ces données sont obtenues avec la configuration suivante : \n",
    "\n",
    "$$ u_e = 10\\,V\\, ; \\, C=10^{-6}\\,F\\, ; \\, R=?? $$"
   ]
  },
  {
   "cell_type": "markdown",
   "metadata": {},
   "source": [
    "**Question 1 :**\n",
    "Formuler le problème d'optimisation à résoudre pour identifier le paramètre R ? \n",
    "\n",
    "**Question 2 :** \n",
    "A l'aide de `scipy.optimize` identifier la valeur du paramètre R. \n",
    "\n",
    "**Question 3 :** \n",
    "Représenter sur un même graphique la donnée expérimentale et le résultat du modèle pour la valeur de $R$ identifiée. "
   ]
  },
  {
   "cell_type": "code",
   "execution_count": null,
   "metadata": {},
   "outputs": [],
   "source": []
  }
 ],
 "metadata": {
  "kernelspec": {
   "display_name": "Python 3",
   "language": "python",
   "name": "python3"
  },
  "language_info": {
   "codemirror_mode": {
    "name": "ipython",
    "version": 3
   },
   "file_extension": ".py",
   "mimetype": "text/x-python",
   "name": "python",
   "nbconvert_exporter": "python",
   "pygments_lexer": "ipython3",
   "version": "3.7.4"
  }
 },
 "nbformat": 4,
 "nbformat_minor": 2
}
