{
 "cells": [
  {
   "cell_type": "code",
   "execution_count": 135,
   "metadata": {
    "slideshow": {
     "slide_type": "skip"
    }
   },
   "outputs": [],
   "source": [
    "from IPython.display import set_matplotlib_formats\n",
    "set_matplotlib_formats('svg')"
   ]
  },
  {
   "cell_type": "markdown",
   "metadata": {
    "slideshow": {
     "slide_type": "slide"
    }
   },
   "source": [
    "# Introduction à Numpy\n",
    "\n",
    "-----------------------------------------\n",
    "\n",
    "***Basile Marchand (Centre des Matériaux @ Mines ParisTech/CNRS/Université PSL)***"
   ]
  },
  {
   "cell_type": "markdown",
   "metadata": {
    "slideshow": {
     "slide_type": "slide"
    }
   },
   "source": [
    "## Numpy "
   ]
  },
  {
   "cell_type": "markdown",
   "metadata": {
    "slideshow": {
     "slide_type": "subslide"
    }
   },
   "source": [
    "NumPy est un module Python permettant de travailler avec des tableaux multidimensionel. En effet Python ne dispose pas nativement de notions de tableaux et donc par extensions encore moins des notions de matrices. \n",
    "\n",
    "Il est donc nécessaire d'utiliser un module particulier, qui n'est pas un module de la librairie standard Python. **Le** module recommandé pour la manipulation de tableau multidimensionnel (cela inclu donc les matrices) est donc **NumPy**. \n",
    "\n",
    "Pour preuve de la reconnaissance de ce module ainsi que de ses performances il faut souligner qu'il s'agit du module qui est employé à peu prêt dans tous les autres modules scientifiques disponibles dans Python. Le secret du module NumPy est que par un soucis de performances ce dernier n'est pas développer en Python mais en C++. "
   ]
  },
  {
   "cell_type": "markdown",
   "metadata": {
    "slideshow": {
     "slide_type": "subslide"
    }
   },
   "source": [
    "Bien évidemment l'utilisation de ce module se fait de la manière classique : \n",
    "\n",
    "```python\n",
    "import numpy\n",
    "```\n",
    "\n",
    "Cependant par soucis de simplicité vous verrez quasiment toujours l'import réalisé en donnant un alias à numpy  :\n",
    "\n",
    "```python\n",
    "import numpy as np\n",
    "```"
   ]
  },
  {
   "cell_type": "markdown",
   "metadata": {
    "slideshow": {
     "slide_type": "subslide"
    }
   },
   "source": [
    "L'objet de base dans NumPy, celui que l'on va manipuler par la suite, est le **np.ndarray**. Un **np.ndarray** numpy est un tableau multidimensionnel de même type (on ne peut pas mélanger entier, flottant et chaine de caractère dans un même **np.ndarray** par exemple). On appelle *rang* de l'**np.ndarray** le nombre de dimension de ce dernier : \n",
    "* *rang de 1* : tableau à 1 dimension donc une ligne de M colonnes\n",
    "* *rang de 2* : tableau à 2 dimension donc N lignes et M colonnes\n",
    "* *rang de 3* : tableau à trois dimensions (un pavé dans l'espace) \n",
    "* etc \n",
    "\n",
    "Et la forme de l'*array*, *shape* en anglais, est un N-uplet qui caractérise la taille du tableau suivant chacune de ses dimensions. Par exemple :\n",
    "* Un vecteur ligne de taille **N** correspond à un **array** avec rank=1 et shape=(N,)\n",
    "* Un vecteur colonne de taille **N** correspond à un **array** avec rank=2 et shape=(N,1)\n",
    "* Une matrice rectangulaire **NxM** correspond à un **array** avec rank=2 et shape=(N,M)\n",
    "* Une hypermatrice carré **NxNxN** correspond à un **array** avec rank=3 et shape=(N,N,N)\n"
   ]
  },
  {
   "cell_type": "markdown",
   "metadata": {
    "slideshow": {
     "slide_type": "slide"
    }
   },
   "source": [
    "### Création d'un **array**\n",
    "\n",
    "La définition d'un `np.ndarray` à partir d'un ensemble de valeurs se fait en utisant `np.array` de la manière suivante : "
   ]
  },
  {
   "cell_type": "code",
   "execution_count": 136,
   "metadata": {
    "slideshow": {
     "slide_type": "fragment"
    }
   },
   "outputs": [
    {
     "name": "stdout",
     "output_type": "stream",
     "text": [
      "une matrice 3x3 : \n",
      "[[1 2 3]\n",
      " [4 5 6]\n",
      " [7 8 9]]\n",
      "un vecteur colonne : \n",
      "[[1]\n",
      " [2]\n",
      " [3]]\n",
      "un vecteur ligne : \n",
      "[1 2 3]\n",
      "un tableau 3 dimension :\n",
      "[[[ 1  2  3]\n",
      "  [ 2  5  6]]\n",
      "\n",
      " [[11 12 13]\n",
      "  [14 15 16]]]\n"
     ]
    }
   ],
   "source": [
    "import numpy as np\n",
    "une_matrice_3_3 = np.array([[1,2,3], [4,5,6], [7,8,9]])\n",
    "print(f\"une matrice 3x3 : \\n{une_matrice_3_3}\")\n",
    "un_vecteur_colonne = np.array([[1,], [2,], [3,]]) \n",
    "print(f\"un vecteur colonne : \\n{un_vecteur_colonne}\")\n",
    "un_vecteur_ligne = np.array([1,2,3])\n",
    "print(f\"un vecteur ligne : \\n{un_vecteur_ligne}\")\n",
    "un_tableau_3_dimension = np.array( [[[1,2,3],[2,5,6]], [[11,12,13],[14,15,16]]])\n",
    "print(f\"un tableau 3 dimension :\\n{un_tableau_3_dimension}\")"
   ]
  },
  {
   "cell_type": "markdown",
   "metadata": {
    "slideshow": {
     "slide_type": "subslide"
    }
   },
   "source": [
    "Pour connaitre le rang et la forme d'un **array** NumPy il suffit de procéder de la manière suivante : "
   ]
  },
  {
   "cell_type": "code",
   "execution_count": 226,
   "metadata": {
    "slideshow": {
     "slide_type": "fragment"
    }
   },
   "outputs": [
    {
     "name": "stdout",
     "output_type": "stream",
     "text": [
      "shape = (3, 1)\n",
      "rank  = 2\n"
     ]
    }
   ],
   "source": [
    "forme = un_vecteur_colonne.shape \n",
    "rang  = un_vecteur_colonne.ndim  ## len(un_vecteur_colonne.shape)\n",
    "print(f\"shape = {forme}\")\n",
    "print(f\"rank  = {rang}\")\n"
   ]
  },
  {
   "cell_type": "markdown",
   "metadata": {
    "slideshow": {
     "slide_type": "subslide"
    }
   },
   "source": [
    "De plus pour connaitre le nombre d'éléments contenu dans un `np.array` il suffit simplement d'accéder à l'attribut size de ce dernier. Par exemple : "
   ]
  },
  {
   "cell_type": "code",
   "execution_count": 138,
   "metadata": {
    "slideshow": {
     "slide_type": "fragment"
    }
   },
   "outputs": [
    {
     "name": "stdout",
     "output_type": "stream",
     "text": [
      "size = 3\n"
     ]
    }
   ],
   "source": [
    "nElement = un_vecteur_colonne.size\n",
    "print(f\"size = {nElement}\")"
   ]
  },
  {
   "cell_type": "markdown",
   "metadata": {
    "slideshow": {
     "slide_type": "subslide"
    }
   },
   "source": [
    "Afin d'initialiser un **array** NumPy dispose d'un certain nombre de fonction permettant de créer des tableaux. \n",
    "* `np.zeros` qui permet de créer un tableau ne contenant que des zéros\n",
    "* `np.zeros_like` qui permet de construire une matrice de zéros ayant la même forme qu'une autre matrice donnée en entrée.\n",
    "* `np.ones` qui créé un tableau ne contenant que des uns.\n",
    "* `np.eye` qui créé un tableau identité\n",
    "* `np.random.rand` qui créé une matrice comptenant des valeurs aléatoires.\n",
    "\n",
    "Ci-dessous des exemples d'utilisation de chacune de ces fonctions. "
   ]
  },
  {
   "cell_type": "code",
   "execution_count": 5,
   "metadata": {
    "slideshow": {
     "slide_type": "subslide"
    }
   },
   "outputs": [
    {
     "name": "stdout",
     "output_type": "stream",
     "text": [
      "np.zeros\n",
      "[[0. 0. 0. 0.]\n",
      " [0. 0. 0. 0.]]\n",
      "np.ones\n",
      "[[1.]\n",
      " [1.]\n",
      " [1.]\n",
      " [1.]\n",
      " [1.]]\n",
      "np.zeros_like\n",
      "[[0. 0. 0.]\n",
      " [0. 0. 0.]]\n",
      "np.eye\n",
      "[[1. 0. 0. 0.]\n",
      " [0. 1. 0. 0.]\n",
      " [0. 0. 1. 0.]\n",
      " [0. 0. 0. 1.]]\n",
      "np.random.rand\n",
      "np.linspace\n",
      "[ 0.          0.1010101   0.2020202   0.3030303   0.4040404   0.50505051\n",
      "  0.60606061  0.70707071  0.80808081  0.90909091  1.01010101  1.11111111\n",
      "  1.21212121  1.31313131  1.41414141  1.51515152  1.61616162  1.71717172\n",
      "  1.81818182  1.91919192  2.02020202  2.12121212  2.22222222  2.32323232\n",
      "  2.42424242  2.52525253  2.62626263  2.72727273  2.82828283  2.92929293\n",
      "  3.03030303  3.13131313  3.23232323  3.33333333  3.43434343  3.53535354\n",
      "  3.63636364  3.73737374  3.83838384  3.93939394  4.04040404  4.14141414\n",
      "  4.24242424  4.34343434  4.44444444  4.54545455  4.64646465  4.74747475\n",
      "  4.84848485  4.94949495  5.05050505  5.15151515  5.25252525  5.35353535\n",
      "  5.45454545  5.55555556  5.65656566  5.75757576  5.85858586  5.95959596\n",
      "  6.06060606  6.16161616  6.26262626  6.36363636  6.46464646  6.56565657\n",
      "  6.66666667  6.76767677  6.86868687  6.96969697  7.07070707  7.17171717\n",
      "  7.27272727  7.37373737  7.47474747  7.57575758  7.67676768  7.77777778\n",
      "  7.87878788  7.97979798  8.08080808  8.18181818  8.28282828  8.38383838\n",
      "  8.48484848  8.58585859  8.68686869  8.78787879  8.88888889  8.98989899\n",
      "  9.09090909  9.19191919  9.29292929  9.39393939  9.49494949  9.5959596\n",
      "  9.6969697   9.7979798   9.8989899  10.        ]\n",
      "np.arange\n",
      "[0.  0.2 0.4 0.6 0.8 1.  1.2 1.4 1.6 1.8 2.  2.2 2.4 2.6 2.8 3.  3.2 3.4\n",
      " 3.6 3.8 4.  4.2 4.4 4.6 4.8 5.  5.2 5.4 5.6 5.8 6.  6.2 6.4 6.6 6.8 7.\n",
      " 7.2 7.4 7.6 7.8 8.  8.2 8.4 8.6 8.8 9.  9.2 9.4 9.6 9.8]\n"
     ]
    }
   ],
   "source": [
    "import numpy as np\n",
    "print(\"np.zeros\")\n",
    "zero = np.zeros((2,4))\n",
    "print(zero)\n",
    "print(\"np.ones\")\n",
    "ones = np.ones((5,1)) \n",
    "print(ones)\n",
    "print(\"np.zeros_like\")\n",
    "m = np.ones((2,3))\n",
    "zero_like = np.zeros_like(m)\n",
    "print(zero_like)\n",
    "print(\"np.eye\")\n",
    "eye = np.eye(4)\n",
    "print(eye)\n",
    "print(\"np.random.rand\")\n",
    "r = np.random.rand(3,5,6)\n",
    "#print(r)\n",
    "print(\"np.linspace\")\n",
    "lin = np.linspace(0., 10., 100)\n",
    "print(lin)\n",
    "print(\"np.arange\")\n",
    "ran = np.arange(0, 10., 0.2)\n",
    "print(ran)\n"
   ]
  },
  {
   "cell_type": "markdown",
   "metadata": {
    "slideshow": {
     "slide_type": "subslide"
    }
   },
   "source": [
    "### Un mot sur les `np.matrix` "
   ]
  },
  {
   "cell_type": "markdown",
   "metadata": {
    "slideshow": {
     "slide_type": "fragment"
    }
   },
   "source": [
    "Il existe dans numpy un object de type `matrix`. A première vue il serait tentant de croire que c'est le truc idéal pour les applications cibles en prépa. Et bien non c'est une fausse bonne idée !! Il ne faut surtout pas utiliser les `np.matrix` car cela ne fera qu'introduire des bugs bizarre dans les codes. "
   ]
  },
  {
   "cell_type": "markdown",
   "metadata": {
    "slideshow": {
     "slide_type": "subslide"
    }
   },
   "source": [
    "### Un mot sur ce que nous impose le C++ derrière numpy"
   ]
  },
  {
   "cell_type": "code",
   "execution_count": 140,
   "metadata": {
    "slideshow": {
     "slide_type": "subslide"
    }
   },
   "outputs": [
    {
     "name": "stdout",
     "output_type": "stream",
     "text": [
      "tableau = [0.78123436 0.10077886 0.0956136  0.01739688 0.57828268 0.48224953\n",
      " 0.36182211 0.74507335 0.99966304 0.67845184]\n"
     ]
    }
   ],
   "source": [
    "tableau = np.random.rand(10)\n",
    "print(f\"tableau = {tableau}\")"
   ]
  },
  {
   "cell_type": "code",
   "execution_count": 141,
   "metadata": {
    "slideshow": {
     "slide_type": "fragment"
    }
   },
   "outputs": [
    {
     "name": "stdout",
     "output_type": "stream",
     "text": [
      "tableau = [10.          0.10077886  0.0956136   0.01739688  0.57828268  0.48224953\n",
      "  0.36182211  0.74507335  0.99966304  0.67845184]\n"
     ]
    }
   ],
   "source": [
    "tableau[0] = int(10)\n",
    "print(f\"tableau = {tableau}\")"
   ]
  },
  {
   "cell_type": "code",
   "execution_count": 142,
   "metadata": {
    "slideshow": {
     "slide_type": "fragment"
    }
   },
   "outputs": [
    {
     "name": "stdout",
     "output_type": "stream",
     "text": [
      "could not convert string to float: 'coucou'\n"
     ]
    }
   ],
   "source": [
    "try:\n",
    "    tableau[0] = \"coucou\"\n",
    "except Exception as e: \n",
    "    print(e.args[0])"
   ]
  },
  {
   "cell_type": "markdown",
   "metadata": {
    "slideshow": {
     "slide_type": "subslide"
    }
   },
   "source": [
    "Et oui les `np.array` ne sont pas comme les listes Python, ce sont des conteneurs homogènes. Impossible d'y ranger des valeurs de types différents, `numpy` cherchera toujours à convertir ce que vous lui donnez dans le type du tableau. "
   ]
  },
  {
   "cell_type": "markdown",
   "metadata": {
    "slideshow": {
     "slide_type": "fragment"
    }
   },
   "source": [
    "Ce comportement peut paraitre étrange, étant donné le caractère dynamiquement typé du Python !! Mais je vous rappelle que NumPy n'est pas développé en Python mais en C++. Or le C++ est un langage à typage statique. C'est le prix à payer pour avoir de la performance ! Ainsi à chaque `np.ndarray` est associé un type. Pour connaitre le type des éléments il suffit d'accéder à l'attribut `dtype`. Par exemple :  "
   ]
  },
  {
   "cell_type": "code",
   "execution_count": 143,
   "metadata": {
    "slideshow": {
     "slide_type": "fragment"
    }
   },
   "outputs": [
    {
     "data": {
      "text/plain": [
       "dtype('float64')"
      ]
     },
     "execution_count": 143,
     "metadata": {},
     "output_type": "execute_result"
    }
   ],
   "source": [
    "tableau.dtype"
   ]
  },
  {
   "cell_type": "markdown",
   "metadata": {
    "slideshow": {
     "slide_type": "fragment"
    }
   },
   "source": [
    "Vous voyez donc que le type des valeurs pouvant être contenue dans le tableau est donc `float64` ce qui correspond à un flottant double précision (codé sur 64 bits). Donc tous les éléments que l'on va vouloir ranger dans le tableau vont être converti en `float64`. Si cette conversion n'est pas possible on a alors une erreur ! "
   ]
  },
  {
   "cell_type": "markdown",
   "metadata": {
    "slideshow": {
     "slide_type": "subslide"
    }
   },
   "source": [
    "Il est possible de changer le type `np.ndarray` pour cela il suffit d'utiliser la méthode `astype`. Par exemple si je veux convertir le tableau `tableau` qui ne contient que des `float64` en un tableau contenant des `int32` il suffit de procéder de la manière suivante : "
   ]
  },
  {
   "cell_type": "code",
   "execution_count": 144,
   "metadata": {
    "slideshow": {
     "slide_type": "fragment"
    }
   },
   "outputs": [
    {
     "name": "stdout",
     "output_type": "stream",
     "text": [
      "[10.          0.10077886  0.0956136   0.01739688  0.57828268  0.48224953\n",
      "  0.36182211  0.74507335  0.99966304  0.67845184]\n",
      "tableauInt = [10  0  0  0  0  0  0  0  0  0]\n"
     ]
    }
   ],
   "source": [
    "tableauInt = tableau.astype(np.int32)\n",
    "print(tableau)\n",
    "print(f\"tableauInt = {tableauInt}\")"
   ]
  },
  {
   "cell_type": "code",
   "execution_count": 145,
   "metadata": {
    "slideshow": {
     "slide_type": "fragment"
    }
   },
   "outputs": [
    {
     "data": {
      "text/plain": [
       "dtype('int32')"
      ]
     },
     "execution_count": 145,
     "metadata": {},
     "output_type": "execute_result"
    }
   ],
   "source": [
    "tableauInt.dtype"
   ]
  },
  {
   "cell_type": "markdown",
   "metadata": {
    "slideshow": {
     "slide_type": "fragment"
    }
   },
   "source": [
    "Vous remarquez alors que la plupart des valeurs deviennent `0`. C'est parce que la conversion d'un `float64` a un entier se fait en faisant un troncature tout simplement ! "
   ]
  },
  {
   "cell_type": "markdown",
   "metadata": {
    "slideshow": {
     "slide_type": "subslide"
    }
   },
   "source": [
    "Bien évidemment il est possible à la création d'un `np.ndarray` de spécifier le type d'élément que l'on souhaite, ce qui bypass le mécanisme de déduction de type de numpy. Par exemple si on créé un tableau à partir d'une liste ne contenant que des entiers. "
   ]
  },
  {
   "cell_type": "code",
   "execution_count": 146,
   "metadata": {
    "slideshow": {
     "slide_type": "fragment"
    }
   },
   "outputs": [
    {
     "name": "stdout",
     "output_type": "stream",
     "text": [
      "type = int64\n"
     ]
    }
   ],
   "source": [
    "tableau_no_type = np.array([1,2,3,4])\n",
    "print(f\"type = {tableau_no_type.dtype}\")"
   ]
  },
  {
   "cell_type": "markdown",
   "metadata": {
    "slideshow": {
     "slide_type": "fragment"
    }
   },
   "source": [
    "Numpy en déduit automatiquement un type `int64`. "
   ]
  },
  {
   "cell_type": "markdown",
   "metadata": {
    "slideshow": {
     "slide_type": "fragment"
    }
   },
   "source": [
    "Mais si je souhaite avoir des `float64` comment faire ? La solution bête et méchante est de mettre des points dans la liste que je fourni en entrée, par exemple : "
   ]
  },
  {
   "cell_type": "code",
   "execution_count": 147,
   "metadata": {
    "slideshow": {
     "slide_type": "fragment"
    }
   },
   "outputs": [
    {
     "data": {
      "text/plain": [
       "dtype('float64')"
      ]
     },
     "execution_count": 147,
     "metadata": {},
     "output_type": "execute_result"
    }
   ],
   "source": [
    "tableau_no_type = np.array([1.,2.,3.,4.])\n",
    "tableau_no_type.dtype"
   ]
  },
  {
   "cell_type": "markdown",
   "metadata": {
    "slideshow": {
     "slide_type": "subslide"
    }
   },
   "source": [
    "Au passage une remarque, si je ne mets qu'un point dans le liste au premier élement par exemple numpy va quand même considérer des `float64`. Car en présence d'une liste hétérogène NumPy prendra le type de plus haut niveau, dans ce cas les `float64`. "
   ]
  },
  {
   "cell_type": "code",
   "execution_count": 231,
   "metadata": {
    "slideshow": {
     "slide_type": "fragment"
    }
   },
   "outputs": [
    {
     "name": "stdout",
     "output_type": "stream",
     "text": [
      "float64\n",
      "[1. 2. 3. 4.]\n"
     ]
    }
   ],
   "source": [
    "import numpy as np \n",
    "tableau_no_type = np.array([1.,2,3,4])\n",
    "print(tableau_no_type.dtype)\n",
    "print(tableau_no_type)"
   ]
  },
  {
   "cell_type": "markdown",
   "metadata": {
    "slideshow": {
     "slide_type": "fragment"
    }
   },
   "source": [
    "L'autre solution un peu plus élégante est de spécifier le type du `np.ndarray` via l'argument optionnel `dtype` de `np.array`. Par exemple : "
   ]
  },
  {
   "cell_type": "code",
   "execution_count": 149,
   "metadata": {
    "slideshow": {
     "slide_type": "fragment"
    }
   },
   "outputs": [
    {
     "data": {
      "text/plain": [
       "dtype('float64')"
      ]
     },
     "execution_count": 149,
     "metadata": {},
     "output_type": "execute_result"
    }
   ],
   "source": [
    "tableau_typed = np.array([1,2,3,4], dtype=np.float64)\n",
    "tableau_typed.dtype"
   ]
  },
  {
   "cell_type": "code",
   "execution_count": 150,
   "metadata": {
    "slideshow": {
     "slide_type": "fragment"
    }
   },
   "outputs": [
    {
     "data": {
      "text/plain": [
       "array([10.6,  2. ,  3. ,  4. ])"
      ]
     },
     "execution_count": 150,
     "metadata": {},
     "output_type": "execute_result"
    }
   ],
   "source": [
    "tableau_typed[0] = 10.6\n",
    "tableau_typed"
   ]
  },
  {
   "cell_type": "markdown",
   "metadata": {
    "slideshow": {
     "slide_type": "slide"
    }
   },
   "source": [
    "### Opérations mathématiques et vectorisation "
   ]
  },
  {
   "cell_type": "markdown",
   "metadata": {
    "slideshow": {
     "slide_type": "subslide"
    }
   },
   "source": [
    "NumPy permet de créer des tableaux multidimensionnel, nous venons de le voir. Mais une fois le tableau avec des données créé il faut pouvoir appliquer des traitements à ces données. Évidemment NumPy est la pour ça également ! "
   ]
  },
  {
   "cell_type": "markdown",
   "metadata": {
    "slideshow": {
     "slide_type": "subslide"
    }
   },
   "source": [
    "Pour commencer les opérations de bases `+`, `-`, `*`, `/` sont toutes disponibles dans numpy."
   ]
  },
  {
   "cell_type": "markdown",
   "metadata": {
    "slideshow": {
     "slide_type": "fragment"
    }
   },
   "source": [
    "Deux cas de figures à considérer : \n",
    "\n",
    "1. Opération entre deux `np.ndarray` : **les opérations sont termes à termes, y compris pour `*`**\n",
    "2. Opération entre un `np.ndarray` et un nombre"
   ]
  },
  {
   "cell_type": "markdown",
   "metadata": {
    "slideshow": {
     "slide_type": "subslide"
    }
   },
   "source": [
    "Par exemple : "
   ]
  },
  {
   "cell_type": "code",
   "execution_count": 151,
   "metadata": {
    "slideshow": {
     "slide_type": "fragment"
    }
   },
   "outputs": [],
   "source": [
    "a = np.array([[1,2,3],[4,5,6]], dtype=np.float64)\n",
    "b = np.array([[1,2,3],[4,5,6]], dtype=np.float64)"
   ]
  },
  {
   "cell_type": "code",
   "execution_count": 152,
   "metadata": {
    "slideshow": {
     "slide_type": "fragment"
    }
   },
   "outputs": [
    {
     "data": {
      "text/plain": [
       "array([[ 2.,  4.,  6.],\n",
       "       [ 8., 10., 12.]])"
      ]
     },
     "execution_count": 152,
     "metadata": {},
     "output_type": "execute_result"
    }
   ],
   "source": [
    "a + b "
   ]
  },
  {
   "cell_type": "code",
   "execution_count": 153,
   "metadata": {
    "slideshow": {
     "slide_type": "fragment"
    }
   },
   "outputs": [
    {
     "data": {
      "text/plain": [
       "array([[0., 0., 0.],\n",
       "       [0., 0., 0.]])"
      ]
     },
     "execution_count": 153,
     "metadata": {},
     "output_type": "execute_result"
    }
   ],
   "source": [
    "a - b "
   ]
  },
  {
   "cell_type": "code",
   "execution_count": 154,
   "metadata": {
    "slideshow": {
     "slide_type": "fragment"
    }
   },
   "outputs": [
    {
     "data": {
      "text/plain": [
       "array([[ 1.,  4.,  9.],\n",
       "       [16., 25., 36.]])"
      ]
     },
     "execution_count": 154,
     "metadata": {},
     "output_type": "execute_result"
    }
   ],
   "source": [
    "a * b"
   ]
  },
  {
   "cell_type": "code",
   "execution_count": 155,
   "metadata": {
    "slideshow": {
     "slide_type": "fragment"
    }
   },
   "outputs": [
    {
     "data": {
      "text/plain": [
       "array([[1., 1., 1.],\n",
       "       [1., 1., 1.]])"
      ]
     },
     "execution_count": 155,
     "metadata": {},
     "output_type": "execute_result"
    }
   ],
   "source": [
    "a / b "
   ]
  },
  {
   "cell_type": "markdown",
   "metadata": {
    "slideshow": {
     "slide_type": "subslide"
    }
   },
   "source": [
    "**Broadcasting** \n",
    "\n",
    "NumPy pour les opérations de base a un comportement qui peut vous sembler étrange lorsque les deux `np.ndarray` n'ont pas des `shape` concordantes. C'est ce qu'on appelle le broadcasting ! Si je somme un tableau `2,3` et un tableau `3,`, logiquement nous dirions que cela ne doit pas fonctionner. Mais dans les faits : "
   ]
  },
  {
   "cell_type": "code",
   "execution_count": 156,
   "metadata": {
    "slideshow": {
     "slide_type": "fragment"
    }
   },
   "outputs": [],
   "source": [
    "c = np.array([1,2,3], dtype=np.float64)"
   ]
  },
  {
   "cell_type": "code",
   "execution_count": 157,
   "metadata": {
    "slideshow": {
     "slide_type": "fragment"
    }
   },
   "outputs": [
    {
     "name": "stdout",
     "output_type": "stream",
     "text": [
      "a=[[1. 2. 3.]\n",
      " [4. 5. 6.]]\n",
      "c=[1. 2. 3.]\n"
     ]
    },
    {
     "data": {
      "text/plain": [
       "array([[2., 4., 6.],\n",
       "       [5., 7., 9.]])"
      ]
     },
     "execution_count": 157,
     "metadata": {},
     "output_type": "execute_result"
    }
   ],
   "source": [
    "print(f\"a={a}\")\n",
    "print(f\"c={c}\")\n",
    "a + c"
   ]
  },
  {
   "cell_type": "markdown",
   "metadata": {
    "slideshow": {
     "slide_type": "fragment"
    }
   },
   "source": [
    "Numpy a dans les faits remplacer le tableau `c=np.array([1,2,3])` par `np.array([[1,2,3], [1,2,3]])`. Ce comportement fonctionne pour toutes les opérations de base "
   ]
  },
  {
   "cell_type": "code",
   "execution_count": 158,
   "metadata": {
    "slideshow": {
     "slide_type": "subslide"
    }
   },
   "outputs": [
    {
     "data": {
      "text/plain": [
       "array([[1. , 1. , 1. ],\n",
       "       [4. , 2.5, 2. ]])"
      ]
     },
     "execution_count": 158,
     "metadata": {},
     "output_type": "execute_result"
    }
   ],
   "source": [
    "a / c"
   ]
  },
  {
   "cell_type": "code",
   "execution_count": 159,
   "metadata": {
    "slideshow": {
     "slide_type": "fragment"
    }
   },
   "outputs": [
    {
     "name": "stdout",
     "output_type": "stream",
     "text": [
      "[[1. 2. 3.]\n",
      " [4. 5. 6.]]\n",
      "[[1.]\n",
      " [2.]]\n"
     ]
    }
   ],
   "source": [
    "d = np.array([[1.,], [2.,]])\n",
    "print(a)\n",
    "print(d)"
   ]
  },
  {
   "cell_type": "code",
   "execution_count": 6,
   "metadata": {
    "slideshow": {
     "slide_type": "fragment"
    }
   },
   "outputs": [
    {
     "ename": "NameError",
     "evalue": "name 'a' is not defined",
     "output_type": "error",
     "traceback": [
      "\u001b[0;31m---------------------------------------------------------------------------\u001b[0m",
      "\u001b[0;31mNameError\u001b[0m                                 Traceback (most recent call last)",
      "\u001b[0;32m<ipython-input-6-4fbab87c839c>\u001b[0m in \u001b[0;36m<module>\u001b[0;34m\u001b[0m\n\u001b[0;32m----> 1\u001b[0;31m \u001b[0ma\u001b[0m \u001b[0;34m+\u001b[0m \u001b[0md\u001b[0m\u001b[0;34m\u001b[0m\u001b[0;34m\u001b[0m\u001b[0m\n\u001b[0m",
      "\u001b[0;31mNameError\u001b[0m: name 'a' is not defined"
     ]
    }
   ],
   "source": [
    "a + d"
   ]
  },
  {
   "cell_type": "code",
   "execution_count": 7,
   "metadata": {},
   "outputs": [
    {
     "data": {
      "text/plain": [
       "array([[1, 2, 3],\n",
       "       [2, 4, 6],\n",
       "       [3, 6, 9]])"
      ]
     },
     "execution_count": 7,
     "metadata": {},
     "output_type": "execute_result"
    }
   ],
   "source": [
    "v1 = np.array([1,2,3])\n",
    "v2 = np.array([[1,], [2,],[3]])\n",
    "v1*v2"
   ]
  },
  {
   "cell_type": "markdown",
   "metadata": {
    "slideshow": {
     "slide_type": "subslide"
    }
   },
   "source": [
    "C'est ce `broadcasting` qui nous permet également de faire les opérations de base entre un `np.ndarray` et un nombre. Par exemple : "
   ]
  },
  {
   "cell_type": "code",
   "execution_count": 161,
   "metadata": {
    "slideshow": {
     "slide_type": "fragment"
    }
   },
   "outputs": [
    {
     "data": {
      "text/plain": [
       "array([[ 2.,  4.,  6.],\n",
       "       [ 8., 10., 12.]])"
      ]
     },
     "execution_count": 161,
     "metadata": {},
     "output_type": "execute_result"
    }
   ],
   "source": [
    "2. * a "
   ]
  },
  {
   "cell_type": "code",
   "execution_count": 162,
   "metadata": {
    "slideshow": {
     "slide_type": "fragment"
    }
   },
   "outputs": [
    {
     "data": {
      "text/plain": [
       "array([[3., 4., 5.],\n",
       "       [6., 7., 8.]])"
      ]
     },
     "execution_count": 162,
     "metadata": {},
     "output_type": "execute_result"
    }
   ],
   "source": [
    "2 + a"
   ]
  },
  {
   "cell_type": "code",
   "execution_count": 163,
   "metadata": {
    "slideshow": {
     "slide_type": "fragment"
    }
   },
   "outputs": [
    {
     "name": "stdout",
     "output_type": "stream",
     "text": [
      "[[1. 2. 3.]\n",
      " [4. 5. 6.]]\n"
     ]
    },
    {
     "data": {
      "text/plain": [
       "array([[2.        , 1.        , 0.66666667],\n",
       "       [0.5       , 0.4       , 0.33333333]])"
      ]
     },
     "execution_count": 163,
     "metadata": {},
     "output_type": "execute_result"
    }
   ],
   "source": [
    "print(a)\n",
    "2 / a "
   ]
  },
  {
   "cell_type": "code",
   "execution_count": 164,
   "metadata": {
    "slideshow": {
     "slide_type": "fragment"
    }
   },
   "outputs": [
    {
     "data": {
      "text/plain": [
       "array([[0.5, 1. , 1.5],\n",
       "       [2. , 2.5, 3. ]])"
      ]
     },
     "execution_count": 164,
     "metadata": {},
     "output_type": "execute_result"
    }
   ],
   "source": [
    "a / 2. "
   ]
  },
  {
   "cell_type": "markdown",
   "metadata": {
    "slideshow": {
     "slide_type": "subslide"
    }
   },
   "source": [
    "**Le cas particulier du produit matriciel** "
   ]
  },
  {
   "cell_type": "markdown",
   "metadata": {
    "slideshow": {
     "slide_type": "fragment"
    }
   },
   "source": [
    "La question que vous vous posez certainement est mais est-ce que numpy sait faire un produit matriciel tel qu'on l'apprend à nos élèves de prépa ?"
   ]
  },
  {
   "cell_type": "markdown",
   "metadata": {
    "slideshow": {
     "slide_type": "fragment"
    }
   },
   "source": [
    "Pas d'inquiètude la réponse est OUI ! C'est juste que le produit matriciel entre deux `np.ndarray` qui auraient les tailles qui vont bien n'est pas symbolisé par l'opérateur `*` mais par `np.dot` ou `@`. "
   ]
  },
  {
   "cell_type": "markdown",
   "metadata": {
    "slideshow": {
     "slide_type": "subslide"
    }
   },
   "source": [
    "Par exemple : "
   ]
  },
  {
   "cell_type": "code",
   "execution_count": 8,
   "metadata": {
    "slideshow": {
     "slide_type": "fragment"
    }
   },
   "outputs": [],
   "source": [
    "a = np.random.rand(4,2)\n",
    "b = np.random.rand(2,5)"
   ]
  },
  {
   "cell_type": "code",
   "execution_count": 9,
   "metadata": {
    "slideshow": {
     "slide_type": "fragment"
    }
   },
   "outputs": [
    {
     "data": {
      "text/plain": [
       "array([[0.2198335 , 0.11082535, 0.1956089 , 0.40256804, 0.35602135],\n",
       "       [0.55340991, 0.23175136, 0.3858212 , 0.80441029, 0.78969818],\n",
       "       [0.47705646, 0.19147569, 0.31385713, 0.65669828, 0.66202105],\n",
       "       [0.11948114, 0.14892453, 0.30645629, 0.61120632, 0.39354043]])"
      ]
     },
     "execution_count": 9,
     "metadata": {},
     "output_type": "execute_result"
    }
   ],
   "source": [
    "a @ b "
   ]
  },
  {
   "cell_type": "code",
   "execution_count": 10,
   "metadata": {
    "slideshow": {
     "slide_type": "fragment"
    }
   },
   "outputs": [
    {
     "data": {
      "text/plain": [
       "array([[0.2198335 , 0.11082535, 0.1956089 , 0.40256804, 0.35602135],\n",
       "       [0.55340991, 0.23175136, 0.3858212 , 0.80441029, 0.78969818],\n",
       "       [0.47705646, 0.19147569, 0.31385713, 0.65669828, 0.66202105],\n",
       "       [0.11948114, 0.14892453, 0.30645629, 0.61120632, 0.39354043]])"
      ]
     },
     "execution_count": 10,
     "metadata": {},
     "output_type": "execute_result"
    }
   ],
   "source": [
    "np.dot(a, b)\n",
    "a.dot(b)"
   ]
  },
  {
   "cell_type": "markdown",
   "metadata": {
    "slideshow": {
     "slide_type": "subslide"
    }
   },
   "source": [
    "De la même manière pour faire un produit matrice-vecteur, qui n'est rien d'autre que le produit d'un tableau $M\\times N$ par une matrice $N\\times 1$, on procède de la manière suivante : "
   ]
  },
  {
   "cell_type": "code",
   "execution_count": 11,
   "metadata": {
    "slideshow": {
     "slide_type": "fragment"
    }
   },
   "outputs": [
    {
     "data": {
      "text/plain": [
       "array([[0.49806786],\n",
       "       [1.06268985],\n",
       "       [0.88248298],\n",
       "       [0.62956606]])"
      ]
     },
     "execution_count": 11,
     "metadata": {},
     "output_type": "execute_result"
    }
   ],
   "source": [
    "v = np.random.rand(2,1)\n",
    "\n",
    "a@v"
   ]
  },
  {
   "cell_type": "markdown",
   "metadata": {
    "slideshow": {
     "slide_type": "subslide"
    }
   },
   "source": [
    "**La transposée d'un tableau** \n",
    "\n",
    "Autre élément incontournable du calcul matriciel, la transposée. Évidemment là encore Numpy a tout prévu. Pour calculer la transposée d'un `np.ndarray` il suffit de procéder de la manière suivante : "
   ]
  },
  {
   "cell_type": "code",
   "execution_count": 12,
   "metadata": {
    "slideshow": {
     "slide_type": "fragment"
    }
   },
   "outputs": [
    {
     "data": {
      "text/plain": [
       "array([[0.95888405, 0.66399018, 0.12339923, 0.00417275],\n",
       "       [0.61878416, 0.82744894, 0.12221623, 0.11730532]])"
      ]
     },
     "execution_count": 12,
     "metadata": {},
     "output_type": "execute_result"
    }
   ],
   "source": [
    "a = np.random.rand(2,4)\n",
    "a"
   ]
  },
  {
   "cell_type": "code",
   "execution_count": 13,
   "metadata": {
    "slideshow": {
     "slide_type": "fragment"
    }
   },
   "outputs": [
    {
     "data": {
      "text/plain": [
       "array([[0.95888405, 0.61878416],\n",
       "       [0.66399018, 0.82744894],\n",
       "       [0.12339923, 0.12221623],\n",
       "       [0.00417275, 0.11730532]])"
      ]
     },
     "execution_count": 13,
     "metadata": {},
     "output_type": "execute_result"
    }
   ],
   "source": [
    "b1 = a.T\n",
    "b1"
   ]
  },
  {
   "cell_type": "code",
   "execution_count": 14,
   "metadata": {
    "slideshow": {
     "slide_type": "fragment"
    }
   },
   "outputs": [
    {
     "data": {
      "text/plain": [
       "array([[0.95888405, 0.61878416],\n",
       "       [0.66399018, 0.82744894],\n",
       "       [0.12339923, 0.12221623],\n",
       "       [0.00417275, 0.11730532]])"
      ]
     },
     "execution_count": 14,
     "metadata": {},
     "output_type": "execute_result"
    }
   ],
   "source": [
    "b2 = np.transpose(a)\n",
    "b2 "
   ]
  },
  {
   "cell_type": "markdown",
   "metadata": {
    "slideshow": {
     "slide_type": "subslide"
    }
   },
   "source": [
    "Attention l'opération de transpositon ne s'applique qu'à des `np.ndarray` de rang supérieur ou égal à 2. Par exemple la transposé d'un \"vecteur ligne\" ne donne pas un vecteur colonne :"
   ]
  },
  {
   "cell_type": "code",
   "execution_count": 18,
   "metadata": {
    "slideshow": {
     "slide_type": "fragment"
    }
   },
   "outputs": [
    {
     "name": "stdout",
     "output_type": "stream",
     "text": [
      "v = [0.91199577 0.97393548 0.80517366 0.58756618]\n",
      "vt = [0.91199577 0.97393548 0.80517366 0.58756618]\n",
      "vt = [[0.91199577]\n",
      " [0.97393548]\n",
      " [0.80517366]\n",
      " [0.58756618]]\n"
     ]
    }
   ],
   "source": [
    "v = np.random.rand(4)\n",
    "print(f\"v = {v}\")\n",
    "vt = v.T\n",
    "print(f\"vt = {vt}\")\n",
    "\n",
    "vt = v.reshape((-1,1))\n",
    "print(f\"vt = {vt}\")\n"
   ]
  },
  {
   "cell_type": "markdown",
   "metadata": {
    "slideshow": {
     "slide_type": "slide"
    }
   },
   "source": [
    "### Opérations plus complexes "
   ]
  },
  {
   "cell_type": "markdown",
   "metadata": {
    "slideshow": {
     "slide_type": "subslide"
    }
   },
   "source": [
    "Bien évidemment les opérations `+`, `-`, `*`, `/` ne sont pas les seules disponibles. Toutes les fonctions mathématiques classiques sont définies dans numpy. \n",
    "\n",
    "* `np.cos`, `np.sin`, `np.tan`\n",
    "* `np.arccos`, `np.arcsin`, `np.arctan`\n",
    "* `np.degrees`, `np.radians`\n",
    "* `np.exp`, `np.log`\n",
    "\n",
    "L'intérêt de ces fonctions, qui existent déjà toutes dans le module `math` de Python, est qu'elles sont faites pour travailler sur des `np.ndarray`. "
   ]
  },
  {
   "cell_type": "markdown",
   "metadata": {
    "slideshow": {
     "slide_type": "subslide"
    }
   },
   "source": [
    "Par exemple si on évaluer la fonction $\\sin x$. "
   ]
  },
  {
   "cell_type": "markdown",
   "metadata": {
    "slideshow": {
     "slide_type": "fragment"
    }
   },
   "source": [
    "En Python de base on ferait quelque chose du genre "
   ]
  },
  {
   "cell_type": "code",
   "execution_count": 173,
   "metadata": {
    "slideshow": {
     "slide_type": "fragment"
    }
   },
   "outputs": [
    {
     "data": {
      "image/svg+xml": [
       "<?xml version=\"1.0\" encoding=\"utf-8\" standalone=\"no\"?>\n",
       "<!DOCTYPE svg PUBLIC \"-//W3C//DTD SVG 1.1//EN\"\n",
       "  \"http://www.w3.org/Graphics/SVG/1.1/DTD/svg11.dtd\">\n",
       "<!-- Created with matplotlib (https://matplotlib.org/) -->\n",
       "<svg height=\"248.518125pt\" version=\"1.1\" viewBox=\"0 0 386.845312 248.518125\" width=\"386.845312pt\" xmlns=\"http://www.w3.org/2000/svg\" xmlns:xlink=\"http://www.w3.org/1999/xlink\">\n",
       " <defs>\n",
       "  <style type=\"text/css\">\n",
       "*{stroke-linecap:butt;stroke-linejoin:round;}\n",
       "  </style>\n",
       " </defs>\n",
       " <g id=\"figure_1\">\n",
       "  <g id=\"patch_1\">\n",
       "   <path d=\"M 0 248.518125 \n",
       "L 386.845312 248.518125 \n",
       "L 386.845312 0 \n",
       "L 0 0 \n",
       "z\n",
       "\" style=\"fill:none;\"/>\n",
       "  </g>\n",
       "  <g id=\"axes_1\">\n",
       "   <g id=\"patch_2\">\n",
       "    <path d=\"M 44.845313 224.64 \n",
       "L 379.645313 224.64 \n",
       "L 379.645313 7.2 \n",
       "L 44.845313 7.2 \n",
       "z\n",
       "\" style=\"fill:#ffffff;\"/>\n",
       "   </g>\n",
       "   <g id=\"matplotlib.axis_1\">\n",
       "    <g id=\"xtick_1\">\n",
       "     <g id=\"line2d_1\">\n",
       "      <defs>\n",
       "       <path d=\"M 0 0 \n",
       "L 0 3.5 \n",
       "\" id=\"m8734b056ee\" style=\"stroke:#000000;stroke-width:0.8;\"/>\n",
       "      </defs>\n",
       "      <g>\n",
       "       <use style=\"stroke:#000000;stroke-width:0.8;\" x=\"60.063494\" xlink:href=\"#m8734b056ee\" y=\"224.64\"/>\n",
       "      </g>\n",
       "     </g>\n",
       "     <g id=\"text_1\">\n",
       "      <!-- 0 -->\n",
       "      <defs>\n",
       "       <path d=\"M 31.78125 66.40625 \n",
       "Q 24.171875 66.40625 20.328125 58.90625 \n",
       "Q 16.5 51.421875 16.5 36.375 \n",
       "Q 16.5 21.390625 20.328125 13.890625 \n",
       "Q 24.171875 6.390625 31.78125 6.390625 \n",
       "Q 39.453125 6.390625 43.28125 13.890625 \n",
       "Q 47.125 21.390625 47.125 36.375 \n",
       "Q 47.125 51.421875 43.28125 58.90625 \n",
       "Q 39.453125 66.40625 31.78125 66.40625 \n",
       "z\n",
       "M 31.78125 74.21875 \n",
       "Q 44.046875 74.21875 50.515625 64.515625 \n",
       "Q 56.984375 54.828125 56.984375 36.375 \n",
       "Q 56.984375 17.96875 50.515625 8.265625 \n",
       "Q 44.046875 -1.421875 31.78125 -1.421875 \n",
       "Q 19.53125 -1.421875 13.0625 8.265625 \n",
       "Q 6.59375 17.96875 6.59375 36.375 \n",
       "Q 6.59375 54.828125 13.0625 64.515625 \n",
       "Q 19.53125 74.21875 31.78125 74.21875 \n",
       "z\n",
       "\" id=\"DejaVuSans-48\"/>\n",
       "      </defs>\n",
       "      <g transform=\"translate(56.882244 239.238437)scale(0.1 -0.1)\">\n",
       "       <use xlink:href=\"#DejaVuSans-48\"/>\n",
       "      </g>\n",
       "     </g>\n",
       "    </g>\n",
       "    <g id=\"xtick_2\">\n",
       "     <g id=\"line2d_2\">\n",
       "      <g>\n",
       "       <use style=\"stroke:#000000;stroke-width:0.8;\" x=\"108.504472\" xlink:href=\"#m8734b056ee\" y=\"224.64\"/>\n",
       "      </g>\n",
       "     </g>\n",
       "     <g id=\"text_2\">\n",
       "      <!-- 1 -->\n",
       "      <defs>\n",
       "       <path d=\"M 12.40625 8.296875 \n",
       "L 28.515625 8.296875 \n",
       "L 28.515625 63.921875 \n",
       "L 10.984375 60.40625 \n",
       "L 10.984375 69.390625 \n",
       "L 28.421875 72.90625 \n",
       "L 38.28125 72.90625 \n",
       "L 38.28125 8.296875 \n",
       "L 54.390625 8.296875 \n",
       "L 54.390625 0 \n",
       "L 12.40625 0 \n",
       "z\n",
       "\" id=\"DejaVuSans-49\"/>\n",
       "      </defs>\n",
       "      <g transform=\"translate(105.323222 239.238437)scale(0.1 -0.1)\">\n",
       "       <use xlink:href=\"#DejaVuSans-49\"/>\n",
       "      </g>\n",
       "     </g>\n",
       "    </g>\n",
       "    <g id=\"xtick_3\">\n",
       "     <g id=\"line2d_3\">\n",
       "      <g>\n",
       "       <use style=\"stroke:#000000;stroke-width:0.8;\" x=\"156.945449\" xlink:href=\"#m8734b056ee\" y=\"224.64\"/>\n",
       "      </g>\n",
       "     </g>\n",
       "     <g id=\"text_3\">\n",
       "      <!-- 2 -->\n",
       "      <defs>\n",
       "       <path d=\"M 19.1875 8.296875 \n",
       "L 53.609375 8.296875 \n",
       "L 53.609375 0 \n",
       "L 7.328125 0 \n",
       "L 7.328125 8.296875 \n",
       "Q 12.9375 14.109375 22.625 23.890625 \n",
       "Q 32.328125 33.6875 34.8125 36.53125 \n",
       "Q 39.546875 41.84375 41.421875 45.53125 \n",
       "Q 43.3125 49.21875 43.3125 52.78125 \n",
       "Q 43.3125 58.59375 39.234375 62.25 \n",
       "Q 35.15625 65.921875 28.609375 65.921875 \n",
       "Q 23.96875 65.921875 18.8125 64.3125 \n",
       "Q 13.671875 62.703125 7.8125 59.421875 \n",
       "L 7.8125 69.390625 \n",
       "Q 13.765625 71.78125 18.9375 73 \n",
       "Q 24.125 74.21875 28.421875 74.21875 \n",
       "Q 39.75 74.21875 46.484375 68.546875 \n",
       "Q 53.21875 62.890625 53.21875 53.421875 \n",
       "Q 53.21875 48.921875 51.53125 44.890625 \n",
       "Q 49.859375 40.875 45.40625 35.40625 \n",
       "Q 44.1875 33.984375 37.640625 27.21875 \n",
       "Q 31.109375 20.453125 19.1875 8.296875 \n",
       "z\n",
       "\" id=\"DejaVuSans-50\"/>\n",
       "      </defs>\n",
       "      <g transform=\"translate(153.764199 239.238437)scale(0.1 -0.1)\">\n",
       "       <use xlink:href=\"#DejaVuSans-50\"/>\n",
       "      </g>\n",
       "     </g>\n",
       "    </g>\n",
       "    <g id=\"xtick_4\">\n",
       "     <g id=\"line2d_4\">\n",
       "      <g>\n",
       "       <use style=\"stroke:#000000;stroke-width:0.8;\" x=\"205.386426\" xlink:href=\"#m8734b056ee\" y=\"224.64\"/>\n",
       "      </g>\n",
       "     </g>\n",
       "     <g id=\"text_4\">\n",
       "      <!-- 3 -->\n",
       "      <defs>\n",
       "       <path d=\"M 40.578125 39.3125 \n",
       "Q 47.65625 37.796875 51.625 33 \n",
       "Q 55.609375 28.21875 55.609375 21.1875 \n",
       "Q 55.609375 10.40625 48.1875 4.484375 \n",
       "Q 40.765625 -1.421875 27.09375 -1.421875 \n",
       "Q 22.515625 -1.421875 17.65625 -0.515625 \n",
       "Q 12.796875 0.390625 7.625 2.203125 \n",
       "L 7.625 11.71875 \n",
       "Q 11.71875 9.328125 16.59375 8.109375 \n",
       "Q 21.484375 6.890625 26.8125 6.890625 \n",
       "Q 36.078125 6.890625 40.9375 10.546875 \n",
       "Q 45.796875 14.203125 45.796875 21.1875 \n",
       "Q 45.796875 27.640625 41.28125 31.265625 \n",
       "Q 36.765625 34.90625 28.71875 34.90625 \n",
       "L 20.21875 34.90625 \n",
       "L 20.21875 43.015625 \n",
       "L 29.109375 43.015625 \n",
       "Q 36.375 43.015625 40.234375 45.921875 \n",
       "Q 44.09375 48.828125 44.09375 54.296875 \n",
       "Q 44.09375 59.90625 40.109375 62.90625 \n",
       "Q 36.140625 65.921875 28.71875 65.921875 \n",
       "Q 24.65625 65.921875 20.015625 65.03125 \n",
       "Q 15.375 64.15625 9.8125 62.3125 \n",
       "L 9.8125 71.09375 \n",
       "Q 15.4375 72.65625 20.34375 73.4375 \n",
       "Q 25.25 74.21875 29.59375 74.21875 \n",
       "Q 40.828125 74.21875 47.359375 69.109375 \n",
       "Q 53.90625 64.015625 53.90625 55.328125 \n",
       "Q 53.90625 49.265625 50.4375 45.09375 \n",
       "Q 46.96875 40.921875 40.578125 39.3125 \n",
       "z\n",
       "\" id=\"DejaVuSans-51\"/>\n",
       "      </defs>\n",
       "      <g transform=\"translate(202.205176 239.238437)scale(0.1 -0.1)\">\n",
       "       <use xlink:href=\"#DejaVuSans-51\"/>\n",
       "      </g>\n",
       "     </g>\n",
       "    </g>\n",
       "    <g id=\"xtick_5\">\n",
       "     <g id=\"line2d_5\">\n",
       "      <g>\n",
       "       <use style=\"stroke:#000000;stroke-width:0.8;\" x=\"253.827403\" xlink:href=\"#m8734b056ee\" y=\"224.64\"/>\n",
       "      </g>\n",
       "     </g>\n",
       "     <g id=\"text_5\">\n",
       "      <!-- 4 -->\n",
       "      <defs>\n",
       "       <path d=\"M 37.796875 64.3125 \n",
       "L 12.890625 25.390625 \n",
       "L 37.796875 25.390625 \n",
       "z\n",
       "M 35.203125 72.90625 \n",
       "L 47.609375 72.90625 \n",
       "L 47.609375 25.390625 \n",
       "L 58.015625 25.390625 \n",
       "L 58.015625 17.1875 \n",
       "L 47.609375 17.1875 \n",
       "L 47.609375 0 \n",
       "L 37.796875 0 \n",
       "L 37.796875 17.1875 \n",
       "L 4.890625 17.1875 \n",
       "L 4.890625 26.703125 \n",
       "z\n",
       "\" id=\"DejaVuSans-52\"/>\n",
       "      </defs>\n",
       "      <g transform=\"translate(250.646153 239.238437)scale(0.1 -0.1)\">\n",
       "       <use xlink:href=\"#DejaVuSans-52\"/>\n",
       "      </g>\n",
       "     </g>\n",
       "    </g>\n",
       "    <g id=\"xtick_6\">\n",
       "     <g id=\"line2d_6\">\n",
       "      <g>\n",
       "       <use style=\"stroke:#000000;stroke-width:0.8;\" x=\"302.26838\" xlink:href=\"#m8734b056ee\" y=\"224.64\"/>\n",
       "      </g>\n",
       "     </g>\n",
       "     <g id=\"text_6\">\n",
       "      <!-- 5 -->\n",
       "      <defs>\n",
       "       <path d=\"M 10.796875 72.90625 \n",
       "L 49.515625 72.90625 \n",
       "L 49.515625 64.59375 \n",
       "L 19.828125 64.59375 \n",
       "L 19.828125 46.734375 \n",
       "Q 21.96875 47.46875 24.109375 47.828125 \n",
       "Q 26.265625 48.1875 28.421875 48.1875 \n",
       "Q 40.625 48.1875 47.75 41.5 \n",
       "Q 54.890625 34.8125 54.890625 23.390625 \n",
       "Q 54.890625 11.625 47.5625 5.09375 \n",
       "Q 40.234375 -1.421875 26.90625 -1.421875 \n",
       "Q 22.3125 -1.421875 17.546875 -0.640625 \n",
       "Q 12.796875 0.140625 7.71875 1.703125 \n",
       "L 7.71875 11.625 \n",
       "Q 12.109375 9.234375 16.796875 8.0625 \n",
       "Q 21.484375 6.890625 26.703125 6.890625 \n",
       "Q 35.15625 6.890625 40.078125 11.328125 \n",
       "Q 45.015625 15.765625 45.015625 23.390625 \n",
       "Q 45.015625 31 40.078125 35.4375 \n",
       "Q 35.15625 39.890625 26.703125 39.890625 \n",
       "Q 22.75 39.890625 18.8125 39.015625 \n",
       "Q 14.890625 38.140625 10.796875 36.28125 \n",
       "z\n",
       "\" id=\"DejaVuSans-53\"/>\n",
       "      </defs>\n",
       "      <g transform=\"translate(299.08713 239.238437)scale(0.1 -0.1)\">\n",
       "       <use xlink:href=\"#DejaVuSans-53\"/>\n",
       "      </g>\n",
       "     </g>\n",
       "    </g>\n",
       "    <g id=\"xtick_7\">\n",
       "     <g id=\"line2d_7\">\n",
       "      <g>\n",
       "       <use style=\"stroke:#000000;stroke-width:0.8;\" x=\"350.709358\" xlink:href=\"#m8734b056ee\" y=\"224.64\"/>\n",
       "      </g>\n",
       "     </g>\n",
       "     <g id=\"text_7\">\n",
       "      <!-- 6 -->\n",
       "      <defs>\n",
       "       <path d=\"M 33.015625 40.375 \n",
       "Q 26.375 40.375 22.484375 35.828125 \n",
       "Q 18.609375 31.296875 18.609375 23.390625 \n",
       "Q 18.609375 15.53125 22.484375 10.953125 \n",
       "Q 26.375 6.390625 33.015625 6.390625 \n",
       "Q 39.65625 6.390625 43.53125 10.953125 \n",
       "Q 47.40625 15.53125 47.40625 23.390625 \n",
       "Q 47.40625 31.296875 43.53125 35.828125 \n",
       "Q 39.65625 40.375 33.015625 40.375 \n",
       "z\n",
       "M 52.59375 71.296875 \n",
       "L 52.59375 62.3125 \n",
       "Q 48.875 64.0625 45.09375 64.984375 \n",
       "Q 41.3125 65.921875 37.59375 65.921875 \n",
       "Q 27.828125 65.921875 22.671875 59.328125 \n",
       "Q 17.53125 52.734375 16.796875 39.40625 \n",
       "Q 19.671875 43.65625 24.015625 45.921875 \n",
       "Q 28.375 48.1875 33.59375 48.1875 \n",
       "Q 44.578125 48.1875 50.953125 41.515625 \n",
       "Q 57.328125 34.859375 57.328125 23.390625 \n",
       "Q 57.328125 12.15625 50.6875 5.359375 \n",
       "Q 44.046875 -1.421875 33.015625 -1.421875 \n",
       "Q 20.359375 -1.421875 13.671875 8.265625 \n",
       "Q 6.984375 17.96875 6.984375 36.375 \n",
       "Q 6.984375 53.65625 15.1875 63.9375 \n",
       "Q 23.390625 74.21875 37.203125 74.21875 \n",
       "Q 40.921875 74.21875 44.703125 73.484375 \n",
       "Q 48.484375 72.75 52.59375 71.296875 \n",
       "z\n",
       "\" id=\"DejaVuSans-54\"/>\n",
       "      </defs>\n",
       "      <g transform=\"translate(347.528108 239.238437)scale(0.1 -0.1)\">\n",
       "       <use xlink:href=\"#DejaVuSans-54\"/>\n",
       "      </g>\n",
       "     </g>\n",
       "    </g>\n",
       "   </g>\n",
       "   <g id=\"matplotlib.axis_2\">\n",
       "    <g id=\"ytick_1\">\n",
       "     <g id=\"line2d_8\">\n",
       "      <defs>\n",
       "       <path d=\"M 0 0 \n",
       "L -3.5 0 \n",
       "\" id=\"m4ba652ef01\" style=\"stroke:#000000;stroke-width:0.8;\"/>\n",
       "      </defs>\n",
       "      <g>\n",
       "       <use style=\"stroke:#000000;stroke-width:0.8;\" x=\"44.845313\" xlink:href=\"#m4ba652ef01\" y=\"214.756364\"/>\n",
       "      </g>\n",
       "     </g>\n",
       "     <g id=\"text_8\">\n",
       "      <!-- −1.00 -->\n",
       "      <defs>\n",
       "       <path d=\"M 10.59375 35.5 \n",
       "L 73.1875 35.5 \n",
       "L 73.1875 27.203125 \n",
       "L 10.59375 27.203125 \n",
       "z\n",
       "\" id=\"DejaVuSans-8722\"/>\n",
       "       <path d=\"M 10.6875 12.40625 \n",
       "L 21 12.40625 \n",
       "L 21 0 \n",
       "L 10.6875 0 \n",
       "z\n",
       "\" id=\"DejaVuSans-46\"/>\n",
       "      </defs>\n",
       "      <g transform=\"translate(7.2 218.555582)scale(0.1 -0.1)\">\n",
       "       <use xlink:href=\"#DejaVuSans-8722\"/>\n",
       "       <use x=\"83.789062\" xlink:href=\"#DejaVuSans-49\"/>\n",
       "       <use x=\"147.412109\" xlink:href=\"#DejaVuSans-46\"/>\n",
       "       <use x=\"179.199219\" xlink:href=\"#DejaVuSans-48\"/>\n",
       "       <use x=\"242.822266\" xlink:href=\"#DejaVuSans-48\"/>\n",
       "      </g>\n",
       "     </g>\n",
       "    </g>\n",
       "    <g id=\"ytick_2\">\n",
       "     <g id=\"line2d_9\">\n",
       "      <g>\n",
       "       <use style=\"stroke:#000000;stroke-width:0.8;\" x=\"44.845313\" xlink:href=\"#m4ba652ef01\" y=\"190.047273\"/>\n",
       "      </g>\n",
       "     </g>\n",
       "     <g id=\"text_9\">\n",
       "      <!-- −0.75 -->\n",
       "      <defs>\n",
       "       <path d=\"M 8.203125 72.90625 \n",
       "L 55.078125 72.90625 \n",
       "L 55.078125 68.703125 \n",
       "L 28.609375 0 \n",
       "L 18.3125 0 \n",
       "L 43.21875 64.59375 \n",
       "L 8.203125 64.59375 \n",
       "z\n",
       "\" id=\"DejaVuSans-55\"/>\n",
       "      </defs>\n",
       "      <g transform=\"translate(7.2 193.846491)scale(0.1 -0.1)\">\n",
       "       <use xlink:href=\"#DejaVuSans-8722\"/>\n",
       "       <use x=\"83.789062\" xlink:href=\"#DejaVuSans-48\"/>\n",
       "       <use x=\"147.412109\" xlink:href=\"#DejaVuSans-46\"/>\n",
       "       <use x=\"179.199219\" xlink:href=\"#DejaVuSans-55\"/>\n",
       "       <use x=\"242.822266\" xlink:href=\"#DejaVuSans-53\"/>\n",
       "      </g>\n",
       "     </g>\n",
       "    </g>\n",
       "    <g id=\"ytick_3\">\n",
       "     <g id=\"line2d_10\">\n",
       "      <g>\n",
       "       <use style=\"stroke:#000000;stroke-width:0.8;\" x=\"44.845313\" xlink:href=\"#m4ba652ef01\" y=\"165.338182\"/>\n",
       "      </g>\n",
       "     </g>\n",
       "     <g id=\"text_10\">\n",
       "      <!-- −0.50 -->\n",
       "      <g transform=\"translate(7.2 169.137401)scale(0.1 -0.1)\">\n",
       "       <use xlink:href=\"#DejaVuSans-8722\"/>\n",
       "       <use x=\"83.789062\" xlink:href=\"#DejaVuSans-48\"/>\n",
       "       <use x=\"147.412109\" xlink:href=\"#DejaVuSans-46\"/>\n",
       "       <use x=\"179.199219\" xlink:href=\"#DejaVuSans-53\"/>\n",
       "       <use x=\"242.822266\" xlink:href=\"#DejaVuSans-48\"/>\n",
       "      </g>\n",
       "     </g>\n",
       "    </g>\n",
       "    <g id=\"ytick_4\">\n",
       "     <g id=\"line2d_11\">\n",
       "      <g>\n",
       "       <use style=\"stroke:#000000;stroke-width:0.8;\" x=\"44.845313\" xlink:href=\"#m4ba652ef01\" y=\"140.629091\"/>\n",
       "      </g>\n",
       "     </g>\n",
       "     <g id=\"text_11\">\n",
       "      <!-- −0.25 -->\n",
       "      <g transform=\"translate(7.2 144.42831)scale(0.1 -0.1)\">\n",
       "       <use xlink:href=\"#DejaVuSans-8722\"/>\n",
       "       <use x=\"83.789062\" xlink:href=\"#DejaVuSans-48\"/>\n",
       "       <use x=\"147.412109\" xlink:href=\"#DejaVuSans-46\"/>\n",
       "       <use x=\"179.199219\" xlink:href=\"#DejaVuSans-50\"/>\n",
       "       <use x=\"242.822266\" xlink:href=\"#DejaVuSans-53\"/>\n",
       "      </g>\n",
       "     </g>\n",
       "    </g>\n",
       "    <g id=\"ytick_5\">\n",
       "     <g id=\"line2d_12\">\n",
       "      <g>\n",
       "       <use style=\"stroke:#000000;stroke-width:0.8;\" x=\"44.845313\" xlink:href=\"#m4ba652ef01\" y=\"115.92\"/>\n",
       "      </g>\n",
       "     </g>\n",
       "     <g id=\"text_12\">\n",
       "      <!-- 0.00 -->\n",
       "      <g transform=\"translate(15.579688 119.719219)scale(0.1 -0.1)\">\n",
       "       <use xlink:href=\"#DejaVuSans-48\"/>\n",
       "       <use x=\"63.623047\" xlink:href=\"#DejaVuSans-46\"/>\n",
       "       <use x=\"95.410156\" xlink:href=\"#DejaVuSans-48\"/>\n",
       "       <use x=\"159.033203\" xlink:href=\"#DejaVuSans-48\"/>\n",
       "      </g>\n",
       "     </g>\n",
       "    </g>\n",
       "    <g id=\"ytick_6\">\n",
       "     <g id=\"line2d_13\">\n",
       "      <g>\n",
       "       <use style=\"stroke:#000000;stroke-width:0.8;\" x=\"44.845313\" xlink:href=\"#m4ba652ef01\" y=\"91.210909\"/>\n",
       "      </g>\n",
       "     </g>\n",
       "     <g id=\"text_13\">\n",
       "      <!-- 0.25 -->\n",
       "      <g transform=\"translate(15.579688 95.010128)scale(0.1 -0.1)\">\n",
       "       <use xlink:href=\"#DejaVuSans-48\"/>\n",
       "       <use x=\"63.623047\" xlink:href=\"#DejaVuSans-46\"/>\n",
       "       <use x=\"95.410156\" xlink:href=\"#DejaVuSans-50\"/>\n",
       "       <use x=\"159.033203\" xlink:href=\"#DejaVuSans-53\"/>\n",
       "      </g>\n",
       "     </g>\n",
       "    </g>\n",
       "    <g id=\"ytick_7\">\n",
       "     <g id=\"line2d_14\">\n",
       "      <g>\n",
       "       <use style=\"stroke:#000000;stroke-width:0.8;\" x=\"44.845313\" xlink:href=\"#m4ba652ef01\" y=\"66.501818\"/>\n",
       "      </g>\n",
       "     </g>\n",
       "     <g id=\"text_14\">\n",
       "      <!-- 0.50 -->\n",
       "      <g transform=\"translate(15.579688 70.301037)scale(0.1 -0.1)\">\n",
       "       <use xlink:href=\"#DejaVuSans-48\"/>\n",
       "       <use x=\"63.623047\" xlink:href=\"#DejaVuSans-46\"/>\n",
       "       <use x=\"95.410156\" xlink:href=\"#DejaVuSans-53\"/>\n",
       "       <use x=\"159.033203\" xlink:href=\"#DejaVuSans-48\"/>\n",
       "      </g>\n",
       "     </g>\n",
       "    </g>\n",
       "    <g id=\"ytick_8\">\n",
       "     <g id=\"line2d_15\">\n",
       "      <g>\n",
       "       <use style=\"stroke:#000000;stroke-width:0.8;\" x=\"44.845313\" xlink:href=\"#m4ba652ef01\" y=\"41.792727\"/>\n",
       "      </g>\n",
       "     </g>\n",
       "     <g id=\"text_15\">\n",
       "      <!-- 0.75 -->\n",
       "      <g transform=\"translate(15.579688 45.591946)scale(0.1 -0.1)\">\n",
       "       <use xlink:href=\"#DejaVuSans-48\"/>\n",
       "       <use x=\"63.623047\" xlink:href=\"#DejaVuSans-46\"/>\n",
       "       <use x=\"95.410156\" xlink:href=\"#DejaVuSans-55\"/>\n",
       "       <use x=\"159.033203\" xlink:href=\"#DejaVuSans-53\"/>\n",
       "      </g>\n",
       "     </g>\n",
       "    </g>\n",
       "    <g id=\"ytick_9\">\n",
       "     <g id=\"line2d_16\">\n",
       "      <g>\n",
       "       <use style=\"stroke:#000000;stroke-width:0.8;\" x=\"44.845313\" xlink:href=\"#m4ba652ef01\" y=\"17.083636\"/>\n",
       "      </g>\n",
       "     </g>\n",
       "     <g id=\"text_16\">\n",
       "      <!-- 1.00 -->\n",
       "      <g transform=\"translate(15.579688 20.882855)scale(0.1 -0.1)\">\n",
       "       <use xlink:href=\"#DejaVuSans-49\"/>\n",
       "       <use x=\"63.623047\" xlink:href=\"#DejaVuSans-46\"/>\n",
       "       <use x=\"95.410156\" xlink:href=\"#DejaVuSans-48\"/>\n",
       "       <use x=\"159.033203\" xlink:href=\"#DejaVuSans-48\"/>\n",
       "      </g>\n",
       "     </g>\n",
       "    </g>\n",
       "   </g>\n",
       "   <g id=\"line2d_17\">\n",
       "    <path clip-path=\"url(#p192b98b3ac)\" d=\"M 60.063494 115.92 \n",
       "L 63.107131 109.714013 \n",
       "L 66.150767 103.532519 \n",
       "L 69.194403 97.399912 \n",
       "L 72.23804 91.340396 \n",
       "L 75.281676 85.377884 \n",
       "L 78.325313 79.535908 \n",
       "L 81.368949 73.837523 \n",
       "L 84.412585 68.305219 \n",
       "L 87.456222 62.960828 \n",
       "L 90.499858 57.825443 \n",
       "L 93.543494 52.919331 \n",
       "L 96.587131 48.261853 \n",
       "L 99.630767 43.871392 \n",
       "L 102.674403 39.765273 \n",
       "L 105.71804 35.959702 \n",
       "L 108.761676 32.469698 \n",
       "L 111.805313 29.309034 \n",
       "L 114.848949 26.490184 \n",
       "L 117.892585 24.024273 \n",
       "L 120.936222 21.921032 \n",
       "L 123.979858 20.188762 \n",
       "L 127.023494 18.8343 \n",
       "L 130.067131 17.862991 \n",
       "L 133.110767 17.278667 \n",
       "L 136.154403 17.083636 \n",
       "L 139.19804 17.278667 \n",
       "L 142.241676 17.862991 \n",
       "L 145.285313 18.8343 \n",
       "L 148.328949 20.188762 \n",
       "L 151.372585 21.921032 \n",
       "L 154.416222 24.024273 \n",
       "L 157.459858 26.490184 \n",
       "L 160.503494 29.309034 \n",
       "L 163.547131 32.469698 \n",
       "L 166.590767 35.959702 \n",
       "L 169.634403 39.765273 \n",
       "L 172.67804 43.871392 \n",
       "L 175.721676 48.261853 \n",
       "L 178.765313 52.919331 \n",
       "L 181.808949 57.825443 \n",
       "L 184.852585 62.960828 \n",
       "L 187.896222 68.305219 \n",
       "L 190.939858 73.837523 \n",
       "L 193.983494 79.535908 \n",
       "L 197.027131 85.377884 \n",
       "L 200.070767 91.340396 \n",
       "L 203.114403 97.399912 \n",
       "L 206.15804 103.532519 \n",
       "L 209.201676 109.714013 \n",
       "L 212.245313 115.92 \n",
       "L 215.288949 122.125987 \n",
       "L 218.332585 128.307481 \n",
       "L 221.376222 134.440088 \n",
       "L 224.419858 140.499604 \n",
       "L 227.463494 146.462116 \n",
       "L 230.507131 152.304092 \n",
       "L 233.550767 158.002477 \n",
       "L 236.594403 163.534781 \n",
       "L 239.63804 168.879172 \n",
       "L 242.681676 174.014557 \n",
       "L 245.725313 178.920669 \n",
       "L 248.768949 183.578147 \n",
       "L 251.812585 187.968608 \n",
       "L 254.856222 192.074727 \n",
       "L 257.899858 195.880298 \n",
       "L 260.943494 199.370302 \n",
       "L 263.987131 202.530966 \n",
       "L 267.030767 205.349816 \n",
       "L 270.074403 207.815727 \n",
       "L 273.11804 209.918968 \n",
       "L 276.161676 211.651238 \n",
       "L 279.205313 213.0057 \n",
       "L 282.248949 213.977009 \n",
       "L 285.292585 214.561333 \n",
       "L 288.336222 214.756364 \n",
       "L 291.379858 214.561333 \n",
       "L 294.423494 213.977009 \n",
       "L 297.467131 213.0057 \n",
       "L 300.510767 211.651238 \n",
       "L 303.554403 209.918968 \n",
       "L 306.59804 207.815727 \n",
       "L 309.641676 205.349816 \n",
       "L 312.685313 202.530966 \n",
       "L 315.728949 199.370302 \n",
       "L 318.772585 195.880298 \n",
       "L 321.816222 192.074727 \n",
       "L 324.859858 187.968608 \n",
       "L 327.903494 183.578147 \n",
       "L 330.947131 178.920669 \n",
       "L 333.990767 174.014557 \n",
       "L 337.034403 168.879172 \n",
       "L 340.07804 163.534781 \n",
       "L 343.121676 158.002477 \n",
       "L 346.165313 152.304092 \n",
       "L 349.208949 146.462116 \n",
       "L 352.252585 140.499604 \n",
       "L 355.296222 134.440088 \n",
       "L 358.339858 128.307481 \n",
       "L 361.383494 122.125987 \n",
       "L 364.427131 115.92 \n",
       "\" style=\"fill:none;stroke:#1f77b4;stroke-linecap:square;stroke-width:1.5;\"/>\n",
       "   </g>\n",
       "   <g id=\"patch_3\">\n",
       "    <path d=\"M 44.845313 224.64 \n",
       "L 44.845313 7.2 \n",
       "\" style=\"fill:none;stroke:#000000;stroke-linecap:square;stroke-linejoin:miter;stroke-width:0.8;\"/>\n",
       "   </g>\n",
       "   <g id=\"patch_4\">\n",
       "    <path d=\"M 379.645313 224.64 \n",
       "L 379.645313 7.2 \n",
       "\" style=\"fill:none;stroke:#000000;stroke-linecap:square;stroke-linejoin:miter;stroke-width:0.8;\"/>\n",
       "   </g>\n",
       "   <g id=\"patch_5\">\n",
       "    <path d=\"M 44.845313 224.64 \n",
       "L 379.645313 224.64 \n",
       "\" style=\"fill:none;stroke:#000000;stroke-linecap:square;stroke-linejoin:miter;stroke-width:0.8;\"/>\n",
       "   </g>\n",
       "   <g id=\"patch_6\">\n",
       "    <path d=\"M 44.845313 7.2 \n",
       "L 379.645313 7.2 \n",
       "\" style=\"fill:none;stroke:#000000;stroke-linecap:square;stroke-linejoin:miter;stroke-width:0.8;\"/>\n",
       "   </g>\n",
       "  </g>\n",
       " </g>\n",
       " <defs>\n",
       "  <clipPath id=\"p192b98b3ac\">\n",
       "   <rect height=\"217.44\" width=\"334.8\" x=\"44.845313\" y=\"7.2\"/>\n",
       "  </clipPath>\n",
       " </defs>\n",
       "</svg>\n"
      ],
      "text/plain": [
       "<Figure size 432x288 with 1 Axes>"
      ]
     },
     "metadata": {
      "needs_background": "light"
     },
     "output_type": "display_data"
    }
   ],
   "source": [
    "import math\n",
    "nStep = 100\n",
    "x = [ 2*math.pi*i/nStep for i in range(nStep+1)]\n",
    "y = [ math.sin(x_i) for x_i in x]\n",
    "\n",
    "import matplotlib.pyplot as plt \n",
    "plt.plot(x,y)\n",
    "plt.show()\n",
    "\n"
   ]
  },
  {
   "cell_type": "markdown",
   "metadata": {
    "slideshow": {
     "slide_type": "subslide"
    }
   },
   "source": [
    "Tandis qu'en utilisant NumPy nous pouvons directement écrire : "
   ]
  },
  {
   "cell_type": "code",
   "execution_count": 174,
   "metadata": {
    "scrolled": true,
    "slideshow": {
     "slide_type": "fragment"
    }
   },
   "outputs": [
    {
     "name": "stdout",
     "output_type": "stream",
     "text": [
      "[0.         0.06346652 0.12693304 0.19039955 0.25386607 0.31733259\n",
      " 0.38079911 0.44426563 0.50773215 0.57119866 0.63466518 0.6981317\n",
      " 0.76159822 0.82506474 0.88853126 0.95199777 1.01546429 1.07893081\n",
      " 1.14239733 1.20586385 1.26933037 1.33279688 1.3962634  1.45972992\n",
      " 1.52319644 1.58666296 1.65012947 1.71359599 1.77706251 1.84052903\n",
      " 1.90399555 1.96746207 2.03092858 2.0943951  2.15786162 2.22132814\n",
      " 2.28479466 2.34826118 2.41172769 2.47519421 2.53866073 2.60212725\n",
      " 2.66559377 2.72906028 2.7925268  2.85599332 2.91945984 2.98292636\n",
      " 3.04639288 3.10985939 3.17332591 3.23679243 3.30025895 3.36372547\n",
      " 3.42719199 3.4906585  3.55412502 3.61759154 3.68105806 3.74452458\n",
      " 3.8079911  3.87145761 3.93492413 3.99839065 4.06185717 4.12532369\n",
      " 4.1887902  4.25225672 4.31572324 4.37918976 4.44265628 4.5061228\n",
      " 4.56958931 4.63305583 4.69652235 4.75998887 4.82345539 4.88692191\n",
      " 4.95038842 5.01385494 5.07732146 5.14078798 5.2042545  5.26772102\n",
      " 5.33118753 5.39465405 5.45812057 5.52158709 5.58505361 5.64852012\n",
      " 5.71198664 5.77545316 5.83891968 5.9023862  5.96585272 6.02931923\n",
      " 6.09278575 6.15625227 6.21971879 6.28318531]\n"
     ]
    },
    {
     "data": {
      "image/svg+xml": [
       "<?xml version=\"1.0\" encoding=\"utf-8\" standalone=\"no\"?>\n",
       "<!DOCTYPE svg PUBLIC \"-//W3C//DTD SVG 1.1//EN\"\n",
       "  \"http://www.w3.org/Graphics/SVG/1.1/DTD/svg11.dtd\">\n",
       "<!-- Created with matplotlib (https://matplotlib.org/) -->\n",
       "<svg height=\"248.518125pt\" version=\"1.1\" viewBox=\"0 0 386.845312 248.518125\" width=\"386.845312pt\" xmlns=\"http://www.w3.org/2000/svg\" xmlns:xlink=\"http://www.w3.org/1999/xlink\">\n",
       " <defs>\n",
       "  <style type=\"text/css\">\n",
       "*{stroke-linecap:butt;stroke-linejoin:round;}\n",
       "  </style>\n",
       " </defs>\n",
       " <g id=\"figure_1\">\n",
       "  <g id=\"patch_1\">\n",
       "   <path d=\"M 0 248.518125 \n",
       "L 386.845312 248.518125 \n",
       "L 386.845312 0 \n",
       "L 0 0 \n",
       "z\n",
       "\" style=\"fill:none;\"/>\n",
       "  </g>\n",
       "  <g id=\"axes_1\">\n",
       "   <g id=\"patch_2\">\n",
       "    <path d=\"M 44.845313 224.64 \n",
       "L 379.645313 224.64 \n",
       "L 379.645313 7.2 \n",
       "L 44.845313 7.2 \n",
       "z\n",
       "\" style=\"fill:#ffffff;\"/>\n",
       "   </g>\n",
       "   <g id=\"matplotlib.axis_1\">\n",
       "    <g id=\"xtick_1\">\n",
       "     <g id=\"line2d_1\">\n",
       "      <defs>\n",
       "       <path d=\"M 0 0 \n",
       "L 0 3.5 \n",
       "\" id=\"mfac748bad9\" style=\"stroke:#000000;stroke-width:0.8;\"/>\n",
       "      </defs>\n",
       "      <g>\n",
       "       <use style=\"stroke:#000000;stroke-width:0.8;\" x=\"60.063494\" xlink:href=\"#mfac748bad9\" y=\"224.64\"/>\n",
       "      </g>\n",
       "     </g>\n",
       "     <g id=\"text_1\">\n",
       "      <!-- 0 -->\n",
       "      <defs>\n",
       "       <path d=\"M 31.78125 66.40625 \n",
       "Q 24.171875 66.40625 20.328125 58.90625 \n",
       "Q 16.5 51.421875 16.5 36.375 \n",
       "Q 16.5 21.390625 20.328125 13.890625 \n",
       "Q 24.171875 6.390625 31.78125 6.390625 \n",
       "Q 39.453125 6.390625 43.28125 13.890625 \n",
       "Q 47.125 21.390625 47.125 36.375 \n",
       "Q 47.125 51.421875 43.28125 58.90625 \n",
       "Q 39.453125 66.40625 31.78125 66.40625 \n",
       "z\n",
       "M 31.78125 74.21875 \n",
       "Q 44.046875 74.21875 50.515625 64.515625 \n",
       "Q 56.984375 54.828125 56.984375 36.375 \n",
       "Q 56.984375 17.96875 50.515625 8.265625 \n",
       "Q 44.046875 -1.421875 31.78125 -1.421875 \n",
       "Q 19.53125 -1.421875 13.0625 8.265625 \n",
       "Q 6.59375 17.96875 6.59375 36.375 \n",
       "Q 6.59375 54.828125 13.0625 64.515625 \n",
       "Q 19.53125 74.21875 31.78125 74.21875 \n",
       "z\n",
       "\" id=\"DejaVuSans-48\"/>\n",
       "      </defs>\n",
       "      <g transform=\"translate(56.882244 239.238437)scale(0.1 -0.1)\">\n",
       "       <use xlink:href=\"#DejaVuSans-48\"/>\n",
       "      </g>\n",
       "     </g>\n",
       "    </g>\n",
       "    <g id=\"xtick_2\">\n",
       "     <g id=\"line2d_2\">\n",
       "      <g>\n",
       "       <use style=\"stroke:#000000;stroke-width:0.8;\" x=\"108.504472\" xlink:href=\"#mfac748bad9\" y=\"224.64\"/>\n",
       "      </g>\n",
       "     </g>\n",
       "     <g id=\"text_2\">\n",
       "      <!-- 1 -->\n",
       "      <defs>\n",
       "       <path d=\"M 12.40625 8.296875 \n",
       "L 28.515625 8.296875 \n",
       "L 28.515625 63.921875 \n",
       "L 10.984375 60.40625 \n",
       "L 10.984375 69.390625 \n",
       "L 28.421875 72.90625 \n",
       "L 38.28125 72.90625 \n",
       "L 38.28125 8.296875 \n",
       "L 54.390625 8.296875 \n",
       "L 54.390625 0 \n",
       "L 12.40625 0 \n",
       "z\n",
       "\" id=\"DejaVuSans-49\"/>\n",
       "      </defs>\n",
       "      <g transform=\"translate(105.323222 239.238437)scale(0.1 -0.1)\">\n",
       "       <use xlink:href=\"#DejaVuSans-49\"/>\n",
       "      </g>\n",
       "     </g>\n",
       "    </g>\n",
       "    <g id=\"xtick_3\">\n",
       "     <g id=\"line2d_3\">\n",
       "      <g>\n",
       "       <use style=\"stroke:#000000;stroke-width:0.8;\" x=\"156.945449\" xlink:href=\"#mfac748bad9\" y=\"224.64\"/>\n",
       "      </g>\n",
       "     </g>\n",
       "     <g id=\"text_3\">\n",
       "      <!-- 2 -->\n",
       "      <defs>\n",
       "       <path d=\"M 19.1875 8.296875 \n",
       "L 53.609375 8.296875 \n",
       "L 53.609375 0 \n",
       "L 7.328125 0 \n",
       "L 7.328125 8.296875 \n",
       "Q 12.9375 14.109375 22.625 23.890625 \n",
       "Q 32.328125 33.6875 34.8125 36.53125 \n",
       "Q 39.546875 41.84375 41.421875 45.53125 \n",
       "Q 43.3125 49.21875 43.3125 52.78125 \n",
       "Q 43.3125 58.59375 39.234375 62.25 \n",
       "Q 35.15625 65.921875 28.609375 65.921875 \n",
       "Q 23.96875 65.921875 18.8125 64.3125 \n",
       "Q 13.671875 62.703125 7.8125 59.421875 \n",
       "L 7.8125 69.390625 \n",
       "Q 13.765625 71.78125 18.9375 73 \n",
       "Q 24.125 74.21875 28.421875 74.21875 \n",
       "Q 39.75 74.21875 46.484375 68.546875 \n",
       "Q 53.21875 62.890625 53.21875 53.421875 \n",
       "Q 53.21875 48.921875 51.53125 44.890625 \n",
       "Q 49.859375 40.875 45.40625 35.40625 \n",
       "Q 44.1875 33.984375 37.640625 27.21875 \n",
       "Q 31.109375 20.453125 19.1875 8.296875 \n",
       "z\n",
       "\" id=\"DejaVuSans-50\"/>\n",
       "      </defs>\n",
       "      <g transform=\"translate(153.764199 239.238437)scale(0.1 -0.1)\">\n",
       "       <use xlink:href=\"#DejaVuSans-50\"/>\n",
       "      </g>\n",
       "     </g>\n",
       "    </g>\n",
       "    <g id=\"xtick_4\">\n",
       "     <g id=\"line2d_4\">\n",
       "      <g>\n",
       "       <use style=\"stroke:#000000;stroke-width:0.8;\" x=\"205.386426\" xlink:href=\"#mfac748bad9\" y=\"224.64\"/>\n",
       "      </g>\n",
       "     </g>\n",
       "     <g id=\"text_4\">\n",
       "      <!-- 3 -->\n",
       "      <defs>\n",
       "       <path d=\"M 40.578125 39.3125 \n",
       "Q 47.65625 37.796875 51.625 33 \n",
       "Q 55.609375 28.21875 55.609375 21.1875 \n",
       "Q 55.609375 10.40625 48.1875 4.484375 \n",
       "Q 40.765625 -1.421875 27.09375 -1.421875 \n",
       "Q 22.515625 -1.421875 17.65625 -0.515625 \n",
       "Q 12.796875 0.390625 7.625 2.203125 \n",
       "L 7.625 11.71875 \n",
       "Q 11.71875 9.328125 16.59375 8.109375 \n",
       "Q 21.484375 6.890625 26.8125 6.890625 \n",
       "Q 36.078125 6.890625 40.9375 10.546875 \n",
       "Q 45.796875 14.203125 45.796875 21.1875 \n",
       "Q 45.796875 27.640625 41.28125 31.265625 \n",
       "Q 36.765625 34.90625 28.71875 34.90625 \n",
       "L 20.21875 34.90625 \n",
       "L 20.21875 43.015625 \n",
       "L 29.109375 43.015625 \n",
       "Q 36.375 43.015625 40.234375 45.921875 \n",
       "Q 44.09375 48.828125 44.09375 54.296875 \n",
       "Q 44.09375 59.90625 40.109375 62.90625 \n",
       "Q 36.140625 65.921875 28.71875 65.921875 \n",
       "Q 24.65625 65.921875 20.015625 65.03125 \n",
       "Q 15.375 64.15625 9.8125 62.3125 \n",
       "L 9.8125 71.09375 \n",
       "Q 15.4375 72.65625 20.34375 73.4375 \n",
       "Q 25.25 74.21875 29.59375 74.21875 \n",
       "Q 40.828125 74.21875 47.359375 69.109375 \n",
       "Q 53.90625 64.015625 53.90625 55.328125 \n",
       "Q 53.90625 49.265625 50.4375 45.09375 \n",
       "Q 46.96875 40.921875 40.578125 39.3125 \n",
       "z\n",
       "\" id=\"DejaVuSans-51\"/>\n",
       "      </defs>\n",
       "      <g transform=\"translate(202.205176 239.238437)scale(0.1 -0.1)\">\n",
       "       <use xlink:href=\"#DejaVuSans-51\"/>\n",
       "      </g>\n",
       "     </g>\n",
       "    </g>\n",
       "    <g id=\"xtick_5\">\n",
       "     <g id=\"line2d_5\">\n",
       "      <g>\n",
       "       <use style=\"stroke:#000000;stroke-width:0.8;\" x=\"253.827403\" xlink:href=\"#mfac748bad9\" y=\"224.64\"/>\n",
       "      </g>\n",
       "     </g>\n",
       "     <g id=\"text_5\">\n",
       "      <!-- 4 -->\n",
       "      <defs>\n",
       "       <path d=\"M 37.796875 64.3125 \n",
       "L 12.890625 25.390625 \n",
       "L 37.796875 25.390625 \n",
       "z\n",
       "M 35.203125 72.90625 \n",
       "L 47.609375 72.90625 \n",
       "L 47.609375 25.390625 \n",
       "L 58.015625 25.390625 \n",
       "L 58.015625 17.1875 \n",
       "L 47.609375 17.1875 \n",
       "L 47.609375 0 \n",
       "L 37.796875 0 \n",
       "L 37.796875 17.1875 \n",
       "L 4.890625 17.1875 \n",
       "L 4.890625 26.703125 \n",
       "z\n",
       "\" id=\"DejaVuSans-52\"/>\n",
       "      </defs>\n",
       "      <g transform=\"translate(250.646153 239.238437)scale(0.1 -0.1)\">\n",
       "       <use xlink:href=\"#DejaVuSans-52\"/>\n",
       "      </g>\n",
       "     </g>\n",
       "    </g>\n",
       "    <g id=\"xtick_6\">\n",
       "     <g id=\"line2d_6\">\n",
       "      <g>\n",
       "       <use style=\"stroke:#000000;stroke-width:0.8;\" x=\"302.26838\" xlink:href=\"#mfac748bad9\" y=\"224.64\"/>\n",
       "      </g>\n",
       "     </g>\n",
       "     <g id=\"text_6\">\n",
       "      <!-- 5 -->\n",
       "      <defs>\n",
       "       <path d=\"M 10.796875 72.90625 \n",
       "L 49.515625 72.90625 \n",
       "L 49.515625 64.59375 \n",
       "L 19.828125 64.59375 \n",
       "L 19.828125 46.734375 \n",
       "Q 21.96875 47.46875 24.109375 47.828125 \n",
       "Q 26.265625 48.1875 28.421875 48.1875 \n",
       "Q 40.625 48.1875 47.75 41.5 \n",
       "Q 54.890625 34.8125 54.890625 23.390625 \n",
       "Q 54.890625 11.625 47.5625 5.09375 \n",
       "Q 40.234375 -1.421875 26.90625 -1.421875 \n",
       "Q 22.3125 -1.421875 17.546875 -0.640625 \n",
       "Q 12.796875 0.140625 7.71875 1.703125 \n",
       "L 7.71875 11.625 \n",
       "Q 12.109375 9.234375 16.796875 8.0625 \n",
       "Q 21.484375 6.890625 26.703125 6.890625 \n",
       "Q 35.15625 6.890625 40.078125 11.328125 \n",
       "Q 45.015625 15.765625 45.015625 23.390625 \n",
       "Q 45.015625 31 40.078125 35.4375 \n",
       "Q 35.15625 39.890625 26.703125 39.890625 \n",
       "Q 22.75 39.890625 18.8125 39.015625 \n",
       "Q 14.890625 38.140625 10.796875 36.28125 \n",
       "z\n",
       "\" id=\"DejaVuSans-53\"/>\n",
       "      </defs>\n",
       "      <g transform=\"translate(299.08713 239.238437)scale(0.1 -0.1)\">\n",
       "       <use xlink:href=\"#DejaVuSans-53\"/>\n",
       "      </g>\n",
       "     </g>\n",
       "    </g>\n",
       "    <g id=\"xtick_7\">\n",
       "     <g id=\"line2d_7\">\n",
       "      <g>\n",
       "       <use style=\"stroke:#000000;stroke-width:0.8;\" x=\"350.709358\" xlink:href=\"#mfac748bad9\" y=\"224.64\"/>\n",
       "      </g>\n",
       "     </g>\n",
       "     <g id=\"text_7\">\n",
       "      <!-- 6 -->\n",
       "      <defs>\n",
       "       <path d=\"M 33.015625 40.375 \n",
       "Q 26.375 40.375 22.484375 35.828125 \n",
       "Q 18.609375 31.296875 18.609375 23.390625 \n",
       "Q 18.609375 15.53125 22.484375 10.953125 \n",
       "Q 26.375 6.390625 33.015625 6.390625 \n",
       "Q 39.65625 6.390625 43.53125 10.953125 \n",
       "Q 47.40625 15.53125 47.40625 23.390625 \n",
       "Q 47.40625 31.296875 43.53125 35.828125 \n",
       "Q 39.65625 40.375 33.015625 40.375 \n",
       "z\n",
       "M 52.59375 71.296875 \n",
       "L 52.59375 62.3125 \n",
       "Q 48.875 64.0625 45.09375 64.984375 \n",
       "Q 41.3125 65.921875 37.59375 65.921875 \n",
       "Q 27.828125 65.921875 22.671875 59.328125 \n",
       "Q 17.53125 52.734375 16.796875 39.40625 \n",
       "Q 19.671875 43.65625 24.015625 45.921875 \n",
       "Q 28.375 48.1875 33.59375 48.1875 \n",
       "Q 44.578125 48.1875 50.953125 41.515625 \n",
       "Q 57.328125 34.859375 57.328125 23.390625 \n",
       "Q 57.328125 12.15625 50.6875 5.359375 \n",
       "Q 44.046875 -1.421875 33.015625 -1.421875 \n",
       "Q 20.359375 -1.421875 13.671875 8.265625 \n",
       "Q 6.984375 17.96875 6.984375 36.375 \n",
       "Q 6.984375 53.65625 15.1875 63.9375 \n",
       "Q 23.390625 74.21875 37.203125 74.21875 \n",
       "Q 40.921875 74.21875 44.703125 73.484375 \n",
       "Q 48.484375 72.75 52.59375 71.296875 \n",
       "z\n",
       "\" id=\"DejaVuSans-54\"/>\n",
       "      </defs>\n",
       "      <g transform=\"translate(347.528108 239.238437)scale(0.1 -0.1)\">\n",
       "       <use xlink:href=\"#DejaVuSans-54\"/>\n",
       "      </g>\n",
       "     </g>\n",
       "    </g>\n",
       "   </g>\n",
       "   <g id=\"matplotlib.axis_2\">\n",
       "    <g id=\"ytick_1\">\n",
       "     <g id=\"line2d_8\">\n",
       "      <defs>\n",
       "       <path d=\"M 0 0 \n",
       "L -3.5 0 \n",
       "\" id=\"m805c59e411\" style=\"stroke:#000000;stroke-width:0.8;\"/>\n",
       "      </defs>\n",
       "      <g>\n",
       "       <use style=\"stroke:#000000;stroke-width:0.8;\" x=\"44.845313\" xlink:href=\"#m805c59e411\" y=\"214.768806\"/>\n",
       "      </g>\n",
       "     </g>\n",
       "     <g id=\"text_8\">\n",
       "      <!-- −1.00 -->\n",
       "      <defs>\n",
       "       <path d=\"M 10.59375 35.5 \n",
       "L 73.1875 35.5 \n",
       "L 73.1875 27.203125 \n",
       "L 10.59375 27.203125 \n",
       "z\n",
       "\" id=\"DejaVuSans-8722\"/>\n",
       "       <path d=\"M 10.6875 12.40625 \n",
       "L 21 12.40625 \n",
       "L 21 0 \n",
       "L 10.6875 0 \n",
       "z\n",
       "\" id=\"DejaVuSans-46\"/>\n",
       "      </defs>\n",
       "      <g transform=\"translate(7.2 218.568025)scale(0.1 -0.1)\">\n",
       "       <use xlink:href=\"#DejaVuSans-8722\"/>\n",
       "       <use x=\"83.789062\" xlink:href=\"#DejaVuSans-49\"/>\n",
       "       <use x=\"147.412109\" xlink:href=\"#DejaVuSans-46\"/>\n",
       "       <use x=\"179.199219\" xlink:href=\"#DejaVuSans-48\"/>\n",
       "       <use x=\"242.822266\" xlink:href=\"#DejaVuSans-48\"/>\n",
       "      </g>\n",
       "     </g>\n",
       "    </g>\n",
       "    <g id=\"ytick_2\">\n",
       "     <g id=\"line2d_9\">\n",
       "      <g>\n",
       "       <use style=\"stroke:#000000;stroke-width:0.8;\" x=\"44.845313\" xlink:href=\"#m805c59e411\" y=\"190.056604\"/>\n",
       "      </g>\n",
       "     </g>\n",
       "     <g id=\"text_9\">\n",
       "      <!-- −0.75 -->\n",
       "      <defs>\n",
       "       <path d=\"M 8.203125 72.90625 \n",
       "L 55.078125 72.90625 \n",
       "L 55.078125 68.703125 \n",
       "L 28.609375 0 \n",
       "L 18.3125 0 \n",
       "L 43.21875 64.59375 \n",
       "L 8.203125 64.59375 \n",
       "z\n",
       "\" id=\"DejaVuSans-55\"/>\n",
       "      </defs>\n",
       "      <g transform=\"translate(7.2 193.855823)scale(0.1 -0.1)\">\n",
       "       <use xlink:href=\"#DejaVuSans-8722\"/>\n",
       "       <use x=\"83.789062\" xlink:href=\"#DejaVuSans-48\"/>\n",
       "       <use x=\"147.412109\" xlink:href=\"#DejaVuSans-46\"/>\n",
       "       <use x=\"179.199219\" xlink:href=\"#DejaVuSans-55\"/>\n",
       "       <use x=\"242.822266\" xlink:href=\"#DejaVuSans-53\"/>\n",
       "      </g>\n",
       "     </g>\n",
       "    </g>\n",
       "    <g id=\"ytick_3\">\n",
       "     <g id=\"line2d_10\">\n",
       "      <g>\n",
       "       <use style=\"stroke:#000000;stroke-width:0.8;\" x=\"44.845313\" xlink:href=\"#m805c59e411\" y=\"165.344403\"/>\n",
       "      </g>\n",
       "     </g>\n",
       "     <g id=\"text_10\">\n",
       "      <!-- −0.50 -->\n",
       "      <g transform=\"translate(7.2 169.143622)scale(0.1 -0.1)\">\n",
       "       <use xlink:href=\"#DejaVuSans-8722\"/>\n",
       "       <use x=\"83.789062\" xlink:href=\"#DejaVuSans-48\"/>\n",
       "       <use x=\"147.412109\" xlink:href=\"#DejaVuSans-46\"/>\n",
       "       <use x=\"179.199219\" xlink:href=\"#DejaVuSans-53\"/>\n",
       "       <use x=\"242.822266\" xlink:href=\"#DejaVuSans-48\"/>\n",
       "      </g>\n",
       "     </g>\n",
       "    </g>\n",
       "    <g id=\"ytick_4\">\n",
       "     <g id=\"line2d_11\">\n",
       "      <g>\n",
       "       <use style=\"stroke:#000000;stroke-width:0.8;\" x=\"44.845313\" xlink:href=\"#m805c59e411\" y=\"140.632201\"/>\n",
       "      </g>\n",
       "     </g>\n",
       "     <g id=\"text_11\">\n",
       "      <!-- −0.25 -->\n",
       "      <g transform=\"translate(7.2 144.43142)scale(0.1 -0.1)\">\n",
       "       <use xlink:href=\"#DejaVuSans-8722\"/>\n",
       "       <use x=\"83.789062\" xlink:href=\"#DejaVuSans-48\"/>\n",
       "       <use x=\"147.412109\" xlink:href=\"#DejaVuSans-46\"/>\n",
       "       <use x=\"179.199219\" xlink:href=\"#DejaVuSans-50\"/>\n",
       "       <use x=\"242.822266\" xlink:href=\"#DejaVuSans-53\"/>\n",
       "      </g>\n",
       "     </g>\n",
       "    </g>\n",
       "    <g id=\"ytick_5\">\n",
       "     <g id=\"line2d_12\">\n",
       "      <g>\n",
       "       <use style=\"stroke:#000000;stroke-width:0.8;\" x=\"44.845313\" xlink:href=\"#m805c59e411\" y=\"115.92\"/>\n",
       "      </g>\n",
       "     </g>\n",
       "     <g id=\"text_12\">\n",
       "      <!-- 0.00 -->\n",
       "      <g transform=\"translate(15.579688 119.719219)scale(0.1 -0.1)\">\n",
       "       <use xlink:href=\"#DejaVuSans-48\"/>\n",
       "       <use x=\"63.623047\" xlink:href=\"#DejaVuSans-46\"/>\n",
       "       <use x=\"95.410156\" xlink:href=\"#DejaVuSans-48\"/>\n",
       "       <use x=\"159.033203\" xlink:href=\"#DejaVuSans-48\"/>\n",
       "      </g>\n",
       "     </g>\n",
       "    </g>\n",
       "    <g id=\"ytick_6\">\n",
       "     <g id=\"line2d_13\">\n",
       "      <g>\n",
       "       <use style=\"stroke:#000000;stroke-width:0.8;\" x=\"44.845313\" xlink:href=\"#m805c59e411\" y=\"91.207799\"/>\n",
       "      </g>\n",
       "     </g>\n",
       "     <g id=\"text_13\">\n",
       "      <!-- 0.25 -->\n",
       "      <g transform=\"translate(15.579688 95.007017)scale(0.1 -0.1)\">\n",
       "       <use xlink:href=\"#DejaVuSans-48\"/>\n",
       "       <use x=\"63.623047\" xlink:href=\"#DejaVuSans-46\"/>\n",
       "       <use x=\"95.410156\" xlink:href=\"#DejaVuSans-50\"/>\n",
       "       <use x=\"159.033203\" xlink:href=\"#DejaVuSans-53\"/>\n",
       "      </g>\n",
       "     </g>\n",
       "    </g>\n",
       "    <g id=\"ytick_7\">\n",
       "     <g id=\"line2d_14\">\n",
       "      <g>\n",
       "       <use style=\"stroke:#000000;stroke-width:0.8;\" x=\"44.845313\" xlink:href=\"#m805c59e411\" y=\"66.495597\"/>\n",
       "      </g>\n",
       "     </g>\n",
       "     <g id=\"text_14\">\n",
       "      <!-- 0.50 -->\n",
       "      <g transform=\"translate(15.579688 70.294816)scale(0.1 -0.1)\">\n",
       "       <use xlink:href=\"#DejaVuSans-48\"/>\n",
       "       <use x=\"63.623047\" xlink:href=\"#DejaVuSans-46\"/>\n",
       "       <use x=\"95.410156\" xlink:href=\"#DejaVuSans-53\"/>\n",
       "       <use x=\"159.033203\" xlink:href=\"#DejaVuSans-48\"/>\n",
       "      </g>\n",
       "     </g>\n",
       "    </g>\n",
       "    <g id=\"ytick_8\">\n",
       "     <g id=\"line2d_15\">\n",
       "      <g>\n",
       "       <use style=\"stroke:#000000;stroke-width:0.8;\" x=\"44.845313\" xlink:href=\"#m805c59e411\" y=\"41.783396\"/>\n",
       "      </g>\n",
       "     </g>\n",
       "     <g id=\"text_15\">\n",
       "      <!-- 0.75 -->\n",
       "      <g transform=\"translate(15.579688 45.582614)scale(0.1 -0.1)\">\n",
       "       <use xlink:href=\"#DejaVuSans-48\"/>\n",
       "       <use x=\"63.623047\" xlink:href=\"#DejaVuSans-46\"/>\n",
       "       <use x=\"95.410156\" xlink:href=\"#DejaVuSans-55\"/>\n",
       "       <use x=\"159.033203\" xlink:href=\"#DejaVuSans-53\"/>\n",
       "      </g>\n",
       "     </g>\n",
       "    </g>\n",
       "    <g id=\"ytick_9\">\n",
       "     <g id=\"line2d_16\">\n",
       "      <g>\n",
       "       <use style=\"stroke:#000000;stroke-width:0.8;\" x=\"44.845313\" xlink:href=\"#m805c59e411\" y=\"17.071194\"/>\n",
       "      </g>\n",
       "     </g>\n",
       "     <g id=\"text_16\">\n",
       "      <!-- 1.00 -->\n",
       "      <g transform=\"translate(15.579688 20.870413)scale(0.1 -0.1)\">\n",
       "       <use xlink:href=\"#DejaVuSans-49\"/>\n",
       "       <use x=\"63.623047\" xlink:href=\"#DejaVuSans-46\"/>\n",
       "       <use x=\"95.410156\" xlink:href=\"#DejaVuSans-48\"/>\n",
       "       <use x=\"159.033203\" xlink:href=\"#DejaVuSans-48\"/>\n",
       "      </g>\n",
       "     </g>\n",
       "    </g>\n",
       "   </g>\n",
       "   <g id=\"line2d_17\">\n",
       "    <path clip-path=\"url(#p1a75dbe6e6)\" d=\"M 60.063494 115.92 \n",
       "L 63.137874 109.650621 \n",
       "L 66.212255 103.406487 \n",
       "L 69.286635 97.21274 \n",
       "L 72.361015 91.094321 \n",
       "L 75.435395 85.075866 \n",
       "L 78.509775 79.18161 \n",
       "L 81.584155 73.435286 \n",
       "L 84.658536 67.860033 \n",
       "L 87.732916 62.478301 \n",
       "L 90.807296 57.311759 \n",
       "L 93.881676 52.381212 \n",
       "L 96.956056 47.706514 \n",
       "L 100.030436 43.306487 \n",
       "L 103.104817 39.198849 \n",
       "L 106.179197 35.40014 \n",
       "L 109.253577 31.925656 \n",
       "L 112.327957 28.789388 \n",
       "L 115.402337 26.003963 \n",
       "L 118.476717 23.580599 \n",
       "L 121.551098 21.529054 \n",
       "L 124.625478 19.857587 \n",
       "L 127.699858 18.57293 \n",
       "L 130.774238 17.680254 \n",
       "L 133.848618 17.183156 \n",
       "L 136.922998 17.083636 \n",
       "L 139.997379 17.382096 \n",
       "L 143.071759 18.077332 \n",
       "L 146.146139 19.166547 \n",
       "L 149.220519 20.645353 \n",
       "L 152.294899 22.507797 \n",
       "L 155.369279 24.746379 \n",
       "L 158.44366 27.352085 \n",
       "L 161.51804 30.314423 \n",
       "L 164.59242 33.621464 \n",
       "L 167.6668 37.259892 \n",
       "L 170.74118 41.215057 \n",
       "L 173.81556 45.471032 \n",
       "L 176.889941 50.01068 \n",
       "L 179.964321 54.815722 \n",
       "L 183.038701 59.86681 \n",
       "L 186.113081 65.143603 \n",
       "L 189.187461 70.624855 \n",
       "L 192.261841 76.288495 \n",
       "L 195.336222 82.111717 \n",
       "L 198.410602 88.071073 \n",
       "L 201.484982 94.142567 \n",
       "L 204.559362 100.301751 \n",
       "L 207.633742 106.523824 \n",
       "L 210.708122 112.783732 \n",
       "L 213.782503 119.056268 \n",
       "L 216.856883 125.316176 \n",
       "L 219.931263 131.538249 \n",
       "L 223.005643 137.697433 \n",
       "L 226.080023 143.768927 \n",
       "L 229.154403 149.728283 \n",
       "L 232.228784 155.551505 \n",
       "L 235.303164 161.215145 \n",
       "L 238.377544 166.696397 \n",
       "L 241.451924 171.97319 \n",
       "L 244.526304 177.024278 \n",
       "L 247.600684 181.82932 \n",
       "L 250.675065 186.368968 \n",
       "L 253.749445 190.624943 \n",
       "L 256.823825 194.580108 \n",
       "L 259.898205 198.218536 \n",
       "L 262.972585 201.525577 \n",
       "L 266.046965 204.487915 \n",
       "L 269.121346 207.093621 \n",
       "L 272.195726 209.332203 \n",
       "L 275.270106 211.194647 \n",
       "L 278.344486 212.673453 \n",
       "L 281.418866 213.762668 \n",
       "L 284.493246 214.457904 \n",
       "L 287.567627 214.756364 \n",
       "L 290.642007 214.656844 \n",
       "L 293.716387 214.159746 \n",
       "L 296.790767 213.26707 \n",
       "L 299.865147 211.982413 \n",
       "L 302.939527 210.310946 \n",
       "L 306.013908 208.259401 \n",
       "L 309.088288 205.836037 \n",
       "L 312.162668 203.050612 \n",
       "L 315.237048 199.914344 \n",
       "L 318.311428 196.43986 \n",
       "L 321.385808 192.641151 \n",
       "L 324.460189 188.533513 \n",
       "L 327.534569 184.133486 \n",
       "L 330.608949 179.458788 \n",
       "L 333.683329 174.528241 \n",
       "L 336.757709 169.361699 \n",
       "L 339.832089 163.979967 \n",
       "L 342.90647 158.404714 \n",
       "L 345.98085 152.65839 \n",
       "L 349.05523 146.764134 \n",
       "L 352.12961 140.745679 \n",
       "L 355.20399 134.62726 \n",
       "L 358.27837 128.433513 \n",
       "L 361.352751 122.189379 \n",
       "L 364.427131 115.92 \n",
       "\" style=\"fill:none;stroke:#1f77b4;stroke-linecap:square;stroke-width:1.5;\"/>\n",
       "   </g>\n",
       "   <g id=\"patch_3\">\n",
       "    <path d=\"M 44.845313 224.64 \n",
       "L 44.845313 7.2 \n",
       "\" style=\"fill:none;stroke:#000000;stroke-linecap:square;stroke-linejoin:miter;stroke-width:0.8;\"/>\n",
       "   </g>\n",
       "   <g id=\"patch_4\">\n",
       "    <path d=\"M 379.645313 224.64 \n",
       "L 379.645313 7.2 \n",
       "\" style=\"fill:none;stroke:#000000;stroke-linecap:square;stroke-linejoin:miter;stroke-width:0.8;\"/>\n",
       "   </g>\n",
       "   <g id=\"patch_5\">\n",
       "    <path d=\"M 44.845313 224.64 \n",
       "L 379.645313 224.64 \n",
       "\" style=\"fill:none;stroke:#000000;stroke-linecap:square;stroke-linejoin:miter;stroke-width:0.8;\"/>\n",
       "   </g>\n",
       "   <g id=\"patch_6\">\n",
       "    <path d=\"M 44.845313 7.2 \n",
       "L 379.645313 7.2 \n",
       "\" style=\"fill:none;stroke:#000000;stroke-linecap:square;stroke-linejoin:miter;stroke-width:0.8;\"/>\n",
       "   </g>\n",
       "  </g>\n",
       " </g>\n",
       " <defs>\n",
       "  <clipPath id=\"p1a75dbe6e6\">\n",
       "   <rect height=\"217.44\" width=\"334.8\" x=\"44.845313\" y=\"7.2\"/>\n",
       "  </clipPath>\n",
       " </defs>\n",
       "</svg>\n"
      ],
      "text/plain": [
       "<Figure size 432x288 with 1 Axes>"
      ]
     },
     "metadata": {
      "needs_background": "light"
     },
     "output_type": "display_data"
    }
   ],
   "source": [
    "xNumpy = np.linspace(0, 2*np.pi, nStep)\n",
    "print(xNumpy)\n",
    "yNumpy = np.sin(xNumpy)\n",
    "plt.plot(xNumpy,yNumpy)\n",
    "plt.show() "
   ]
  },
  {
   "cell_type": "markdown",
   "metadata": {
    "slideshow": {
     "slide_type": "subslide"
    }
   },
   "source": [
    "Il y a deux avantages à l'approche Numpy : \n",
    "\n",
    "1. C'est plus simple à coder et plus agréable à lire par la suite \n",
    "2. C'est beaucoup plus performant "
   ]
  },
  {
   "cell_type": "code",
   "execution_count": 175,
   "metadata": {
    "slideshow": {
     "slide_type": "fragment"
    }
   },
   "outputs": [
    {
     "name": "stdout",
     "output_type": "stream",
     "text": [
      "17.3 µs ± 2.63 µs per loop (mean ± std. dev. of 7 runs, 10000 loops each)\n"
     ]
    }
   ],
   "source": [
    "%timeit [math.sin(x_i) for x_i in x]"
   ]
  },
  {
   "cell_type": "code",
   "execution_count": 176,
   "metadata": {
    "slideshow": {
     "slide_type": "fragment"
    }
   },
   "outputs": [
    {
     "name": "stdout",
     "output_type": "stream",
     "text": [
      "3.24 µs ± 108 ns per loop (mean ± std. dev. of 7 runs, 100000 loops each)\n"
     ]
    }
   ],
   "source": [
    "%timeit np.sin(xNumpy)\n"
   ]
  },
  {
   "cell_type": "markdown",
   "metadata": {
    "slideshow": {
     "slide_type": "fragment"
    }
   },
   "source": [
    "On observe donc un facteur 4 entre la version Python de base et la version NumPy et je peux vous assurer que les choses s'aggravent bien plus lorsque l'on passe sur des vrais problèmes ! "
   ]
  },
  {
   "cell_type": "markdown",
   "metadata": {
    "slideshow": {
     "slide_type": "subslide"
    }
   },
   "source": [
    "Vous pouvez vous demander pourquoi cela va 4 fois plus vite !? C'est tout simplement parce que d'un côté vous faites la boucle dans le monde Python tandis que de l'autre côté la boucle se fait dans le monde Numpy donc C++. "
   ]
  },
  {
   "cell_type": "markdown",
   "metadata": {
    "slideshow": {
     "slide_type": "fragment"
    }
   },
   "source": [
    "Dans les grandes lignes caché derrière tout ça se trouve le fait que les tableaux numpy sont en réalité alloués en mémoire de manière contigue, il s'agit de `double*`. Et donc le c++ se débrouille à merveille pour parcourir tout le tableau et appliquer une fonction à tous les éléments. Tandis que le Python a plus de mal car ne présuppose pas d'un alignement mémoire et donc passe son temps à faire des indirections. "
   ]
  },
  {
   "cell_type": "markdown",
   "metadata": {
    "slideshow": {
     "slide_type": "subslide"
    }
   },
   "source": [
    "__La règle de base à retenir est que lorsque l'on manipule des tableaux numpy il ne faut **jamais** faire de boucles__"
   ]
  },
  {
   "cell_type": "markdown",
   "metadata": {
    "slideshow": {
     "slide_type": "subslide"
    }
   },
   "source": [
    "Si vous souhaitez appliquer une fonction \"perso\" à un `np.ndarray` il est possible en utilisant la fonction `np.vectorize` de vectoriser votre fonction. "
   ]
  },
  {
   "cell_type": "code",
   "execution_count": 177,
   "metadata": {
    "slideshow": {
     "slide_type": "fragment"
    }
   },
   "outputs": [],
   "source": [
    "def ma_fonction(x):\n",
    "    if x < 0.5:\n",
    "        return x \n",
    "    else:\n",
    "        return -x"
   ]
  },
  {
   "cell_type": "markdown",
   "metadata": {
    "slideshow": {
     "slide_type": "subslide"
    }
   },
   "source": [
    "Sans vectorisation il faudrait faire quelque chose du genre : "
   ]
  },
  {
   "cell_type": "code",
   "execution_count": 178,
   "metadata": {
    "slideshow": {
     "slide_type": "fragment"
    }
   },
   "outputs": [],
   "source": [
    "data = np.random.rand(10,20,30)"
   ]
  },
  {
   "cell_type": "code",
   "execution_count": 179,
   "metadata": {
    "slideshow": {
     "slide_type": "fragment"
    }
   },
   "outputs": [
    {
     "name": "stdout",
     "output_type": "stream",
     "text": [
      "3.76 ms ± 844 µs per loop (mean ± std. dev. of 7 runs, 100 loops each)\n"
     ]
    }
   ],
   "source": [
    "%%timeit\n",
    "for i,x in enumerate(data):\n",
    "    for j, y in enumerate(x): \n",
    "        for k, z in enumerate(y): \n",
    "            data[i,j,k] = ma_fonction(z)"
   ]
  },
  {
   "cell_type": "markdown",
   "metadata": {
    "slideshow": {
     "slide_type": "subslide"
    }
   },
   "source": [
    "Tandis que si l'on vectorise la fonction `ma_fonction` cette triple boucle pas très sympatique se ramène à quelque chose de beaucoup plus agréable : "
   ]
  },
  {
   "cell_type": "code",
   "execution_count": 180,
   "metadata": {
    "slideshow": {
     "slide_type": "fragment"
    }
   },
   "outputs": [
    {
     "name": "stdout",
     "output_type": "stream",
     "text": [
      "1.36 ms ± 568 µs per loop (mean ± std. dev. of 7 runs, 100 loops each)\n"
     ]
    }
   ],
   "source": [
    "ma_fonction_vect = np.vectorize(ma_fonction)\n",
    "\n",
    "%timeit ma_fonction_vect(data)\n"
   ]
  },
  {
   "cell_type": "markdown",
   "metadata": {
    "slideshow": {
     "slide_type": "fragment"
    }
   },
   "source": [
    "On observe donc un gain significatif à l'exécution et le plus important le code est beaucoup plus agréable à lire. "
   ]
  },
  {
   "cell_type": "markdown",
   "metadata": {
    "slideshow": {
     "slide_type": "slide"
    }
   },
   "source": [
    "### Manipulation des array "
   ]
  },
  {
   "cell_type": "markdown",
   "metadata": {
    "slideshow": {
     "slide_type": "subslide"
    }
   },
   "source": [
    "Jusqu'à maintenant nous avons vu comment définir des `np.ndarray` et comment utiliser ces tableaux pour faire des évaluations plus ou moins complexe. C'est bien mais ce n'est pas suffisant pour couvrir 100% des besoins. Dans de nombreux cas il nous faut pouvoir acccéder à des valeurs particulières d'un tableau. "
   ]
  },
  {
   "cell_type": "markdown",
   "metadata": {
    "slideshow": {
     "slide_type": "subslide"
    }
   },
   "source": [
    "La manipulation des `np.ndarray` NumPy et notamment l'accès aux valeurs contenues dans ce dernier se fait dans le même esprit que l'accès aux éléments d'une liste à la différence près que l'on doit spécifier pour un `np.ndarray` plusieurs indices étant donné qu'il s'agit d'un tableau multidimensionnel. \n",
    "\n",
    "> **Attention :**  \n",
    "> Comme pour les listes et tuples la numérotation des indices commence à **0**"
   ]
  },
  {
   "cell_type": "code",
   "execution_count": 20,
   "metadata": {
    "slideshow": {
     "slide_type": "fragment"
    }
   },
   "outputs": [
    {
     "name": "stdout",
     "output_type": "stream",
     "text": [
      "Le tableau : \n",
      "[[ 1  2  3  4  5]\n",
      " [ 6  7  8  9 10]\n",
      " [11 12 13 14 15]]\n"
     ]
    }
   ],
   "source": [
    "un_tableau = np.array([[1,2,3,4,5],[6,7,8,9,10],[11,12,13,14,15]])\n",
    "print(\"Le tableau : \\n{}\".format(un_tableau))\n",
    "\n"
   ]
  },
  {
   "cell_type": "markdown",
   "metadata": {
    "slideshow": {
     "slide_type": "subslide"
    }
   },
   "source": [
    "L'accès aux éléments d'un np.ndarray se fait de la même manière que pour accéder aux valeurs d'une liste, à savoir en utilisant l'opérateur `[]`. La subtilité est que l'opérateur `[]` d'un `np.ndarray` peut prendre en entrée plusieurs indices. "
   ]
  },
  {
   "cell_type": "code",
   "execution_count": 21,
   "metadata": {
    "slideshow": {
     "slide_type": "fragment"
    }
   },
   "outputs": [
    {
     "name": "stdout",
     "output_type": "stream",
     "text": [
      "Element 1,2 : 8\n",
      "Le tableau : \n",
      "[[ 1  2  3  4  5]\n",
      " [ 6  7  8  9 10]\n",
      " [11 12 13 14 15]]\n"
     ]
    }
   ],
   "source": [
    "a_12 = un_tableau[1,2]\n",
    "print(f\"Element 1,2 : {a_12}\")\n",
    "print(\"Le tableau : \\n{}\".format(un_tableau))\n",
    "\n"
   ]
  },
  {
   "cell_type": "markdown",
   "metadata": {
    "slideshow": {
     "slide_type": "fragment"
    }
   },
   "source": [
    "On peut également utiliser les indices négatifs pour accéder aux valeurs par la fin : "
   ]
  },
  {
   "cell_type": "code",
   "execution_count": 22,
   "metadata": {
    "slideshow": {
     "slide_type": "fragment"
    }
   },
   "outputs": [
    {
     "name": "stdout",
     "output_type": "stream",
     "text": [
      "Element -1,-1 : 15\n",
      "Le tableau : \n",
      "[[ 1  2  3  4  5]\n",
      " [ 6  7  8  9 10]\n",
      " [11 12 13 14 15]]\n"
     ]
    }
   ],
   "source": [
    "a_24 = un_tableau[-1,-1]\n",
    "print(f\"Element -1,-1 : {a_24}\")\n",
    "print(\"Le tableau : \\n{}\".format(un_tableau))\n"
   ]
  },
  {
   "cell_type": "markdown",
   "metadata": {
    "slideshow": {
     "slide_type": "subslide"
    }
   },
   "source": [
    "De plus, comme pour les listes, on peut utiliser le concept de slicing. Pour rappel la notation est de la forme : \n",
    "\n",
    "```\n",
    "start:stop+1:step\n",
    "```"
   ]
  },
  {
   "cell_type": "markdown",
   "metadata": {
    "slideshow": {
     "slide_type": "fragment"
    }
   },
   "source": [
    "Par exemple, si je veux extraire la première ligne de la matrice `un_tableau` on peut procéder de la manière suivante : "
   ]
  },
  {
   "cell_type": "code",
   "execution_count": 23,
   "metadata": {
    "slideshow": {
     "slide_type": "fragment"
    }
   },
   "outputs": [
    {
     "name": "stdout",
     "output_type": "stream",
     "text": [
      "Ligne_0 : [1 2 3 4 5]\n",
      "Le tableau : \n",
      "[[ 1  2  3  4  5]\n",
      " [ 6  7  8  9 10]\n",
      " [11 12 13 14 15]]\n"
     ]
    }
   ],
   "source": [
    "ligne_0 = un_tableau[0,:]\n",
    "print(f\"Ligne_0 : {ligne_0}\")\n",
    "print(\"Le tableau : \\n{}\".format(un_tableau))\n"
   ]
  },
  {
   "cell_type": "markdown",
   "metadata": {
    "slideshow": {
     "slide_type": "subslide"
    }
   },
   "source": [
    "On peut alors se servir de ces notations pour extraire un sous tableau : "
   ]
  },
  {
   "cell_type": "code",
   "execution_count": 24,
   "metadata": {
    "slideshow": {
     "slide_type": "fragment"
    }
   },
   "outputs": [
    {
     "name": "stdout",
     "output_type": "stream",
     "text": [
      "[[ 7  8  9 10]\n",
      " [12 13 14 15]]\n",
      "Le tableau : \n",
      "[[ 1  2  3  4  5]\n",
      " [ 6  7  8  9 10]\n",
      " [11 12 13 14 15]]\n"
     ]
    }
   ],
   "source": [
    "sub_array = un_tableau[1:,1:]\n",
    "\n",
    "print(sub_array)\n",
    "\n",
    "print(\"Le tableau : \\n{}\".format(un_tableau))"
   ]
  },
  {
   "cell_type": "code",
   "execution_count": 25,
   "metadata": {
    "slideshow": {
     "slide_type": "fragment"
    }
   },
   "outputs": [
    {
     "name": "stdout",
     "output_type": "stream",
     "text": [
      "[ 1  6 11]\n",
      "(3,)\n"
     ]
    }
   ],
   "source": [
    "sub_array = un_tableau[:,0]\n",
    "print(sub_array)\n",
    "print(sub_array.shape)"
   ]
  },
  {
   "cell_type": "code",
   "execution_count": 26,
   "metadata": {
    "slideshow": {
     "slide_type": "fragment"
    }
   },
   "outputs": [
    {
     "name": "stdout",
     "output_type": "stream",
     "text": [
      "[[ 1  3  5]\n",
      " [11 13 15]]\n",
      "Le tableau : \n",
      "[[ 1  2  3  4  5]\n",
      " [ 6  7  8  9 10]\n",
      " [11 12 13 14 15]]\n"
     ]
    }
   ],
   "source": [
    "sub_array = un_tableau[::2,::2]\n",
    "print(sub_array)\n",
    "print(\"Le tableau : \\n{}\".format(un_tableau))\n"
   ]
  },
  {
   "cell_type": "markdown",
   "metadata": {
    "slideshow": {
     "slide_type": "subslide"
    }
   },
   "source": [
    "Le sous-tableau que l'on obtient alors est un peu particulier c'est ce qu'on appelle une vue. Quelle particularité ? Un exemple sera plus parlant : "
   ]
  },
  {
   "cell_type": "code",
   "execution_count": 27,
   "metadata": {
    "slideshow": {
     "slide_type": "fragment"
    }
   },
   "outputs": [
    {
     "data": {
      "text/plain": [
       "array([[ 1,  2,  3,  4,  5],\n",
       "       [ 6,  7,  8,  9, 10],\n",
       "       [11, 12, 13, 14, 15]])"
      ]
     },
     "execution_count": 27,
     "metadata": {},
     "output_type": "execute_result"
    }
   ],
   "source": [
    "un_tableau"
   ]
  },
  {
   "cell_type": "code",
   "execution_count": 28,
   "metadata": {
    "slideshow": {
     "slide_type": "fragment"
    }
   },
   "outputs": [
    {
     "data": {
      "text/plain": [
       "array([[ 1,  3,  5],\n",
       "       [11, 13, 15]])"
      ]
     },
     "execution_count": 28,
     "metadata": {},
     "output_type": "execute_result"
    }
   ],
   "source": [
    "sub_array"
   ]
  },
  {
   "cell_type": "code",
   "execution_count": 29,
   "metadata": {
    "slideshow": {
     "slide_type": "fragment"
    }
   },
   "outputs": [
    {
     "data": {
      "text/plain": [
       "array([[ 1, 10,  5],\n",
       "       [11, 13, 15]])"
      ]
     },
     "execution_count": 29,
     "metadata": {},
     "output_type": "execute_result"
    }
   ],
   "source": [
    "sub_array[0,1] = 10\n",
    "sub_array"
   ]
  },
  {
   "cell_type": "code",
   "execution_count": 30,
   "metadata": {
    "slideshow": {
     "slide_type": "fragment"
    }
   },
   "outputs": [
    {
     "data": {
      "text/plain": [
       "array([[ 1,  2, 10,  4,  5],\n",
       "       [ 6,  7,  8,  9, 10],\n",
       "       [11, 12, 13, 14, 15]])"
      ]
     },
     "execution_count": 30,
     "metadata": {},
     "output_type": "execute_result"
    }
   ],
   "source": [
    "un_tableau  "
   ]
  },
  {
   "cell_type": "markdown",
   "metadata": {
    "slideshow": {
     "slide_type": "fragment"
    }
   },
   "source": [
    "Et là c'est le drame, ou pas, le sous-tableau n'étant qu'une vue lorsqu'on modifie un valeur dans la vue on modifie la case correspondante dans le tableau d'origine. "
   ]
  },
  {
   "cell_type": "markdown",
   "metadata": {
    "slideshow": {
     "slide_type": "subslide"
    }
   },
   "source": [
    "Donc attention avec les sous-tableaux c'est très très pratique, et en terme de coût de calcul cela permet de faire des optimisations assez élégantes mais en revanche il faut toujours avoir dans un coin de sa tête le fait que l'on travail sur une vue. "
   ]
  },
  {
   "cell_type": "markdown",
   "metadata": {
    "slideshow": {
     "slide_type": "subslide"
    }
   },
   "source": [
    "**Une remarque sur l'extraction de sous-tableau :** "
   ]
  },
  {
   "cell_type": "markdown",
   "metadata": {
    "slideshow": {
     "slide_type": "fragment"
    }
   },
   "source": [
    "Ainsi il est possible de cette manière d'accéder à un sous-tableau. Cependant dans de nombreuses applications, il est nécessaire d'avoir accès a un sous-tableau, souvent discontinu, uniquement à partir de liste d'indices de lignes et de colonnes. Or si l'on fait ca directement on peut observer ci-dessous que le sous-tableau extrait ne correspond pas. "
   ]
  },
  {
   "cell_type": "code",
   "execution_count": 254,
   "metadata": {
    "slideshow": {
     "slide_type": "fragment"
    }
   },
   "outputs": [
    {
     "name": "stdout",
     "output_type": "stream",
     "text": [
      "La matrice complète : \n",
      "[[ 1  2  3  4  5]\n",
      " [ 6  7  8  9 10]\n",
      " [11 12 13 14 15]]\n",
      "La sous-matrice par la mauvaise approche : \n",
      "[ 2 15]\n"
     ]
    }
   ],
   "source": [
    "matrice_a = np.array([[1,2,3,4,5],[6,7,8,9,10],[11,12,13,14,15]])\n",
    "print(\"La matrice complète : \\n{}\".format(matrice_a))\n",
    "idx_i = [0,2]\n",
    "idx_j = [1,4]\n",
    "sous_matrice = matrice_a[idx_i, idx_j]\n",
    "print(\"La sous-matrice par la mauvaise approche : \\n{}\".format(sous_matrice))"
   ]
  },
  {
   "cell_type": "markdown",
   "metadata": {
    "slideshow": {
     "slide_type": "subslide"
    }
   },
   "source": [
    "Afin d'avoir le résultat souhaité il est nécessaire d'utiliser la fonction `np.ix_`. Cette dernière permet de générer à partir de deux listes d'indices, le **mask** de valeurs souhaitées. "
   ]
  },
  {
   "cell_type": "code",
   "execution_count": 255,
   "metadata": {
    "slideshow": {
     "slide_type": "fragment"
    }
   },
   "outputs": [
    {
     "name": "stdout",
     "output_type": "stream",
     "text": [
      "La matrice complète : \n",
      "[[ 1  2  3  4  5]\n",
      " [ 6  7  8  9 10]\n",
      " [11 12 13 14 15]]\n",
      "mask : (array([[0],\n",
      "       [2]]), array([[1, 4]]))\n",
      "La sous-matrice par np.ix_ : \n",
      "[[ 2  5]\n",
      " [12 15]]\n"
     ]
    }
   ],
   "source": [
    "matrice_a = np.array([[1,2,3,4,5],[6,7,8,9,10],[11,12,13,14,15]])\n",
    "print(f\"La matrice complète : \\n{matrice_a}\")\n",
    "idx_i = [0,2]\n",
    "idx_j = [1,4]\n",
    "\n",
    "mask = np.ix_(idx_i, idx_j)\n",
    "print(f\"mask : {mask}\")\n",
    "\n",
    "sous_matrice = matrice_a[np.ix_(idx_i, idx_j)]\n",
    "\n",
    "print(\"La sous-matrice par np.ix_ : \\n{}\".format(sous_matrice))\n",
    "sous_matrice = matrice_a[np.ix_([0,2], [1,4])]"
   ]
  },
  {
   "cell_type": "markdown",
   "metadata": {
    "slideshow": {
     "slide_type": "subslide"
    }
   },
   "source": [
    "On vient donc de voir que l'on peut facilement extraire des sous-tableaux mais bien évidemment à l'aide de cela on peut facilement insérer des valeurs par bloque au sein d'un tableau de plus grande dimension. Par exemple : "
   ]
  },
  {
   "cell_type": "code",
   "execution_count": 194,
   "metadata": {
    "slideshow": {
     "slide_type": "fragment"
    }
   },
   "outputs": [
    {
     "name": "stdout",
     "output_type": "stream",
     "text": [
      "Big array : \n",
      "[[0. 0. 0. 0. 0. 0.]\n",
      " [0. 0. 0. 0. 0. 0.]\n",
      " [0. 0. 0. 0. 0. 0.]\n",
      " [0. 0. 0. 0. 0. 0.]\n",
      " [0. 0. 0. 0. 0. 0.]\n",
      " [0. 0. 0. 0. 0. 0.]]\n",
      "Little array : \n",
      "[[1. 0. 0.]\n",
      " [0. 1. 0.]\n",
      " [0. 0. 1.]]\n",
      "Big array après insertion : \n",
      "[[0. 0. 0. 0. 0. 0.]\n",
      " [0. 0. 0. 0. 0. 0.]\n",
      " [0. 0. 0. 0. 0. 0.]\n",
      " [1. 0. 0. 0. 0. 0.]\n",
      " [0. 1. 0. 0. 0. 0.]\n",
      " [0. 0. 1. 0. 0. 0.]]\n"
     ]
    }
   ],
   "source": [
    "big_array = np.zeros((6,6))\n",
    "little_array = np.eye(3)\n",
    "print(f\"Big array : \\n{big_array}\")\n",
    "print(f\"Little array : \\n{little_array}\")\n",
    "big_array[3:,0:3] = little_array\n",
    "print(f\"Big array après insertion : \\n{big_array}\")"
   ]
  },
  {
   "cell_type": "code",
   "execution_count": 195,
   "metadata": {
    "slideshow": {
     "slide_type": "subslide"
    }
   },
   "outputs": [
    {
     "name": "stdout",
     "output_type": "stream",
     "text": [
      "little_array = [[0.74474368 0.51291052]\n",
      " [0.28473009 0.32212729]]\n",
      "Big array après insertion: \n",
      "[[0.         0.         0.         0.         0.         0.        ]\n",
      " [0.         0.74474368 0.         0.51291052 0.         0.        ]\n",
      " [0.         0.         0.         0.         0.         0.        ]\n",
      " [1.         0.28473009 0.         0.32212729 0.         0.        ]\n",
      " [0.         1.         0.         0.         0.         0.        ]\n",
      " [0.         0.         1.         0.         0.         0.        ]]\n"
     ]
    }
   ],
   "source": [
    "little_array = np.random.rand(2,2)\n",
    "print(f\"little_array = {little_array}\")\n",
    "big_array[np.ix_([1,3],[1,3])] = little_array\n",
    "print(f\"Big array après insertion: \\n{big_array}\")"
   ]
  },
  {
   "cell_type": "markdown",
   "metadata": {
    "slideshow": {
     "slide_type": "subslide"
    }
   },
   "source": [
    "Parmi les autres manipulations possibles sur les **array** NumPy il y a l'opération `reshape` qui permet de changer la forme d'un tableau. Par exemple : "
   ]
  },
  {
   "cell_type": "code",
   "execution_count": 196,
   "metadata": {
    "slideshow": {
     "slide_type": "fragment"
    }
   },
   "outputs": [
    {
     "name": "stdout",
     "output_type": "stream",
     "text": [
      "Tableau avant reshape (2, 3) : \n",
      "[[1 2 3]\n",
      " [4 5 6]]\n",
      "Tableau après reshape (6, 1) : \n",
      "[[1]\n",
      " [2]\n",
      " [3]\n",
      " [4]\n",
      " [5]\n",
      " [6]]\n",
      "Tableau après reshape (6,) : \n",
      "[1 2 3 4 5 6]\n"
     ]
    }
   ],
   "source": [
    "array_1 = np.array([[1,2,3],[4,5,6]])\n",
    "print(\"Tableau avant reshape {} : \\n{}\".format( array_1.shape, array_1))\n",
    "\n",
    "array_2 = array_1.reshape((6,1))\n",
    "print(\"Tableau après reshape {} : \\n{}\".format( array_2.shape, array_2))\n",
    "\n",
    "array_3 = array_1.reshape((6,))\n",
    "print(\"Tableau après reshape {} : \\n{}\".format( array_3.shape, array_3))\n"
   ]
  },
  {
   "cell_type": "markdown",
   "metadata": {
    "slideshow": {
     "slide_type": "subslide"
    }
   },
   "source": [
    "> **Attention :**  \n",
    "> Pour que l'opération de reshape puisse fonctionner il est impératif que le nombre d'éléments total soit préserver. C'est à dire qu'il faut impérativement que le produit des tailles suivant chacunes des dimensions soit égale avant et après le `reshape`\n",
    "\n",
    "> *Astuce :*  \n",
    "> Pour plus de simplicité vous pouvez lors de l'opération de reshape, laisser une des tailles libre. Cette dernière sera automatiquement déduite des autres afin de satisfaire à la condition de conservation du nombre d'élément. Pour cela il suffit de donner une taille de **-1** à la dimension laissée libre."
   ]
  },
  {
   "cell_type": "code",
   "execution_count": 256,
   "metadata": {
    "slideshow": {
     "slide_type": "fragment"
    }
   },
   "outputs": [
    {
     "name": "stdout",
     "output_type": "stream",
     "text": [
      "Après le reshape((-1,1)) : \n",
      "[[1]\n",
      " [2]\n",
      " [3]\n",
      " [4]\n",
      " [5]\n",
      " [6]]\n"
     ]
    }
   ],
   "source": [
    "vecteur_colonne = array_1.reshape((-1,1))\n",
    "print(f\"Après le reshape((-1,1)) : \\n{vecteur_colonne}\")\n"
   ]
  },
  {
   "cell_type": "markdown",
   "metadata": {
    "slideshow": {
     "slide_type": "slide"
    }
   },
   "source": [
    "### Opérations booléennes et mask"
   ]
  },
  {
   "cell_type": "markdown",
   "metadata": {
    "slideshow": {
     "slide_type": "subslide"
    }
   },
   "source": [
    "Un concept clé de NumPy qui nous permet de ne pas faire de boucle `for` pour traiter les données et le concept de mask. Ce dernier est lié aux opérations booléenne. "
   ]
  },
  {
   "cell_type": "markdown",
   "metadata": {
    "slideshow": {
     "slide_type": "fragment"
    }
   },
   "source": [
    "Un `mask` c'est quoi ? C'est un tableau, un `np.ndarray` mais qui ne contient que des booléens. Ce `mask` va alors nous permettre d'isoler des parties de `np.ndarray` et ainsi d'appliquer différents traitement à différents éléments d'un tableau. "
   ]
  },
  {
   "cell_type": "markdown",
   "metadata": {
    "slideshow": {
     "slide_type": "subslide"
    }
   },
   "source": [
    "Parce qu'un exemple est toujours plus parlant que de grandes phrases : "
   ]
  },
  {
   "cell_type": "code",
   "execution_count": 31,
   "metadata": {
    "slideshow": {
     "slide_type": "fragment"
    }
   },
   "outputs": [
    {
     "data": {
      "text/plain": [
       "array([[1.79320061e-01, 9.61981537e-01, 1.53898194e-01],\n",
       "       [5.31106825e-01, 2.34520591e-01, 4.57158472e-01],\n",
       "       [4.59450069e-01, 8.01723609e-02, 9.36490480e-01],\n",
       "       [4.11140057e-01, 8.79136075e-01, 6.25821158e-01],\n",
       "       [8.30485184e-01, 4.60065810e-01, 1.77824675e-05],\n",
       "       [4.01054167e-01, 3.34354439e-02, 7.83652589e-01],\n",
       "       [8.77408424e-01, 4.44207926e-01, 7.08836174e-02],\n",
       "       [5.19533172e-04, 5.31692724e-01, 1.48492208e-01],\n",
       "       [6.01195532e-01, 3.27023686e-01, 7.88726064e-01],\n",
       "       [4.11754838e-01, 4.90177402e-01, 5.65125785e-01]])"
      ]
     },
     "execution_count": 31,
     "metadata": {},
     "output_type": "execute_result"
    }
   ],
   "source": [
    "data = np.random.rand(10,3)\n",
    "data"
   ]
  },
  {
   "cell_type": "markdown",
   "metadata": {
    "slideshow": {
     "slide_type": "fragment"
    }
   },
   "source": [
    "On peut créer un `mask` correspondant aux valeurs strictement inférieures à `0.5`. "
   ]
  },
  {
   "cell_type": "code",
   "execution_count": 32,
   "metadata": {
    "slideshow": {
     "slide_type": "fragment"
    }
   },
   "outputs": [
    {
     "data": {
      "text/plain": [
       "array([[ True, False,  True],\n",
       "       [False,  True,  True],\n",
       "       [ True,  True, False],\n",
       "       [ True, False, False],\n",
       "       [False,  True,  True],\n",
       "       [ True,  True, False],\n",
       "       [False,  True,  True],\n",
       "       [ True, False,  True],\n",
       "       [False,  True, False],\n",
       "       [ True,  True, False]])"
      ]
     },
     "execution_count": 32,
     "metadata": {},
     "output_type": "execute_result"
    }
   ],
   "source": [
    "masque = data < 0.5 \n",
    "masque"
   ]
  },
  {
   "cell_type": "markdown",
   "metadata": {
    "slideshow": {
     "slide_type": "subslide"
    }
   },
   "source": [
    "Si l'on applique le `mask` au tableau data on ne récupère alors que les valeurs pour lesquelles la case correspondante dans le `mask` est `True`. "
   ]
  },
  {
   "cell_type": "code",
   "execution_count": 33,
   "metadata": {
    "slideshow": {
     "slide_type": "fragment"
    }
   },
   "outputs": [
    {
     "data": {
      "text/plain": [
       "array([1.79320061e-01, 1.53898194e-01, 2.34520591e-01, 4.57158472e-01,\n",
       "       4.59450069e-01, 8.01723609e-02, 4.11140057e-01, 4.60065810e-01,\n",
       "       1.77824675e-05, 4.01054167e-01, 3.34354439e-02, 4.44207926e-01,\n",
       "       7.08836174e-02, 5.19533172e-04, 1.48492208e-01, 3.27023686e-01,\n",
       "       4.11754838e-01, 4.90177402e-01])"
      ]
     },
     "execution_count": 33,
     "metadata": {},
     "output_type": "execute_result"
    }
   ],
   "source": [
    "data[ masque ]"
   ]
  },
  {
   "cell_type": "markdown",
   "metadata": {
    "slideshow": {
     "slide_type": "subslide"
    }
   },
   "source": [
    "L'intéret est que l'on peut alors appliquer en traitement particulier à ces valeurs. Par exemple : "
   ]
  },
  {
   "cell_type": "code",
   "execution_count": 262,
   "metadata": {
    "slideshow": {
     "slide_type": "fragment"
    }
   },
   "outputs": [
    {
     "data": {
      "text/plain": [
       "array([[0.        , 0.        , 0.        ],\n",
       "       [0.76081906, 0.66033546, 0.77685713],\n",
       "       [0.        , 0.94705313, 0.75591596],\n",
       "       [0.60251185, 0.81107321, 0.        ],\n",
       "       [0.        , 0.6697804 , 0.        ],\n",
       "       [0.50558094, 0.795759  , 0.52204154],\n",
       "       [0.50248221, 0.56822384, 0.        ],\n",
       "       [0.        , 0.        , 0.5211248 ],\n",
       "       [0.85522416, 0.        , 0.        ],\n",
       "       [0.99455928, 0.67411391, 0.91805862]])"
      ]
     },
     "execution_count": 262,
     "metadata": {},
     "output_type": "execute_result"
    }
   ],
   "source": [
    "data[ masque ] = 0. \n",
    "data "
   ]
  },
  {
   "cell_type": "markdown",
   "metadata": {
    "slideshow": {
     "slide_type": "subslide"
    }
   },
   "source": [
    "La construction d'un mask peut faire intervenir des opérations aussi complexes que vous le souhaitez. Par exemple : "
   ]
  },
  {
   "cell_type": "code",
   "execution_count": 34,
   "metadata": {
    "slideshow": {
     "slide_type": "fragment"
    }
   },
   "outputs": [
    {
     "name": "stdout",
     "output_type": "stream",
     "text": [
      "[[0.03352023 0.74594486 0.32991777]\n",
      " [0.27260307 0.75102059 0.86156808]\n",
      " [0.09062504 0.49941925 0.84884335]\n",
      " [0.55858888 0.98656288 0.9673547 ]\n",
      " [0.45150738 0.01085249 0.92512969]\n",
      " [0.03173869 0.17618073 0.06500593]\n",
      " [0.07255487 0.63729381 0.78417455]\n",
      " [0.29584475 0.8112431  0.18734358]\n",
      " [0.79451238 0.13429947 0.4849906 ]\n",
      " [0.45297086 0.89518818 0.9008808 ]]\n"
     ]
    },
    {
     "data": {
      "text/plain": [
       "array([[ True, False, False],\n",
       "       [ True, False, False],\n",
       "       [ True, False, False],\n",
       "       [False, False, False],\n",
       "       [False,  True, False],\n",
       "       [ True,  True,  True],\n",
       "       [ True, False, False],\n",
       "       [ True, False,  True],\n",
       "       [False,  True, False],\n",
       "       [False, False, False]])"
      ]
     },
     "execution_count": 34,
     "metadata": {},
     "output_type": "execute_result"
    }
   ],
   "source": [
    "data = np.random.rand(10,3)\n",
    "print(data)\n",
    "mask_0_03 = np.logical_and(data > 0., data < 0.3) \n",
    "mask_0_03 "
   ]
  },
  {
   "cell_type": "code",
   "execution_count": 264,
   "metadata": {
    "slideshow": {
     "slide_type": "fragment"
    }
   },
   "outputs": [
    {
     "name": "stdout",
     "output_type": "stream",
     "text": [
      "[[0.30606712 0.2706584  0.58779624]\n",
      " [0.92834445 0.45368817 0.85700025]\n",
      " [0.18932167 0.23750781 0.0899697 ]\n",
      " [0.39232742 0.35393956 0.02534926]\n",
      " [0.91789421 0.0674691  0.85483574]\n",
      " [0.25540802 0.813414   0.92300878]\n",
      " [0.51918844 0.47842193 0.25271034]\n",
      " [0.12681924 0.57219156 0.27177804]\n",
      " [0.57038238 0.51816736 0.72883153]\n",
      " [0.57262495 0.06314435 0.47309517]]\n"
     ]
    },
    {
     "data": {
      "text/plain": [
       "array([[False,  True, False],\n",
       "       [ True, False,  True],\n",
       "       [ True,  True,  True],\n",
       "       [False, False,  True],\n",
       "       [ True,  True,  True],\n",
       "       [ True,  True,  True],\n",
       "       [False, False,  True],\n",
       "       [ True, False,  True],\n",
       "       [False, False,  True],\n",
       "       [False,  True, False]])"
      ]
     },
     "execution_count": 264,
     "metadata": {},
     "output_type": "execute_result"
    }
   ],
   "source": [
    "data = np.random.rand(10,3)\n",
    "print(data)\n",
    "mask_inf03_or_sup07 = np.logical_or(data<0.3, data>0.7)\n",
    "mask_inf03_or_sup07"
   ]
  },
  {
   "cell_type": "markdown",
   "metadata": {
    "slideshow": {
     "slide_type": "subslide"
    }
   },
   "source": [
    "Et il existe également la négation d'un `mask`"
   ]
  },
  {
   "cell_type": "code",
   "execution_count": 265,
   "metadata": {
    "slideshow": {
     "slide_type": "fragment"
    }
   },
   "outputs": [
    {
     "name": "stdout",
     "output_type": "stream",
     "text": [
      "[[False  True False]\n",
      " [ True False  True]\n",
      " [ True  True  True]\n",
      " [False False  True]\n",
      " [ True  True  True]\n",
      " [ True  True  True]\n",
      " [False False  True]\n",
      " [ True False  True]\n",
      " [False False  True]\n",
      " [False  True False]]\n"
     ]
    },
    {
     "data": {
      "text/plain": [
       "array([[ True, False,  True],\n",
       "       [False,  True, False],\n",
       "       [False, False, False],\n",
       "       [ True,  True, False],\n",
       "       [False, False, False],\n",
       "       [False, False, False],\n",
       "       [ True,  True, False],\n",
       "       [False,  True, False],\n",
       "       [ True,  True, False],\n",
       "       [ True, False,  True]])"
      ]
     },
     "execution_count": 265,
     "metadata": {},
     "output_type": "execute_result"
    }
   ],
   "source": [
    "print(mask_inf03_or_sup07)\n",
    "np.logical_not(mask_inf03_or_sup07)\n"
   ]
  },
  {
   "cell_type": "markdown",
   "metadata": {
    "slideshow": {
     "slide_type": "slide"
    }
   },
   "source": [
    "### Opération de réduction"
   ]
  },
  {
   "cell_type": "markdown",
   "metadata": {
    "slideshow": {
     "slide_type": "subslide"
    }
   },
   "source": [
    "Nous avons vu au début qu'il y a dans NumPy un certain nombre de fonction mathématique définie permettant de traiter toutes les entrées d'un tableau simultanément. "
   ]
  },
  {
   "cell_type": "markdown",
   "metadata": {
    "slideshow": {
     "slide_type": "fragment"
    }
   },
   "source": [
    "Dans un registre similaire vous avez à disposition dans NumPy des fonctions, dites de réductions qui vous permettent de calculer des quantités globales sur un `np.ndarray`. "
   ]
  },
  {
   "cell_type": "markdown",
   "metadata": {
    "slideshow": {
     "slide_type": "fragment"
    }
   },
   "source": [
    "Par exemple pour calculer la moyenne d'un `np.ndarray` de rang 1. Vous pourriez vouloir écrire : "
   ]
  },
  {
   "cell_type": "code",
   "execution_count": 35,
   "metadata": {
    "slideshow": {
     "slide_type": "fragment"
    }
   },
   "outputs": [
    {
     "name": "stdout",
     "output_type": "stream",
     "text": [
      "values = [0.07122137 0.08503185 0.34670221 0.1662725  0.50843386 0.6681627\n",
      " 0.85418688 0.93263319 0.61753859 0.92277975]\n"
     ]
    }
   ],
   "source": [
    "values = np.random.rand(10)\n",
    "print(f\"values = {values}\")"
   ]
  },
  {
   "cell_type": "code",
   "execution_count": 36,
   "metadata": {
    "slideshow": {
     "slide_type": "fragment"
    }
   },
   "outputs": [
    {
     "name": "stdout",
     "output_type": "stream",
     "text": [
      "0.5172962902233836\n"
     ]
    }
   ],
   "source": [
    "m = 0\n",
    "for x in values:\n",
    "    m += x\n",
    "m /= values.size\n",
    "print(m)"
   ]
  },
  {
   "cell_type": "markdown",
   "metadata": {
    "slideshow": {
     "slide_type": "subslide"
    }
   },
   "source": [
    "Ce n'est pas optimale, NumPy met à votre dispositon la fonction `np.mean` qui s'utilise de la manière suivante : "
   ]
  },
  {
   "cell_type": "code",
   "execution_count": 268,
   "metadata": {
    "slideshow": {
     "slide_type": "fragment"
    }
   },
   "outputs": [
    {
     "data": {
      "text/plain": [
       "0.451329601984052"
      ]
     },
     "execution_count": 268,
     "metadata": {},
     "output_type": "execute_result"
    }
   ],
   "source": [
    "np.mean(values)"
   ]
  },
  {
   "cell_type": "markdown",
   "metadata": {
    "slideshow": {
     "slide_type": "subslide"
    }
   },
   "source": [
    "Dans le même registre voici un liste non-exhaustive de fonction de réduction disponible dans Python : \n",
    "    \n",
    "* `np.sum`\n",
    "* `np.min`\n",
    "* `np.mean`\n",
    "* `np.std`\n",
    "* `np.var`\n",
    "* `np.max`\n",
    "* `np.min`\n",
    "* `np.argmax`\n",
    "* `np.argmin`    \n",
    "\n",
    "Les noms sont plutôt explicites "
   ]
  },
  {
   "cell_type": "markdown",
   "metadata": {
    "slideshow": {
     "slide_type": "subslide"
    }
   },
   "source": [
    "Il y a juste une petite subtilité à connaitre avec ces opérations de réduction. En effet elles fonctionnent sur des `np.ndarray` de n'importe quel rang. Par exemple : "
   ]
  },
  {
   "cell_type": "code",
   "execution_count": 37,
   "metadata": {
    "slideshow": {
     "slide_type": "fragment"
    }
   },
   "outputs": [
    {
     "data": {
      "text/plain": [
       "array([[0.33343952, 0.14712788, 0.78460141],\n",
       "       [0.03271771, 0.78501697, 0.94547121],\n",
       "       [0.90327564, 0.39572737, 0.42013098],\n",
       "       [0.41131988, 0.46885164, 0.76724328]])"
      ]
     },
     "execution_count": 37,
     "metadata": {},
     "output_type": "execute_result"
    }
   ],
   "source": [
    "data = np.random.rand(4,3)\n",
    "data"
   ]
  },
  {
   "cell_type": "markdown",
   "metadata": {
    "slideshow": {
     "slide_type": "fragment"
    }
   },
   "source": [
    "Si l'on utilise alors la fonction `np.max` par exemple, tel quel cette fonction va nous retourner la valeur maximale sur l'intégralité du tableau. "
   ]
  },
  {
   "cell_type": "code",
   "execution_count": 38,
   "metadata": {
    "slideshow": {
     "slide_type": "fragment"
    }
   },
   "outputs": [
    {
     "data": {
      "text/plain": [
       "0.9454712116901625"
      ]
     },
     "execution_count": 38,
     "metadata": {},
     "output_type": "execute_result"
    }
   ],
   "source": [
    "np.max(data)"
   ]
  },
  {
   "cell_type": "markdown",
   "metadata": {
    "slideshow": {
     "slide_type": "subslide"
    }
   },
   "source": [
    "Mais il se peut que ce ne soit pas le comportement que vous voulez. Par exemple vous voulez le max de chaque colonne : "
   ]
  },
  {
   "cell_type": "code",
   "execution_count": 39,
   "metadata": {
    "slideshow": {
     "slide_type": "fragment"
    }
   },
   "outputs": [
    {
     "data": {
      "text/plain": [
       "array([0.90327564, 0.78501697, 0.94547121])"
      ]
     },
     "execution_count": 39,
     "metadata": {},
     "output_type": "execute_result"
    }
   ],
   "source": [
    "np.max(data, axis=0)"
   ]
  },
  {
   "cell_type": "markdown",
   "metadata": {
    "slideshow": {
     "slide_type": "fragment"
    }
   },
   "source": [
    "Ou alors le max de chaque ligne : "
   ]
  },
  {
   "cell_type": "code",
   "execution_count": 40,
   "metadata": {
    "slideshow": {
     "slide_type": "fragment"
    }
   },
   "outputs": [
    {
     "data": {
      "text/plain": [
       "array([0.78460141, 0.94547121, 0.90327564, 0.76724328])"
      ]
     },
     "execution_count": 40,
     "metadata": {},
     "output_type": "execute_result"
    }
   ],
   "source": [
    "np.max(data, axis=1)"
   ]
  },
  {
   "cell_type": "markdown",
   "metadata": {
    "slideshow": {
     "slide_type": "fragment"
    }
   },
   "source": [
    "Vous voyez donc que grace à l'argument `axis` vous pouvez piloter le comportement des fonctions de réduction afin que ces dernières ne s'appliquent pas de manière globale mais de manière plus spécifique.  "
   ]
  },
  {
   "cell_type": "markdown",
   "metadata": {
    "slideshow": {
     "slide_type": "slide"
    }
   },
   "source": [
    "### L'algèbre linéaire\n",
    "\n",
    "En plus des opérations usuelles et des opérations booléennes NumPy implémente un certain nombre de fonctions d'algèbre linéaire. En effet car NumPy étant le module Python pour les tableaux multi-dimensionnel et donc en particulier les matrices et les vecteurs, il devait impérativement disposer des ces fonctions d'algèbre linéaire. Pour utiliser les fonctions d'algèbre linéaire de NumPy il faut faire appel au sous-module `numpy.linalg`. "
   ]
  },
  {
   "cell_type": "code",
   "execution_count": 212,
   "metadata": {
    "slideshow": {
     "slide_type": "fragment"
    }
   },
   "outputs": [],
   "source": [
    "import numpy.linalg as npl"
   ]
  },
  {
   "cell_type": "markdown",
   "metadata": {
    "slideshow": {
     "slide_type": "subslide"
    }
   },
   "source": [
    "Tout d'abord il y a les fonctions `norm`, `cond` et `det`, qui comme leurs noms l'indiquent permettent de calculer respectivement la norme, le conditionnement et le déterminant d'un tableau à 2 dimensions. "
   ]
  },
  {
   "cell_type": "code",
   "execution_count": 213,
   "metadata": {
    "slideshow": {
     "slide_type": "fragment"
    }
   },
   "outputs": [
    {
     "name": "stdout",
     "output_type": "stream",
     "text": [
      "A = \n",
      "[[0.00766413 0.51439245 0.6119581  0.49198054 0.36793699]\n",
      " [0.11513746 0.55117175 0.71699664 0.5531666  0.04011593]\n",
      " [0.47448348 0.72339688 0.88111132 0.76791187 0.8797345 ]\n",
      " [0.16567518 0.79375957 0.27057707 0.22355701 0.08756923]\n",
      " [0.68946957 0.03197201 0.51692005 0.02841038 0.18006105]]\n",
      "||A||   = 2.570780032695112\n",
      "cond(A) = 26.393836262174204\n",
      "det(A)  = -0.03355290231543716\n"
     ]
    }
   ],
   "source": [
    "array_2d = np.random.rand(5,5)\n",
    "norm_array = npl.norm( array_2d )\n",
    "cond_array = npl.cond( array_2d )\n",
    "det_array  = npl.det( array_2d )\n",
    "\n",
    "\n",
    "print(\"A = \\n{}\".format(array_2d))\n",
    "print(\"||A||   = {}\".format(norm_array))\n",
    "print(\"cond(A) = {}\".format(cond_array))\n",
    "print(\"det(A)  = {}\".format(det_array))"
   ]
  },
  {
   "cell_type": "markdown",
   "metadata": {
    "slideshow": {
     "slide_type": "subslide"
    }
   },
   "source": [
    "Il y a ensuite toutes les méthodes de décomposition de matrice et de résolution de systèmes linéaires :\n",
    "* `solve( A, b )` qui permet de trouver la solution au système $A\\cdot x = b$\n",
    "* `inv( A )` qui permet de calculer $A^{-1}$\n",
    "* `pinv( A )` qui calcul la pseudo inverse de la matrice $A$\n",
    "* `svd` qui permet de calculer la décomposition en valeur singulière d'une matrice\n",
    "* `eig( A )` calcul les valeurs et vecteurs propres "
   ]
  },
  {
   "cell_type": "code",
   "execution_count": 271,
   "metadata": {
    "slideshow": {
     "slide_type": "subslide"
    }
   },
   "outputs": [
    {
     "name": "stdout",
     "output_type": "stream",
     "text": [
      "rhs = \n",
      "[[0.26185796]\n",
      " [0.14322573]\n",
      " [0.87829262]\n",
      " [0.270139  ]\n",
      " [0.62433189]]\n",
      "[[0.00766413 0.51439245 0.6119581  0.49198054 0.36793699]\n",
      " [0.11513746 0.55117175 0.71699664 0.5531666  0.04011593]\n",
      " [0.47448348 0.72339688 0.88111132 0.76791187 0.8797345 ]\n",
      " [0.16567518 0.79375957 0.27057707 0.22355701 0.08756923]\n",
      " [0.68946957 0.03197201 0.51692005 0.02841038 0.18006105]]\n"
     ]
    }
   ],
   "source": [
    "rhs = np.random.rand(5,1)\n",
    "print(\"rhs = \\n{}\".format(rhs))\n",
    "print(array_2d)"
   ]
  },
  {
   "cell_type": "code",
   "execution_count": 222,
   "metadata": {
    "slideshow": {
     "slide_type": "fragment"
    }
   },
   "outputs": [
    {
     "name": "stdout",
     "output_type": "stream",
     "text": [
      "Solution x = \n",
      "[[ 0.17822095]\n",
      " [ 1.09285468]\n",
      " [ 0.29577765]\n",
      " [-0.05263241]\n",
      " [-1.07323832]]\n"
     ]
    }
   ],
   "source": [
    "x = npl.solve( array_2d, rhs )\n",
    "print(\"Solution x = \\n{}\".format(x))"
   ]
  },
  {
   "cell_type": "code",
   "execution_count": 223,
   "metadata": {
    "slideshow": {
     "slide_type": "fragment"
    }
   },
   "outputs": [
    {
     "name": "stdout",
     "output_type": "stream",
     "text": [
      "A.x-rhs = \n",
      "[[-5.55111512e-17]\n",
      " [ 2.22044605e-16]\n",
      " [-1.11022302e-16]\n",
      " [ 1.11022302e-16]\n",
      " [-5.55111512e-17]]\n"
     ]
    }
   ],
   "source": [
    "verif = array_2d @ x  - rhs\n",
    "print(\"A.x-rhs = \\n{}\".format(verif))"
   ]
  },
  {
   "cell_type": "code",
   "execution_count": 224,
   "metadata": {
    "slideshow": {
     "slide_type": "fragment"
    }
   },
   "outputs": [
    {
     "name": "stdout",
     "output_type": "stream",
     "text": [
      "inv(A)*A = \n",
      "[[ 1.00000000e+00  4.19238368e-18  2.27360312e-16  5.34379453e-16\n",
      "  -2.36399079e-16]\n",
      " [ 6.19251183e-17  1.00000000e+00  7.40159189e-17 -5.56411420e-17\n",
      "   7.68688780e-17]\n",
      " [ 1.17693462e-17 -3.60027493e-16  1.00000000e+00 -7.85977994e-16\n",
      "   3.20461119e-16]\n",
      " [-2.94984427e-17  6.60128697e-17 -1.67175109e-19  1.00000000e+00\n",
      "  -6.46676874e-16]\n",
      " [-3.94778311e-17 -1.35380746e-16 -7.26770843e-17 -9.30080081e-17\n",
      "   1.00000000e+00]]\n"
     ]
    }
   ],
   "source": [
    "array_inv = npl.inv( array_2d )\n",
    "verif = array_inv.dot( array_2d )\n",
    "print(\"inv(A)*A = \\n{}\".format( verif ) )"
   ]
  },
  {
   "cell_type": "markdown",
   "metadata": {
    "slideshow": {
     "slide_type": "subslide"
    }
   },
   "source": [
    "### Les entrées-sorties avec NumPy\n",
    "\n"
   ]
  },
  {
   "cell_type": "markdown",
   "metadata": {
    "slideshow": {
     "slide_type": "fragment"
    }
   },
   "source": [
    "En plus de fournir des fonctionnalité de création et manipulations de tableaux et d'algèbre linéaire NumPy permet de gérer des entrées-sorties de manière plus simples pour l'utilisateur que ce qui est permis de base dans Python. \n",
    "\n",
    "Parmis les différentes fonctions d'IO que propose NumPy, les trois qui vous seront certainement le plus utile sont : \n",
    "* `loadtxt` qui permet de charger le contenu d'un fichier texte (bien formatté, par exemple un csv) sous la forme directement sous la forme d'un tableau NumPy. \n",
    "* `savetxt` permet de sauvegarder dans un fichier texte le contenu d'un `array` numpy. \n",
    "* `genfromtxt` similaire à `loadtxt` sauf qu'ici le fichier de données peut comporter des trous, données manquantes, qui seront alors automatiquement remplacée par une valeur spécifiée par l'utilisateur. \n",
    "\n",
    "\n"
   ]
  },
  {
   "cell_type": "markdown",
   "metadata": {
    "slideshow": {
     "slide_type": "subslide"
    }
   },
   "source": [
    "Voici ci dessous un extrait d'un fichier texte contenant des données d'acquisition d'essai de traction."
   ]
  },
  {
   "cell_type": "code",
   "execution_count": 215,
   "metadata": {
    "slideshow": {
     "slide_type": "fragment"
    }
   },
   "outputs": [
    {
     "name": "stdout",
     "output_type": "stream",
     "text": [
      "# MTS793|MPT|FRA|1|2|,|/|:|33|1|1|A\t\t\t\t\t\t\t\t\t\r",
      "\r\n",
      "# \t\t\t\t\t\t\t\t\t\r",
      "\r\n",
      "# Acquisition de donn?s\t\t\t\t\t\tTemps:\t67,923828\ts\t26.7.2017 22:18\r",
      "\r\n",
      "# Temps\tCh 1 Displacement\tCh 1 Force\tCh 1 Extenso1\t\t\t\t\t\t\r",
      "\r\n",
      "# s\tmm\tkN\tmm\t\t\t\t\t\t\r",
      "\r\n",
      "0.11914063\t0.001544035\t0.097813249\t7.49E-05\t\t\t\t\t\t\r",
      "\r\n",
      "0.21875\t0.000721824\t0.099797331\t0.000197031\t\t\t\t\t\t\r",
      "\r\n",
      "0.31835938\t0.001864315\t0.105109\t0.000117682\t\t\t\t\t\t\r",
      "\r\n",
      "0.41796875\t0.000874794\t0.1061257\t0.000126474\t\t\t\t\t\t\r",
      "\r\n",
      "0.51757813\t0.001539255\t0.11434808\t0.000134669\t\t\t\t\t\t\r",
      "\r\n"
     ]
    }
   ],
   "source": [
    "!head data/curves/data.txt"
   ]
  },
  {
   "cell_type": "markdown",
   "metadata": {
    "slideshow": {
     "slide_type": "subslide"
    }
   },
   "source": [
    "Pour charger ces données la première solution serait de parser le fichier à la main en utilisant `open`, `read` et enfin la méthode `split` des string. Cependant `numpy` met à disposition la méthode `loadtxt` qui offre un confort d'utilisation accru. Par exemple pour charger les données précédentes, cela se réalise en une seule commande : "
   ]
  },
  {
   "cell_type": "code",
   "execution_count": 41,
   "metadata": {
    "slideshow": {
     "slide_type": "fragment"
    }
   },
   "outputs": [],
   "source": [
    "data_from_file = np.loadtxt(\"data/curves/data.txt\", comments=\"#\")  "
   ]
  },
  {
   "cell_type": "code",
   "execution_count": 217,
   "metadata": {
    "scrolled": true,
    "slideshow": {
     "slide_type": "fragment"
    }
   },
   "outputs": [
    {
     "name": "stdout",
     "output_type": "stream",
     "text": [
      "Shape : (681, 4) \n",
      "[[ 1.1914063e-01  1.5440350e-03  9.7813249e-02  7.4900000e-05]\n",
      " [ 2.1875000e-01  7.2182400e-04  9.9797331e-02  1.9703100e-04]\n",
      " [ 3.1835938e-01  1.8643150e-03  1.0510900e-01  1.1768200e-04]\n",
      " [ 4.1796875e-01  8.7479400e-04  1.0612570e-01  1.2647400e-04]\n",
      " [ 5.1757813e-01  1.5392550e-03  1.1434808e-01  1.3466900e-04]\n",
      " [ 6.1718750e-01  5.5929400e-04  1.1795573e-01  1.7449300e-04]\n",
      " [ 7.1679688e-01  1.1329300e-03  1.3211440e-01  2.2992500e-04]\n",
      " [ 8.1640625e-01  2.5813600e-04  1.4328328e-01 -4.4100000e-05]\n",
      " [ 9.1601563e-01  8.1265000e-04  1.6090605e-01  4.2073400e-04]\n",
      " [ 1.0156250e+00 -4.4934800e-04  1.8887568e-01  2.5969000e-04]]\n"
     ]
    }
   ],
   "source": [
    "print(\"Shape : {} \".format(data_from_file.shape))\n",
    "print( data_from_file[:10,:])"
   ]
  },
  {
   "cell_type": "markdown",
   "metadata": {
    "slideshow": {
     "slide_type": "subslide"
    }
   },
   "source": [
    "On remarque que l'on a spécifié l'argument optionel `comments`, cela permet d'indiquer à NumPy quelles lignes sont à ne pas prendre en compte. Si jamais les premières lignes ne commencent pas par un caractère spécifique (carctère de commentaire) il est quand même possible de les ignorer à l'aide de l'argument optionel `skiprosws` qui permet d'indiquer le nombre que l'on souhaite ignorer au début du fichier. Une utilisation équivalente de `loadtxt` à la précédente serait donc : "
   ]
  },
  {
   "cell_type": "code",
   "execution_count": 42,
   "metadata": {
    "slideshow": {
     "slide_type": "fragment"
    }
   },
   "outputs": [],
   "source": [
    "data_from_file = np.loadtxt(\"data/curves/data.txt\", skiprows=5)"
   ]
  },
  {
   "cell_type": "code",
   "execution_count": 219,
   "metadata": {
    "slideshow": {
     "slide_type": "fragment"
    }
   },
   "outputs": [
    {
     "name": "stdout",
     "output_type": "stream",
     "text": [
      "Shape : (681, 4) \n",
      "[[ 1.1914063e-01  1.5440350e-03  9.7813249e-02  7.4900000e-05]\n",
      " [ 2.1875000e-01  7.2182400e-04  9.9797331e-02  1.9703100e-04]\n",
      " [ 3.1835938e-01  1.8643150e-03  1.0510900e-01  1.1768200e-04]\n",
      " [ 4.1796875e-01  8.7479400e-04  1.0612570e-01  1.2647400e-04]\n",
      " [ 5.1757813e-01  1.5392550e-03  1.1434808e-01  1.3466900e-04]\n",
      " [ 6.1718750e-01  5.5929400e-04  1.1795573e-01  1.7449300e-04]\n",
      " [ 7.1679688e-01  1.1329300e-03  1.3211440e-01  2.2992500e-04]\n",
      " [ 8.1640625e-01  2.5813600e-04  1.4328328e-01 -4.4100000e-05]\n",
      " [ 9.1601563e-01  8.1265000e-04  1.6090605e-01  4.2073400e-04]\n",
      " [ 1.0156250e+00 -4.4934800e-04  1.8887568e-01  2.5969000e-04]]\n"
     ]
    }
   ],
   "source": [
    "print(\"Shape : {} \".format(data_from_file.shape))\n",
    "print( data_from_file[:10,:])"
   ]
  }
 ],
 "metadata": {
  "kernelspec": {
   "display_name": "Python 3",
   "language": "python",
   "name": "python3"
  },
  "language_info": {
   "codemirror_mode": {
    "name": "ipython",
    "version": 3
   },
   "file_extension": ".py",
   "mimetype": "text/x-python",
   "name": "python",
   "nbconvert_exporter": "python",
   "pygments_lexer": "ipython3",
   "version": "3.7.4"
  },
  "nbTranslate": {
   "displayLangs": [
    "*"
   ],
   "hotkey": "alt-t",
   "langInMainMenu": true,
   "sourceLang": "en",
   "targetLang": "fr",
   "useGoogleTranslate": true
  },
  "rise": {
   "autolaunch": true,
   "slideNumber": "c/t",
   "theme": "moon",
   "transition": "slide"
  }
 },
 "nbformat": 4,
 "nbformat_minor": 2
}
