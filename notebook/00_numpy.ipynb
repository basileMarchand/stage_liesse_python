{
 "cells": [
  {
   "cell_type": "code",
   "execution_count": 2,
   "metadata": {
    "slideshow": {
     "slide_type": "skip"
    }
   },
   "outputs": [],
   "source": [
    "from IPython.display import set_matplotlib_formats\n",
    "set_matplotlib_formats('svg')"
   ]
  },
  {
   "cell_type": "markdown",
   "metadata": {
    "slideshow": {
     "slide_type": "slide"
    }
   },
   "source": [
    "# Introduction à Numpy\n",
    "\n",
    "-----------------------------------------\n",
    "\n",
    "***Basile Marchand (Centre des Matériaux @ Mines ParisTech/CNRS/Université PSL)***"
   ]
  },
  {
   "cell_type": "markdown",
   "metadata": {
    "slideshow": {
     "slide_type": "slide"
    }
   },
   "source": [
    "## Numpy "
   ]
  },
  {
   "cell_type": "markdown",
   "metadata": {
    "slideshow": {
     "slide_type": "subslide"
    }
   },
   "source": [
    "NumPy est un module Python permettant de travailler avec des tableaux multidimensionel. En effet Python ne dispose pas nativement de notions de tableaux et donc par extensions encore moins des notions de matrices. \n",
    "\n",
    "Il est donc nécessaire d'utiliser un module particulier, qui n'est pas un module de la librairie standard Python. **Le** module recommandé pour la manipulation de tableau multidimensionnel (cela inclu donc les matrices) est donc **NumPy**. \n",
    "\n",
    "Pour preuve de la reconnaissance de ce module ainsi que de ses performances il faut souligner qu'il s'agit du module qui est employé à peu prêt dans tous les autres modules scientifiques disponibles dans Python. Le secret du module NumPy est que par un soucis de performances ce dernier n'est pas développer en Python mais en C++. "
   ]
  },
  {
   "cell_type": "markdown",
   "metadata": {
    "slideshow": {
     "slide_type": "subslide"
    }
   },
   "source": [
    "Bien évidemment l'utilisation de ce module se fait de la manière classique : \n",
    "\n",
    "```python\n",
    "import numpy\n",
    "```\n",
    "\n",
    "Cependant par soucis de simplicité vous verrez quasiment toujours l'import réalisé en donnant un alias à numpy  :\n",
    "\n",
    "```python\n",
    "import numpy as np\n",
    "```"
   ]
  },
  {
   "cell_type": "markdown",
   "metadata": {
    "slideshow": {
     "slide_type": "subslide"
    }
   },
   "source": [
    "L'objet de base dans NumPy, celui que l'on va manipuler par la suite, est le **np.ndarray**. Un **np.ndarray** numpy est un tableau multidimensionnel de même type (on ne peut pas mélanger entier, flottant et chaine de caractère dans un même **np.ndarray** par exemple). On appelle *rang* de l'**np.ndarray** le nombre de dimension de ce dernier : \n",
    "* *rang de 1* : tableau à 1 dimension donc une ligne de M colonnes\n",
    "* *rang de 2* : tableau à 2 dimension donc N lignes et M colonnes\n",
    "* *rang de 3* : tableau à trois dimensions (un pavé dans l'espace) \n",
    "* etc \n",
    "\n",
    "Et la forme de l'*array*, *shape* en anglais, est un N-uplet qui caractérise la taille du tableau suivant chacune de ses dimensions. Par exemple :\n",
    "* Un vecteur ligne de taille **N** correspond à un **array** avec rank=1 et shape=(N,)\n",
    "* Un vecteur colonne de taille **N** correspond à un **array** avec rank=2 et shape=(1,N)\n",
    "* Une matrice rectangulaire **NxM** correspond à un **array** avec rank=2 et shape=(N,M)\n",
    "* Une hypermatrice carré **NxNxN** correspond à un **array** avec rank=3 et shape=(N,N,N)\n"
   ]
  },
  {
   "cell_type": "markdown",
   "metadata": {
    "slideshow": {
     "slide_type": "slide"
    }
   },
   "source": [
    "### Création d'un **array**\n",
    "\n",
    "La définition d'un `np.ndarray` à partir d'un ensemble de valeurs se fait en utisant `np.array` de la manière suivante : "
   ]
  },
  {
   "cell_type": "code",
   "execution_count": 4,
   "metadata": {
    "slideshow": {
     "slide_type": "fragment"
    }
   },
   "outputs": [
    {
     "name": "stdout",
     "output_type": "stream",
     "text": [
      "une matrice 3x3 : \n",
      "[[1 2 3]\n",
      " [4 5 6]\n",
      " [7 8 9]]\n",
      "un vecteur colonne : \n",
      "[[1]\n",
      " [2]\n",
      " [3]]\n",
      "un vecteur ligne : \n",
      "[1 2 3]\n",
      "un tableau 3 dimension :\n",
      "[[[ 1  2  3]\n",
      "  [ 2  5  6]]\n",
      "\n",
      " [[11 12 13]\n",
      "  [14 15 16]]]\n"
     ]
    }
   ],
   "source": [
    "import numpy as np\n",
    "une_matrice_3_3 = np.array([[1,2,3], [4,5,6], [7,8,9]])\n",
    "print(f\"une matrice 3x3 : \\n{une_matrice_3_3}\")\n",
    "un_vecteur_colonne = np.array([[1,], [2,], [3,]]) \n",
    "print(f\"un vecteur colonne : \\n{un_vecteur_colonne}\")\n",
    "un_vecteur_ligne = np.array([1,2,3])\n",
    "print(f\"un vecteur ligne : \\n{un_vecteur_ligne}\")\n",
    "un_tableau_3_dimension = np.array( [[[1,2,3],[2,5,6]], [[11,12,13],[14,15,16]]])\n",
    "print(f\"un tableau 3 dimension :\\n{un_tableau_3_dimension}\")"
   ]
  },
  {
   "cell_type": "markdown",
   "metadata": {
    "slideshow": {
     "slide_type": "subslide"
    }
   },
   "source": [
    "Pour connaitre le rang et la forme d'un **array** NumPy il suffit de procéder de la manière suivante : "
   ]
  },
  {
   "cell_type": "code",
   "execution_count": 5,
   "metadata": {
    "slideshow": {
     "slide_type": "fragment"
    }
   },
   "outputs": [
    {
     "name": "stdout",
     "output_type": "stream",
     "text": [
      "shape = (3, 1)\n",
      "rank  = 2\n"
     ]
    }
   ],
   "source": [
    "forme = un_vecteur_colonne.shape \n",
    "rang  = un_vecteur_colonne.ndim \n",
    "print(\"shape = {}\".format(forme))\n",
    "print(\"rank  = {}\".format(rang))\n"
   ]
  },
  {
   "cell_type": "markdown",
   "metadata": {
    "slideshow": {
     "slide_type": "subslide"
    }
   },
   "source": [
    "De plus pour connaitre le nombre d'éléments contenu dans un `np.array` il suffit simplement d'accéder à l'attribut size de ce dernier. Par exemple : "
   ]
  },
  {
   "cell_type": "code",
   "execution_count": 7,
   "metadata": {
    "slideshow": {
     "slide_type": "fragment"
    }
   },
   "outputs": [
    {
     "name": "stdout",
     "output_type": "stream",
     "text": [
      "size = 3\n"
     ]
    }
   ],
   "source": [
    "nElement = un_vecteur_colonne.size\n",
    "print(f\"size = {nElement}\")"
   ]
  },
  {
   "cell_type": "markdown",
   "metadata": {
    "slideshow": {
     "slide_type": "subslide"
    }
   },
   "source": [
    "Afin d'initialiser un **array** NumPy dispose d'un certain nombre de fonction permettant de créer des tableaux. \n",
    "* `np.zeros` qui permet de créer un tableau ne contenant que des zéros\n",
    "* `np.zeros_like` qui permet de construire une matrice de zéros ayant la même forme qu'une autre matrice donnée en entrée.\n",
    "* `np.ones` qui créé un tableau ne contenant que des uns.\n",
    "* `np.eye` qui créé un tableau identité\n",
    "* `np.random.rand` qui créé une matrice comptenant des valeurs aléatoires.\n",
    "\n",
    "Ci-dessous des exemples d'utilisation de chacune de ces fonctions. "
   ]
  },
  {
   "cell_type": "code",
   "execution_count": 198,
   "metadata": {
    "slideshow": {
     "slide_type": "subslide"
    }
   },
   "outputs": [
    {
     "name": "stdout",
     "output_type": "stream",
     "text": [
      "np.zeros\n",
      "[[0. 0. 0. 0.]\n",
      " [0. 0. 0. 0.]]\n",
      "np.ones\n",
      "[[1.]\n",
      " [1.]\n",
      " [1.]\n",
      " [1.]\n",
      " [1.]]\n",
      "np.zeros_like\n",
      "[[0. 0. 0.]\n",
      " [0. 0. 0.]]\n",
      "np.eye\n",
      "[[1. 0. 0. 0.]\n",
      " [0. 1. 0. 0.]\n",
      " [0. 0. 1. 0.]\n",
      " [0. 0. 0. 1.]]\n",
      "np.random.rand\n",
      "[[0.95154311 0.2053248  0.25741247 0.01648807 0.2190736 ]\n",
      " [0.58695188 0.53147631 0.06984386 0.00204653 0.20046654]\n",
      " [0.53564891 0.9865248  0.74845596 0.8186905  0.02013119]]\n"
     ]
    }
   ],
   "source": [
    "print(\"np.zeros\")\n",
    "print(np.zeros((2,4)))\n",
    "print(\"np.ones\")\n",
    "print(np.ones((5,1)))\n",
    "print(\"np.zeros_like\")\n",
    "m = np.ones((2,3))\n",
    "print(np.zeros_like(m))\n",
    "print(\"np.eye\")\n",
    "print(np.eye(4))\n",
    "print(\"np.random.rand\")\n",
    "print(np.random.rand(3,5))"
   ]
  },
  {
   "cell_type": "markdown",
   "metadata": {
    "slideshow": {
     "slide_type": "subslide"
    }
   },
   "source": [
    "### Un mot sur les `np.matrix` "
   ]
  },
  {
   "cell_type": "markdown",
   "metadata": {
    "slideshow": {
     "slide_type": "fragment"
    }
   },
   "source": [
    "Il existe dans numpy un object de type `matrix`. A première vue il serait tentant de croire que c'est le truc idéal pour les applications cibles en prépa. Et bien non c'est une fausse bonne idée !! Il ne faut surtout pas utiliser les `np.matrix` car cela ne fera qu'introduire des bugs bizarre dans les codes. "
   ]
  },
  {
   "cell_type": "markdown",
   "metadata": {
    "slideshow": {
     "slide_type": "subslide"
    }
   },
   "source": [
    "### Un mot sur ce que nous impose le C++ derrière numpy"
   ]
  },
  {
   "cell_type": "code",
   "execution_count": 10,
   "metadata": {
    "slideshow": {
     "slide_type": "subslide"
    }
   },
   "outputs": [
    {
     "name": "stdout",
     "output_type": "stream",
     "text": [
      "tableau = [0.5369532  0.70981734 0.54361648 0.15047856 0.16695727 0.51333703\n",
      " 0.94201391 0.14107717 0.52530768 0.36676849]\n"
     ]
    }
   ],
   "source": [
    "tableau = np.random.rand(10)\n",
    "print(f\"tableau = {tableau}\")"
   ]
  },
  {
   "cell_type": "code",
   "execution_count": 13,
   "metadata": {
    "slideshow": {
     "slide_type": "fragment"
    }
   },
   "outputs": [
    {
     "name": "stdout",
     "output_type": "stream",
     "text": [
      "tableau = [10.          0.70981734  0.54361648  0.15047856  0.16695727  0.51333703\n",
      "  0.94201391  0.14107717  0.52530768  0.36676849]\n"
     ]
    }
   ],
   "source": [
    "tableau[0] = int(10)\n",
    "print(f\"tableau = {tableau}\")"
   ]
  },
  {
   "cell_type": "code",
   "execution_count": 15,
   "metadata": {
    "slideshow": {
     "slide_type": "fragment"
    }
   },
   "outputs": [
    {
     "name": "stdout",
     "output_type": "stream",
     "text": [
      "could not convert string to float: 'coucou'\n"
     ]
    }
   ],
   "source": [
    "try:\n",
    "    tableau[0] = \"coucou\"\n",
    "except Exception as e: \n",
    "    print(e.args[0])"
   ]
  },
  {
   "cell_type": "markdown",
   "metadata": {
    "slideshow": {
     "slide_type": "subslide"
    }
   },
   "source": [
    "Et oui les `np.array` ne sont pas comme les listes Python, ce sont des conteneurs homogènes. Impossible d'y ranger des valeurs de types différents, `numpy` cherchera toujours à convertir ce que vous lui donnez dans le type du tableau. "
   ]
  },
  {
   "cell_type": "markdown",
   "metadata": {
    "slideshow": {
     "slide_type": "fragment"
    }
   },
   "source": [
    "Ce comportement peut paraitre étrange, étant donné le caractère dynamiquement typé du Python !! Mais je vous rappelle que NumPy n'est pas développé en Python mais en C++. Or le C++ est un langage à typage statique. C'est le prix à payer pour avoir de la performance ! Ainsi à chaque `np.ndarray` est associé un type. Pour connaitre le type des éléments il suffit d'accéder à l'attribut `dtype`. Par exemple :  "
   ]
  },
  {
   "cell_type": "code",
   "execution_count": 37,
   "metadata": {
    "slideshow": {
     "slide_type": "fragment"
    }
   },
   "outputs": [
    {
     "data": {
      "text/plain": [
       "dtype('float64')"
      ]
     },
     "execution_count": 37,
     "metadata": {},
     "output_type": "execute_result"
    }
   ],
   "source": [
    "tableau.dtype"
   ]
  },
  {
   "cell_type": "markdown",
   "metadata": {
    "slideshow": {
     "slide_type": "fragment"
    }
   },
   "source": [
    "Vous voyez donc que le type des valeurs pouvant être contenue dans le tableau est donc `float64` ce qui correspond à un flottant double précision (codé sur 64 bits). Donc tous les éléments que l'on va vouloir ranger dans le tableau vont être converti en `float64`. Si cette conversion n'est pas possible on a alors une erreur ! "
   ]
  },
  {
   "cell_type": "markdown",
   "metadata": {
    "slideshow": {
     "slide_type": "subslide"
    }
   },
   "source": [
    "Il est possible de changer le type `np.ndarray` pour cela il suffit d'utiliser la méthode `astype`. Par exemple si je veux convertir le tableau `tableau` qui ne contient que des `float64` en un tableau contenant des `int32` il suffit de procéder de la manière suivante : "
   ]
  },
  {
   "cell_type": "code",
   "execution_count": 38,
   "metadata": {
    "slideshow": {
     "slide_type": "fragment"
    }
   },
   "outputs": [
    {
     "name": "stdout",
     "output_type": "stream",
     "text": [
      "tableauInt = [10  0  0  0  0  0  0  0  0  0]\n"
     ]
    }
   ],
   "source": [
    "tableauInt = tableau.astype(np.int32)\n",
    "print(f\"tableauInt = {tableauInt}\")"
   ]
  },
  {
   "cell_type": "code",
   "execution_count": 22,
   "metadata": {
    "slideshow": {
     "slide_type": "fragment"
    }
   },
   "outputs": [
    {
     "data": {
      "text/plain": [
       "dtype('int32')"
      ]
     },
     "execution_count": 22,
     "metadata": {},
     "output_type": "execute_result"
    }
   ],
   "source": [
    "tableauInt.dtype"
   ]
  },
  {
   "cell_type": "markdown",
   "metadata": {
    "slideshow": {
     "slide_type": "fragment"
    }
   },
   "source": [
    "Vous remarquez alors que la plupart des valeurs deviennent `0`. C'est parce que la conversion d'un `float64` a un entier se fait en faisant un troncature tout simplement ! "
   ]
  },
  {
   "cell_type": "markdown",
   "metadata": {
    "slideshow": {
     "slide_type": "subslide"
    }
   },
   "source": [
    "Bien évidemment il est possible à la création d'un `np.ndarray` de spécifier le type d'élément que l'on souhaite, ce qui bypass le mécanisme de déduction de type de numpy. Par exemple si on créé un tableau à partir d'une liste ne contenant que des entiers. "
   ]
  },
  {
   "cell_type": "code",
   "execution_count": 39,
   "metadata": {
    "slideshow": {
     "slide_type": "fragment"
    }
   },
   "outputs": [
    {
     "name": "stdout",
     "output_type": "stream",
     "text": [
      "type = int64\n"
     ]
    }
   ],
   "source": [
    "tableau_no_type = np.array([1,2,3,4])\n",
    "print(f\"type = {tableau_no_type.dtype}\")"
   ]
  },
  {
   "cell_type": "markdown",
   "metadata": {
    "slideshow": {
     "slide_type": "fragment"
    }
   },
   "source": [
    "Numpy en déduit automatiquement un type `int64`. "
   ]
  },
  {
   "cell_type": "markdown",
   "metadata": {
    "slideshow": {
     "slide_type": "fragment"
    }
   },
   "source": [
    "Mais si je souhaite avoir des `float64` comment faire ? La solution bête et méchante est de mettre des points dans la liste que je fourni en entrée, par exemple : "
   ]
  },
  {
   "cell_type": "code",
   "execution_count": 41,
   "metadata": {
    "slideshow": {
     "slide_type": "fragment"
    }
   },
   "outputs": [
    {
     "data": {
      "text/plain": [
       "dtype('float64')"
      ]
     },
     "execution_count": 41,
     "metadata": {},
     "output_type": "execute_result"
    }
   ],
   "source": [
    "tableau_no_type = np.array([1.,2.,3.,4.])\n",
    "tableau_no_type.dtype"
   ]
  },
  {
   "cell_type": "markdown",
   "metadata": {
    "slideshow": {
     "slide_type": "subslide"
    }
   },
   "source": [
    "Au passage une remarque, si je ne mets qu'un point dans le liste au premier élement par exemple numpy va quand même considérer des `float64`. Car en présence d'une liste hétérogène NumPy prendra le type de plus haut niveau, dans ce cas les `float64`. "
   ]
  },
  {
   "cell_type": "code",
   "execution_count": 43,
   "metadata": {
    "slideshow": {
     "slide_type": "fragment"
    }
   },
   "outputs": [
    {
     "data": {
      "text/plain": [
       "dtype('float64')"
      ]
     },
     "execution_count": 43,
     "metadata": {},
     "output_type": "execute_result"
    }
   ],
   "source": [
    "tableau_no_type = np.array([1.,2,3,4])\n",
    "tableau_no_type.dtype"
   ]
  },
  {
   "cell_type": "markdown",
   "metadata": {
    "slideshow": {
     "slide_type": "fragment"
    }
   },
   "source": [
    "L'autre solution un peu plus élégante est de spécifier le type du `np.ndarray` via l'argument optionnel `dtype` de `np.array`. Par exemple : "
   ]
  },
  {
   "cell_type": "code",
   "execution_count": 44,
   "metadata": {
    "slideshow": {
     "slide_type": "fragment"
    }
   },
   "outputs": [
    {
     "data": {
      "text/plain": [
       "dtype('float64')"
      ]
     },
     "execution_count": 44,
     "metadata": {},
     "output_type": "execute_result"
    }
   ],
   "source": [
    "tableau_typed = np.array([1,2,3,4], dtype=np.float64)\n",
    "tableau_typed.dtype"
   ]
  },
  {
   "cell_type": "code",
   "execution_count": 45,
   "metadata": {
    "slideshow": {
     "slide_type": "fragment"
    }
   },
   "outputs": [
    {
     "data": {
      "text/plain": [
       "array([10.6,  2. ,  3. ,  4. ])"
      ]
     },
     "execution_count": 45,
     "metadata": {},
     "output_type": "execute_result"
    }
   ],
   "source": [
    "tableau_typed[0] = 10.6\n",
    "tableau_typed"
   ]
  },
  {
   "cell_type": "markdown",
   "metadata": {
    "slideshow": {
     "slide_type": "slide"
    }
   },
   "source": [
    "### Opérations mathématiques et vectorisation "
   ]
  },
  {
   "cell_type": "markdown",
   "metadata": {
    "slideshow": {
     "slide_type": "subslide"
    }
   },
   "source": [
    "NumPy permet de créer des tableaux multidimensionnel, nous venons de le voir. Mais une fois le tableau avec des données créé il faut pouvoir appliquer des traitements à ces données. Évidemment NumPy est la pour ça également ! "
   ]
  },
  {
   "cell_type": "markdown",
   "metadata": {
    "slideshow": {
     "slide_type": "subslide"
    }
   },
   "source": [
    "Pour commencer les opérations de bases `+`, `-`, `*`, `/` sont toutes disponibles dans numpy."
   ]
  },
  {
   "cell_type": "markdown",
   "metadata": {
    "slideshow": {
     "slide_type": "fragment"
    }
   },
   "source": [
    "Deux cas de figures à considérer : \n",
    "\n",
    "1. Opération entre deux `np.ndarray` : **les opérations sont termes à termes, y compris pour `*`**\n",
    "2. Opération entre un `np.ndarray` et un nombre"
   ]
  },
  {
   "cell_type": "markdown",
   "metadata": {
    "slideshow": {
     "slide_type": "subslide"
    }
   },
   "source": [
    "Par exemple : "
   ]
  },
  {
   "cell_type": "code",
   "execution_count": 47,
   "metadata": {
    "slideshow": {
     "slide_type": "fragment"
    }
   },
   "outputs": [],
   "source": [
    "a = np.array([[1,2,3],[4,5,6]], dtype=np.float64)\n",
    "b = np.array([[1,2,3],[4,5,6]], dtype=np.float64)"
   ]
  },
  {
   "cell_type": "code",
   "execution_count": 49,
   "metadata": {
    "slideshow": {
     "slide_type": "fragment"
    }
   },
   "outputs": [
    {
     "data": {
      "text/plain": [
       "array([[ 2.,  4.,  6.],\n",
       "       [ 8., 10., 12.]])"
      ]
     },
     "execution_count": 49,
     "metadata": {},
     "output_type": "execute_result"
    }
   ],
   "source": [
    "a + b "
   ]
  },
  {
   "cell_type": "code",
   "execution_count": 51,
   "metadata": {
    "slideshow": {
     "slide_type": "fragment"
    }
   },
   "outputs": [
    {
     "data": {
      "text/plain": [
       "array([[0., 0., 0.],\n",
       "       [0., 0., 0.]])"
      ]
     },
     "execution_count": 51,
     "metadata": {},
     "output_type": "execute_result"
    }
   ],
   "source": [
    "a - b "
   ]
  },
  {
   "cell_type": "code",
   "execution_count": 53,
   "metadata": {
    "slideshow": {
     "slide_type": "fragment"
    }
   },
   "outputs": [
    {
     "data": {
      "text/plain": [
       "array([[ 1.,  4.,  9.],\n",
       "       [16., 25., 36.]])"
      ]
     },
     "execution_count": 53,
     "metadata": {},
     "output_type": "execute_result"
    }
   ],
   "source": [
    "a * b"
   ]
  },
  {
   "cell_type": "code",
   "execution_count": 63,
   "metadata": {
    "slideshow": {
     "slide_type": "fragment"
    }
   },
   "outputs": [
    {
     "data": {
      "text/plain": [
       "array([[1., 1., 1.],\n",
       "       [1., 1., 1.]])"
      ]
     },
     "execution_count": 63,
     "metadata": {},
     "output_type": "execute_result"
    }
   ],
   "source": [
    "a / b "
   ]
  },
  {
   "cell_type": "markdown",
   "metadata": {
    "slideshow": {
     "slide_type": "subslide"
    }
   },
   "source": [
    "**Broadcasting** \n",
    "\n",
    "NumPy pour les opérations de base a un comportement qui peut vous sembler étrange lorsque les deux `np.ndarray` n'ont pas des `shape` concordantes. C'est ce qu'on appelle le broadcasting ! Si je somme un tableau `2,3` et un tableau `3,`, logiquement nous dirions que cela ne doit pas fonctionner. Mais dans les faits : "
   ]
  },
  {
   "cell_type": "code",
   "execution_count": 67,
   "metadata": {
    "slideshow": {
     "slide_type": "fragment"
    }
   },
   "outputs": [],
   "source": [
    "c = np.array([1,2,3], dtype=np.float64)"
   ]
  },
  {
   "cell_type": "code",
   "execution_count": 70,
   "metadata": {
    "slideshow": {
     "slide_type": "fragment"
    }
   },
   "outputs": [
    {
     "name": "stdout",
     "output_type": "stream",
     "text": [
      "a=[[1. 2. 3.]\n",
      " [4. 5. 6.]]\n",
      "c=[1. 2. 3.]\n"
     ]
    },
    {
     "data": {
      "text/plain": [
       "array([[2., 4., 6.],\n",
       "       [5., 7., 9.]])"
      ]
     },
     "execution_count": 70,
     "metadata": {},
     "output_type": "execute_result"
    }
   ],
   "source": [
    "print(f\"a={a}\")\n",
    "print(f\"c={c}\")\n",
    "a + c"
   ]
  },
  {
   "cell_type": "markdown",
   "metadata": {
    "slideshow": {
     "slide_type": "fragment"
    }
   },
   "source": [
    "Numpy a dans les faits remplacer le tableau `c=np.array([1,2,3])` par `np.array([[1,2,3], [1,2,3]])`. Ce comportement fonctionne pour toutes les opérations de base "
   ]
  },
  {
   "cell_type": "code",
   "execution_count": 71,
   "metadata": {
    "slideshow": {
     "slide_type": "subslide"
    }
   },
   "outputs": [
    {
     "data": {
      "text/plain": [
       "array([[1. , 1. , 1. ],\n",
       "       [4. , 2.5, 2. ]])"
      ]
     },
     "execution_count": 71,
     "metadata": {},
     "output_type": "execute_result"
    }
   ],
   "source": [
    "a / c"
   ]
  },
  {
   "cell_type": "code",
   "execution_count": 72,
   "metadata": {
    "slideshow": {
     "slide_type": "fragment"
    }
   },
   "outputs": [],
   "source": [
    "d = np.array([[1.,], [2.,]])"
   ]
  },
  {
   "cell_type": "code",
   "execution_count": 73,
   "metadata": {
    "slideshow": {
     "slide_type": "fragment"
    }
   },
   "outputs": [
    {
     "data": {
      "text/plain": [
       "array([[2., 3., 4.],\n",
       "       [6., 7., 8.]])"
      ]
     },
     "execution_count": 73,
     "metadata": {},
     "output_type": "execute_result"
    }
   ],
   "source": [
    "a + d"
   ]
  },
  {
   "cell_type": "markdown",
   "metadata": {
    "slideshow": {
     "slide_type": "subslide"
    }
   },
   "source": [
    "C'est ce `broadcasting` qui nous permet également de faire les opérations de base entre un `np.ndarray` et un nombre. Par exemple : "
   ]
  },
  {
   "cell_type": "code",
   "execution_count": 75,
   "metadata": {
    "slideshow": {
     "slide_type": "fragment"
    }
   },
   "outputs": [
    {
     "data": {
      "text/plain": [
       "array([[ 2.,  4.,  6.],\n",
       "       [ 8., 10., 12.]])"
      ]
     },
     "execution_count": 75,
     "metadata": {},
     "output_type": "execute_result"
    }
   ],
   "source": [
    "2. * a "
   ]
  },
  {
   "cell_type": "code",
   "execution_count": 77,
   "metadata": {
    "slideshow": {
     "slide_type": "fragment"
    }
   },
   "outputs": [
    {
     "data": {
      "text/plain": [
       "array([[3., 4., 5.],\n",
       "       [6., 7., 8.]])"
      ]
     },
     "execution_count": 77,
     "metadata": {},
     "output_type": "execute_result"
    }
   ],
   "source": [
    "2 + a"
   ]
  },
  {
   "cell_type": "code",
   "execution_count": 79,
   "metadata": {
    "slideshow": {
     "slide_type": "fragment"
    }
   },
   "outputs": [
    {
     "data": {
      "text/plain": [
       "array([[2.        , 1.        , 0.66666667],\n",
       "       [0.5       , 0.4       , 0.33333333]])"
      ]
     },
     "execution_count": 79,
     "metadata": {},
     "output_type": "execute_result"
    }
   ],
   "source": [
    "2 / a "
   ]
  },
  {
   "cell_type": "code",
   "execution_count": 81,
   "metadata": {
    "slideshow": {
     "slide_type": "fragment"
    }
   },
   "outputs": [
    {
     "data": {
      "text/plain": [
       "array([[0.5, 1. , 1.5],\n",
       "       [2. , 2.5, 3. ]])"
      ]
     },
     "execution_count": 81,
     "metadata": {},
     "output_type": "execute_result"
    }
   ],
   "source": [
    "a / 2. "
   ]
  },
  {
   "cell_type": "markdown",
   "metadata": {
    "slideshow": {
     "slide_type": "subslide"
    }
   },
   "source": [
    "**Le cas particulier du produit matriciel** "
   ]
  },
  {
   "cell_type": "markdown",
   "metadata": {
    "slideshow": {
     "slide_type": "fragment"
    }
   },
   "source": [
    "La question que vous vous posez certainement est mais est-ce que numpy sait faire un produit matriciel tel qu'on l'apprend à nos élèves de prépa ?"
   ]
  },
  {
   "cell_type": "markdown",
   "metadata": {
    "slideshow": {
     "slide_type": "fragment"
    }
   },
   "source": [
    "Pas d'inquiètude la réponse est OUI ! C'est juste que le produit matriciel entre deux `np.ndarray` qui auraient les tailles qui vont bien n'est pas symbolisé par l'opérateur `*` mais par `np.dot` ou `@`. "
   ]
  },
  {
   "cell_type": "markdown",
   "metadata": {
    "slideshow": {
     "slide_type": "subslide"
    }
   },
   "source": [
    "Par exemple : "
   ]
  },
  {
   "cell_type": "code",
   "execution_count": 177,
   "metadata": {
    "slideshow": {
     "slide_type": "fragment"
    }
   },
   "outputs": [],
   "source": [
    "a = np.random.rand(4,2)\n",
    "b = np.random.rand(2,5)"
   ]
  },
  {
   "cell_type": "code",
   "execution_count": 199,
   "metadata": {
    "slideshow": {
     "slide_type": "fragment"
    }
   },
   "outputs": [
    {
     "data": {
      "text/plain": [
       "array([[1.00011156e+04, 4.63996507e+00],\n",
       "       [4.63996507e+00, 1.20357636e+00]])"
      ]
     },
     "execution_count": 199,
     "metadata": {},
     "output_type": "execute_result"
    }
   ],
   "source": [
    "a @ b "
   ]
  },
  {
   "cell_type": "code",
   "execution_count": 200,
   "metadata": {
    "slideshow": {
     "slide_type": "fragment"
    }
   },
   "outputs": [
    {
     "data": {
      "text/plain": [
       "array([[1.00011156e+04, 4.63996507e+00],\n",
       "       [4.63996507e+00, 1.20357636e+00]])"
      ]
     },
     "execution_count": 200,
     "metadata": {},
     "output_type": "execute_result"
    }
   ],
   "source": [
    "np.dot(a, b)"
   ]
  },
  {
   "cell_type": "markdown",
   "metadata": {
    "slideshow": {
     "slide_type": "subslide"
    }
   },
   "source": [
    "De la même manière pour faire un produit matrice-vecteur, qui n'est rien d'autre que le produit d'un tableau $M\\times N$ par une matrice $N\\times 1$, on procède de la manière suivante : "
   ]
  },
  {
   "cell_type": "code",
   "execution_count": 181,
   "metadata": {
    "slideshow": {
     "slide_type": "fragment"
    }
   },
   "outputs": [
    {
     "data": {
      "text/plain": [
       "array([[0.23784452],\n",
       "       [0.3625103 ],\n",
       "       [0.31280598],\n",
       "       [0.46839601]])"
      ]
     },
     "execution_count": 181,
     "metadata": {},
     "output_type": "execute_result"
    }
   ],
   "source": [
    "v = np.random.rand(2,1)\n",
    "\n",
    "a@v"
   ]
  },
  {
   "cell_type": "markdown",
   "metadata": {
    "slideshow": {
     "slide_type": "subslide"
    }
   },
   "source": [
    "**La transposée d'un tableau** \n",
    "\n",
    "Autre élément incontournable du calcul matriciel, la transposée. Évidemment là encore Numpy a tout prévu. Pour calculer la transposée d'un `np.ndarray` il suffit de procéder de la manière suivante : "
   ]
  },
  {
   "cell_type": "code",
   "execution_count": 187,
   "metadata": {
    "slideshow": {
     "slide_type": "fragment"
    }
   },
   "outputs": [
    {
     "data": {
      "text/plain": [
       "array([[0.73434458, 0.20450533, 0.8180831 , 0.6360044 ],\n",
       "       [0.03671752, 0.76752266, 0.62716656, 0.46882753]])"
      ]
     },
     "execution_count": 187,
     "metadata": {},
     "output_type": "execute_result"
    }
   ],
   "source": [
    "a = np.random.rand(2,4)\n",
    "a"
   ]
  },
  {
   "cell_type": "code",
   "execution_count": 191,
   "metadata": {
    "slideshow": {
     "slide_type": "fragment"
    }
   },
   "outputs": [
    {
     "data": {
      "text/plain": [
       "array([[0.73434458, 0.03671752],\n",
       "       [0.20450533, 0.76752266],\n",
       "       [0.8180831 , 0.62716656],\n",
       "       [0.6360044 , 0.46882753]])"
      ]
     },
     "execution_count": 191,
     "metadata": {},
     "output_type": "execute_result"
    }
   ],
   "source": [
    "b1 = a.T\n",
    "b1"
   ]
  },
  {
   "cell_type": "code",
   "execution_count": 196,
   "metadata": {
    "slideshow": {
     "slide_type": "fragment"
    }
   },
   "outputs": [
    {
     "data": {
      "text/plain": [
       "array([[1.00000000e+02, 3.67175185e-02],\n",
       "       [2.04505335e-01, 7.67522658e-01],\n",
       "       [8.18083099e-01, 6.27166562e-01],\n",
       "       [6.36004398e-01, 4.68827534e-01]])"
      ]
     },
     "execution_count": 196,
     "metadata": {},
     "output_type": "execute_result"
    }
   ],
   "source": [
    "b2 = np.transpose(a)\n",
    "b2 "
   ]
  },
  {
   "cell_type": "markdown",
   "metadata": {
    "slideshow": {
     "slide_type": "subslide"
    }
   },
   "source": [
    "Attention l'opération de transpositon ne s'applique qu'à des `np.ndarray` de rang supérieur ou égal à 2. Par exemple la transposé d'un \"vecteur ligne\" ne donne pas un vecteur colonne :"
   ]
  },
  {
   "cell_type": "code",
   "execution_count": 197,
   "metadata": {
    "slideshow": {
     "slide_type": "fragment"
    }
   },
   "outputs": [
    {
     "name": "stdout",
     "output_type": "stream",
     "text": [
      "v = [0.51465488 0.64036301 0.69903699 0.04099995]\n",
      "vt = [0.51465488 0.64036301 0.69903699 0.04099995]\n"
     ]
    }
   ],
   "source": [
    "v = np.random.rand(4)\n",
    "print(f\"v = {v}\")\n",
    "vt = v.T\n",
    "print(f\"vt = {vt}\")\n"
   ]
  },
  {
   "cell_type": "markdown",
   "metadata": {
    "slideshow": {
     "slide_type": "slide"
    }
   },
   "source": [
    "### Opérations plus complexes "
   ]
  },
  {
   "cell_type": "markdown",
   "metadata": {
    "slideshow": {
     "slide_type": "subslide"
    }
   },
   "source": [
    "Bien évidemment les opérations `+`, `-`, `*`, `/` ne sont pas les seules disponibles. Toutes les fonctions mathématiques classiques sont définies dans numpy. \n",
    "\n",
    "* `np.cos`, `np.sin`, `np.tan`\n",
    "* `np.arccos`, `np.arcsin`, `np.arctan`\n",
    "* `np.degrees`, `np.radians`\n",
    "* `np.exp`, `np.log`\n",
    "\n",
    "L'intérêt de ces fonctions, qui existent déjà toutes dans le module `math` de Python, est qu'elles sont faites pour travailler sur des `np.ndarray`. "
   ]
  },
  {
   "cell_type": "markdown",
   "metadata": {
    "slideshow": {
     "slide_type": "subslide"
    }
   },
   "source": [
    "Par exemple si on évaluer la fonction $\\sin x$. "
   ]
  },
  {
   "cell_type": "markdown",
   "metadata": {
    "slideshow": {
     "slide_type": "fragment"
    }
   },
   "source": [
    "En Python de base on ferait quelque chose du genre "
   ]
  },
  {
   "cell_type": "code",
   "execution_count": 88,
   "metadata": {
    "slideshow": {
     "slide_type": "fragment"
    }
   },
   "outputs": [
    {
     "data": {
      "image/png": "[encoded data removed]",
      "text/plain": [
       "<Figure size 432x288 with 1 Axes>"
      ]
     },
     "metadata": {
      "needs_background": "light"
     },
     "output_type": "display_data"
    }
   ],
   "source": [
    "import math\n",
    "nStep = 100\n",
    "x = [ 2*math.pi*i/nStep for i in range(nStep+1)]\n",
    "y = [ math.sin(x_i) for x_i in x]\n",
    "\n",
    "import matplotlib.pyplot as plt \n",
    "plt.plot(x,y)\n",
    "plt.show()\n",
    "\n"
   ]
  },
  {
   "cell_type": "markdown",
   "metadata": {
    "slideshow": {
     "slide_type": "subslide"
    }
   },
   "source": [
    "Tandis qu'en utilisant NumPy nous pouvons directement écrire : "
   ]
  },
  {
   "cell_type": "code",
   "execution_count": 89,
   "metadata": {
    "slideshow": {
     "slide_type": "fragment"
    }
   },
   "outputs": [
    {
     "data": {
      "image/png": "[encoded data removed]",
      "text/plain": [
       "<Figure size 432x288 with 1 Axes>"
      ]
     },
     "metadata": {
      "needs_background": "light"
     },
     "output_type": "display_data"
    }
   ],
   "source": [
    "xNumpy = np.linspace(0, 2*np.pi, nStep)\n",
    "yNumpy = np.sin(xNumpy)\n",
    "plt.plot(xNumpy,yNumpy)\n",
    "plt.show()"
   ]
  },
  {
   "cell_type": "markdown",
   "metadata": {
    "slideshow": {
     "slide_type": "subslide"
    }
   },
   "source": [
    "Il y a deux avantages à l'approche Numpy : \n",
    "\n",
    "1. C'est plus simple à coder et plus agréable à lire par la suite \n",
    "2. C'est beaucoup plus performant "
   ]
  },
  {
   "cell_type": "code",
   "execution_count": 91,
   "metadata": {
    "slideshow": {
     "slide_type": "fragment"
    }
   },
   "outputs": [
    {
     "name": "stdout",
     "output_type": "stream",
     "text": [
      "11.1 µs ± 95.3 ns per loop (mean ± std. dev. of 7 runs, 100000 loops each)\n"
     ]
    }
   ],
   "source": [
    "%timeit [math.sin(x_i) for x_i in x]"
   ]
  },
  {
   "cell_type": "code",
   "execution_count": 93,
   "metadata": {
    "slideshow": {
     "slide_type": "fragment"
    }
   },
   "outputs": [
    {
     "name": "stdout",
     "output_type": "stream",
     "text": [
      "2.61 µs ± 141 ns per loop (mean ± std. dev. of 7 runs, 100000 loops each)\n"
     ]
    }
   ],
   "source": [
    "%timeit np.sin(xNumpy)\n"
   ]
  },
  {
   "cell_type": "markdown",
   "metadata": {
    "slideshow": {
     "slide_type": "fragment"
    }
   },
   "source": [
    "On observe donc un facteur 4 entre la version Python de base et la version NumPy et je peux vous assurer que les choses s'aggravent bien plus lorsque l'on passe sur des vrais problèmes ! "
   ]
  },
  {
   "cell_type": "markdown",
   "metadata": {
    "slideshow": {
     "slide_type": "subslide"
    }
   },
   "source": [
    "Vous pouvez vous demander pourquoi cela va 4 fois plus vite !? C'est tout simplement parce que d'un côté vous faites la boucle dans le monde Python tandis que de l'autre côté la boucle se fait dans le monde Numpy donc C++. "
   ]
  },
  {
   "cell_type": "markdown",
   "metadata": {
    "slideshow": {
     "slide_type": "fragment"
    }
   },
   "source": [
    "Dans les grandes lignes caché derrière tout ça se trouve le fait que les tableaux numpy sont en réalité alloués en mémoire de manière contigue, il s'agit de `double*`. Et donc le c++ se débrouille à merveille pour parcourir tout le tableau et appliquer une fonction à tous les éléments. Tandis que le Python a plus de mal car ne présuppose pas d'un alignement mémoire et donc passe son temps à faire des indirections. "
   ]
  },
  {
   "cell_type": "markdown",
   "metadata": {
    "slideshow": {
     "slide_type": "subslide"
    }
   },
   "source": [
    "__La règle de base à retenir est que lorsque l'on manipule des tableaux numpy il ne faut **jamais** faire de boucles__"
   ]
  },
  {
   "cell_type": "markdown",
   "metadata": {
    "slideshow": {
     "slide_type": "subslide"
    }
   },
   "source": [
    "Si vous souhaitez appliquer une fonction \"perso\" à un `np.ndarray` il est possible en utilisant la fonction `np.vectorize` de vectoriser votre fonction. "
   ]
  },
  {
   "cell_type": "code",
   "execution_count": 103,
   "metadata": {
    "slideshow": {
     "slide_type": "fragment"
    }
   },
   "outputs": [],
   "source": [
    "def ma_fonction(x):\n",
    "    if x < 0.5:\n",
    "        return x \n",
    "    else:\n",
    "        return -x"
   ]
  },
  {
   "cell_type": "markdown",
   "metadata": {
    "slideshow": {
     "slide_type": "subslide"
    }
   },
   "source": [
    "Sans vectorisation il faudrait faire quelque chose du genre : "
   ]
  },
  {
   "cell_type": "code",
   "execution_count": 101,
   "metadata": {
    "slideshow": {
     "slide_type": "fragment"
    }
   },
   "outputs": [],
   "source": [
    "data = np.random.rand(10,20,30)"
   ]
  },
  {
   "cell_type": "code",
   "execution_count": 110,
   "metadata": {
    "slideshow": {
     "slide_type": "fragment"
    }
   },
   "outputs": [
    {
     "name": "stdout",
     "output_type": "stream",
     "text": [
      "2.5 ms ± 127 µs per loop (mean ± std. dev. of 7 runs, 100 loops each)\n"
     ]
    }
   ],
   "source": [
    "%%timeit\n",
    "for i,x in enumerate(data):\n",
    "    for j, y in enumerate(x): \n",
    "        for k, z in enumerate(y): \n",
    "            data[i,j,k] = ma_fonction(z)"
   ]
  },
  {
   "cell_type": "markdown",
   "metadata": {
    "slideshow": {
     "slide_type": "subslide"
    }
   },
   "source": [
    "Tandis que si l'on vectorise la fonction `ma_fonction` cette triple boucle pas très sympatique se ramène à quelque chose de beaucoup plus agréable : "
   ]
  },
  {
   "cell_type": "code",
   "execution_count": 109,
   "metadata": {
    "slideshow": {
     "slide_type": "fragment"
    }
   },
   "outputs": [
    {
     "name": "stdout",
     "output_type": "stream",
     "text": [
      "770 µs ± 45.5 µs per loop (mean ± std. dev. of 7 runs, 1000 loops each)\n"
     ]
    }
   ],
   "source": [
    "ma_fonction_vect = np.vectorize(ma_fonction)\n",
    "\n",
    "%timeit ma_fonction_vect(data)\n"
   ]
  },
  {
   "cell_type": "markdown",
   "metadata": {
    "slideshow": {
     "slide_type": "fragment"
    }
   },
   "source": [
    "On observe donc un gain significatif à l'exécution et le plus important le code est beaucoup plus agréable à lire. "
   ]
  },
  {
   "cell_type": "markdown",
   "metadata": {
    "slideshow": {
     "slide_type": "slide"
    }
   },
   "source": [
    "### Manipulation des array "
   ]
  },
  {
   "cell_type": "markdown",
   "metadata": {
    "slideshow": {
     "slide_type": "subslide"
    }
   },
   "source": [
    "Jusqu'à maintenant nous avons vu comment définir des `np.ndarray` et comment utiliser ces tableaux pour faire des évaluations plus ou moins complexe. C'est bien mais ce n'est pas suffisant pour couvrir 100% des besoins. Dans de nombreux cas il nous faut pouvoir acccéder à des valeurs particulières d'un tableau. "
   ]
  },
  {
   "cell_type": "markdown",
   "metadata": {
    "slideshow": {
     "slide_type": "subslide"
    }
   },
   "source": [
    "La manipulation des `np.ndarray` NumPy et notamment l'accès aux valeurs contenues dans ce dernier se fait dans le même esprit que l'accès aux éléments d'une liste à la différence près que l'on doit spécifier pour un `np.ndarray` plusieurs indices étant donné qu'il s'agit d'un tableau multidimensionnel. \n",
    "\n",
    "> **Attention :**  \n",
    "> Comme pour les listes et tuples la numérotation des indices commence à **0**"
   ]
  },
  {
   "cell_type": "code",
   "execution_count": 201,
   "metadata": {
    "slideshow": {
     "slide_type": "fragment"
    }
   },
   "outputs": [
    {
     "name": "stdout",
     "output_type": "stream",
     "text": [
      "Le tableau : \n",
      "[[ 1  2  3  4  5]\n",
      " [ 6  7  8  9 10]\n",
      " [11 12 13 14 15]]\n"
     ]
    }
   ],
   "source": [
    "un_tableau = np.array([[1,2,3,4,5],[6,7,8,9,10],[11,12,13,14,15]])\n",
    "print(\"Le tableau : \\n{}\".format(un_tableau))\n",
    "\n"
   ]
  },
  {
   "cell_type": "markdown",
   "metadata": {
    "slideshow": {
     "slide_type": "subslide"
    }
   },
   "source": [
    "L'accès aux éléments d'un np.ndarray se fait de la même manière que pour accéder aux valeurs d'une liste, à savoir en utilisant l'opérateur `[]`. La subtilité est que l'opérateur `[]` d'un `np.ndarray` peut prendre en entrée plusieurs indices. "
   ]
  },
  {
   "cell_type": "code",
   "execution_count": 120,
   "metadata": {
    "slideshow": {
     "slide_type": "fragment"
    }
   },
   "outputs": [
    {
     "name": "stdout",
     "output_type": "stream",
     "text": [
      "Element 1,2 : 8\n"
     ]
    }
   ],
   "source": [
    "a_12 = un_tableau[1,2]\n",
    "print(f\"Element 1,2 : {a_12}\")\n"
   ]
  },
  {
   "cell_type": "markdown",
   "metadata": {
    "slideshow": {
     "slide_type": "fragment"
    }
   },
   "source": [
    "On peut également utiliser les indices négatifs pour accéder aux valeurs par la fin : "
   ]
  },
  {
   "cell_type": "code",
   "execution_count": 119,
   "metadata": {
    "slideshow": {
     "slide_type": "fragment"
    }
   },
   "outputs": [
    {
     "name": "stdout",
     "output_type": "stream",
     "text": [
      "Element -1,-1 : 15\n"
     ]
    }
   ],
   "source": [
    "a_24 = un_tableau[-1,-1]\n",
    "print(f\"Element -1,-1 : {a_24}\")"
   ]
  },
  {
   "cell_type": "markdown",
   "metadata": {
    "slideshow": {
     "slide_type": "subslide"
    }
   },
   "source": [
    "De plus, comme pour les listes, on peut utiliser le concept de slicing. Pour rappel la notation est de la forme : \n",
    "\n",
    "```\n",
    "start:stop+1:step\n",
    "```"
   ]
  },
  {
   "cell_type": "markdown",
   "metadata": {
    "slideshow": {
     "slide_type": "fragment"
    }
   },
   "source": [
    "Par exemple, si je veux extraire la première ligne de la matrice `un_tableau` on peut procéder de la manière suivante : "
   ]
  },
  {
   "cell_type": "code",
   "execution_count": 123,
   "metadata": {
    "slideshow": {
     "slide_type": "fragment"
    }
   },
   "outputs": [
    {
     "name": "stdout",
     "output_type": "stream",
     "text": [
      "Ligne_0 : [1 2 3 4 5]\n"
     ]
    }
   ],
   "source": [
    "ligne_0 = un_tableau[0,:]\n",
    "print(f\"Ligne_0 : {ligne_0}\")"
   ]
  },
  {
   "cell_type": "markdown",
   "metadata": {
    "slideshow": {
     "slide_type": "subslide"
    }
   },
   "source": [
    "On peut alors se servir de ces notations pour extraire un sous tableau : "
   ]
  },
  {
   "cell_type": "code",
   "execution_count": 124,
   "metadata": {
    "slideshow": {
     "slide_type": "fragment"
    }
   },
   "outputs": [
    {
     "name": "stdout",
     "output_type": "stream",
     "text": [
      "[[ 7  8  9 10]\n",
      " [12 13 14 15]]\n"
     ]
    }
   ],
   "source": [
    "sub_array = un_tableau[1:,1:]\n",
    "print(sub_array)"
   ]
  },
  {
   "cell_type": "code",
   "execution_count": 8,
   "metadata": {
    "slideshow": {
     "slide_type": "fragment"
    }
   },
   "outputs": [
    {
     "name": "stdout",
     "output_type": "stream",
     "text": [
      "[1 2 3 4 5]\n"
     ]
    }
   ],
   "source": [
    "sub_array = un_tableau[0,:]\n",
    "print(sub_array)"
   ]
  },
  {
   "cell_type": "code",
   "execution_count": 125,
   "metadata": {
    "slideshow": {
     "slide_type": "fragment"
    }
   },
   "outputs": [
    {
     "name": "stdout",
     "output_type": "stream",
     "text": [
      "[[ 1  3  5]\n",
      " [11 13 15]]\n"
     ]
    }
   ],
   "source": [
    "sub_array = un_tableau[::2,::2]\n",
    "print(sub_array)\n"
   ]
  },
  {
   "cell_type": "markdown",
   "metadata": {
    "slideshow": {
     "slide_type": "subslide"
    }
   },
   "source": [
    "Le sous-tableau que l'on obtient alors est un peu particulier c'est ce qu'on appelle une vue. Quelle particularité ? Un exemple sera plus parlant : "
   ]
  },
  {
   "cell_type": "code",
   "execution_count": 126,
   "metadata": {
    "slideshow": {
     "slide_type": "fragment"
    }
   },
   "outputs": [
    {
     "data": {
      "text/plain": [
       "array([[ 1,  2,  3,  4,  5],\n",
       "       [ 6,  7,  8,  9, 10],\n",
       "       [11, 12, 13, 14, 15]])"
      ]
     },
     "execution_count": 126,
     "metadata": {},
     "output_type": "execute_result"
    }
   ],
   "source": [
    "un_tableau"
   ]
  },
  {
   "cell_type": "code",
   "execution_count": 127,
   "metadata": {
    "slideshow": {
     "slide_type": "fragment"
    }
   },
   "outputs": [
    {
     "data": {
      "text/plain": [
       "array([[ 1,  3,  5],\n",
       "       [11, 13, 15]])"
      ]
     },
     "execution_count": 127,
     "metadata": {},
     "output_type": "execute_result"
    }
   ],
   "source": [
    "sub_array"
   ]
  },
  {
   "cell_type": "code",
   "execution_count": 129,
   "metadata": {
    "slideshow": {
     "slide_type": "fragment"
    }
   },
   "outputs": [
    {
     "data": {
      "text/plain": [
       "array([[10,  3,  5],\n",
       "       [11, 13, 15]])"
      ]
     },
     "execution_count": 129,
     "metadata": {},
     "output_type": "execute_result"
    }
   ],
   "source": [
    "sub_array[0,0] = 10\n",
    "sub_array"
   ]
  },
  {
   "cell_type": "code",
   "execution_count": 130,
   "metadata": {
    "slideshow": {
     "slide_type": "fragment"
    }
   },
   "outputs": [
    {
     "data": {
      "text/plain": [
       "array([[10,  2,  3,  4,  5],\n",
       "       [ 6,  7,  8,  9, 10],\n",
       "       [11, 12, 13, 14, 15]])"
      ]
     },
     "execution_count": 130,
     "metadata": {},
     "output_type": "execute_result"
    }
   ],
   "source": [
    "un_tableau"
   ]
  },
  {
   "cell_type": "markdown",
   "metadata": {
    "slideshow": {
     "slide_type": "fragment"
    }
   },
   "source": [
    "Et là c'est le drame, ou pas, le sous-tableau n'étant qu'une vue lorsqu'on modifie un valeur dans la vue on modifie la case correspondante dans le tableau d'origine. "
   ]
  },
  {
   "cell_type": "markdown",
   "metadata": {
    "slideshow": {
     "slide_type": "subslide"
    }
   },
   "source": [
    "Donc attention avec les sous-tableaux c'est très très pratique, et en terme de coût de calcul cela permet de faire des optimisations assez élégantes mais en revanche il faut toujours avoir dans un coin de sa tête le fait que l'on travail sur une vue. "
   ]
  },
  {
   "cell_type": "markdown",
   "metadata": {
    "slideshow": {
     "slide_type": "subslide"
    }
   },
   "source": [
    "**Une remarque sur l'extraction de sous-tableau :** "
   ]
  },
  {
   "cell_type": "markdown",
   "metadata": {
    "slideshow": {
     "slide_type": "fragment"
    }
   },
   "source": [
    "Ainsi il est possible de cette manière d'accéder à un sous-tableau. Cependant dans de nombreuses applications, il est nécessaire d'avoir accès a un sous-tableau, souvent discontinu, uniquement à partir de liste d'indices de lignes et de colonnes. Or si l'on fait ca directement on peut observer ci-dessous que le sous-tableau extrait ne correspond pas. "
   ]
  },
  {
   "cell_type": "code",
   "execution_count": 10,
   "metadata": {
    "slideshow": {
     "slide_type": "fragment"
    }
   },
   "outputs": [
    {
     "name": "stdout",
     "output_type": "stream",
     "text": [
      "La matrice complète : \n",
      "[[ 1  2  3  4  5]\n",
      " [ 6  7  8  9 10]\n",
      " [11 12 13 14 15]]\n",
      "La sous-matrice par la mauvaise approche : \n",
      "[ 2 15]\n"
     ]
    }
   ],
   "source": [
    "matrice_a = np.array([[1,2,3,4,5],[6,7,8,9,10],[11,12,13,14,15]])\n",
    "print(\"La matrice complète : \\n{}\".format(matrice_a))\n",
    "idx_i = [0,2]\n",
    "idx_j = [1,4]\n",
    "sous_matrice = matrice_a[idx_i, idx_j]\n",
    "print(\"La sous-matrice par la mauvaise approche : \\n{}\".format(sous_matrice))"
   ]
  },
  {
   "cell_type": "markdown",
   "metadata": {
    "slideshow": {
     "slide_type": "subslide"
    }
   },
   "source": [
    "Afin d'avoir le résultat souhaité il est nécessaire d'utiliser la fonction `np.ix_`. Cette dernière permet de générer à partir de deux listes d'indices, le **mask** de valeurs souhaitées. "
   ]
  },
  {
   "cell_type": "code",
   "execution_count": 132,
   "metadata": {
    "slideshow": {
     "slide_type": "fragment"
    }
   },
   "outputs": [
    {
     "name": "stdout",
     "output_type": "stream",
     "text": [
      "La matrice complète : \n",
      "[[ 1  2  3  4  5]\n",
      " [ 6  7  8  9 10]\n",
      " [11 12 13 14 15]]\n",
      "mask : (array([[0],\n",
      "       [2]]), array([[1, 4]]))\n",
      "La sous-matrice par np.ix_ : \n",
      "[[ 2  5]\n",
      " [12 15]]\n"
     ]
    }
   ],
   "source": [
    "matrice_a = np.array([[1,2,3,4,5],[6,7,8,9,10],[11,12,13,14,15]])\n",
    "print(f\"La matrice complète : \\n{matrice_a}\")\n",
    "idx_i = [0,2]\n",
    "idx_j = [1,4]\n",
    "\n",
    "mask = np.ix_(idx_i, idx_j)\n",
    "print(f\"mask : {mask}\")\n",
    "\n",
    "sous_matrice = matrice_a[mask]\n",
    "print(\"La sous-matrice par np.ix_ : \\n{}\".format(sous_matrice))"
   ]
  },
  {
   "cell_type": "markdown",
   "metadata": {
    "slideshow": {
     "slide_type": "subslide"
    }
   },
   "source": [
    "On vient donc de voir que l'on peut facilement extraire des sous-tableaux mais bien évidemment à l'aide de cela on peut facilement insérer des valeurs par bloque au sein d'un tableau de plus grande dimension. Par exemple : "
   ]
  },
  {
   "cell_type": "code",
   "execution_count": 203,
   "metadata": {
    "slideshow": {
     "slide_type": "fragment"
    }
   },
   "outputs": [
    {
     "name": "stdout",
     "output_type": "stream",
     "text": [
      "Big array : \n",
      "[[0. 0. 0. 0. 0. 0.]\n",
      " [0. 0. 0. 0. 0. 0.]\n",
      " [0. 0. 0. 0. 0. 0.]\n",
      " [0. 0. 0. 0. 0. 0.]\n",
      " [0. 0. 0. 0. 0. 0.]\n",
      " [0. 0. 0. 0. 0. 0.]]\n",
      "Little array : \n",
      "[[1. 0. 0.]\n",
      " [0. 1. 0.]\n",
      " [0. 0. 1.]]\n",
      "Big array après insertion : \n",
      "[[0. 0. 0. 0. 0. 0.]\n",
      " [0. 0. 0. 0. 0. 0.]\n",
      " [0. 0. 0. 0. 0. 0.]\n",
      " [1. 0. 0. 0. 0. 0.]\n",
      " [0. 1. 0. 0. 0. 0.]\n",
      " [0. 0. 1. 0. 0. 0.]]\n"
     ]
    }
   ],
   "source": [
    "big_array = np.zeros((6,6))\n",
    "little_array = np.eye(3)\n",
    "print(f\"Big array : \\n{big_array}\")\n",
    "print(f\"Little array : \\n{little_array}\")\n",
    "big_array[3:,0:3] = little_array\n",
    "print(f\"Big array après insertion : \\n{big_array}\")"
   ]
  },
  {
   "cell_type": "code",
   "execution_count": 205,
   "metadata": {
    "slideshow": {
     "slide_type": "subslide"
    }
   },
   "outputs": [
    {
     "name": "stdout",
     "output_type": "stream",
     "text": [
      "little_array = [[0.89283654 0.6636986 ]\n",
      " [0.39256742 0.26371853]]\n",
      "Big array après insertion: \n",
      "[[0.         0.         0.         0.         0.         0.        ]\n",
      " [0.         0.89283654 0.         0.6636986  0.         0.        ]\n",
      " [0.         0.         0.         0.         0.         0.        ]\n",
      " [1.         0.39256742 0.         0.26371853 0.         0.        ]\n",
      " [0.         1.         0.         0.         0.         0.        ]\n",
      " [0.         0.         1.         0.         0.         0.        ]]\n"
     ]
    }
   ],
   "source": [
    "little_array = np.random.rand(2,2)\n",
    "print(f\"little_array = {little_array}\")\n",
    "big_array[np.ix_([1,3],[1,3])] = little_array\n",
    "print(f\"Big array après insertion: \\n{big_array}\")"
   ]
  },
  {
   "cell_type": "markdown",
   "metadata": {
    "slideshow": {
     "slide_type": "subslide"
    }
   },
   "source": [
    "Parmi les autres manipulations possibles sur les **array** NumPy il y a l'opération `reshape` qui permet de changer la forme d'un tableau. Par exemple : "
   ]
  },
  {
   "cell_type": "code",
   "execution_count": 206,
   "metadata": {
    "slideshow": {
     "slide_type": "fragment"
    }
   },
   "outputs": [
    {
     "name": "stdout",
     "output_type": "stream",
     "text": [
      "Tableau avant reshape (2, 3) : \n",
      "[[1 2 3]\n",
      " [4 5 6]]\n",
      "Tableau après reshape (6, 1) : \n",
      "[[1]\n",
      " [2]\n",
      " [3]\n",
      " [4]\n",
      " [5]\n",
      " [6]]\n",
      "Tableau après reshape (6,) : \n",
      "[1 2 3 4 5 6]\n"
     ]
    }
   ],
   "source": [
    "array_1 = np.array([[1,2,3],[4,5,6]])\n",
    "print(\"Tableau avant reshape {} : \\n{}\".format( array_1.shape, array_1))\n",
    "\n",
    "array_2 = array_1.reshape((6,1))\n",
    "print(\"Tableau après reshape {} : \\n{}\".format( array_2.shape, array_2))\n",
    "\n",
    "array_3 = array_1.reshape((6,))\n",
    "print(\"Tableau après reshape {} : \\n{}\".format( array_3.shape, array_3))\n"
   ]
  },
  {
   "cell_type": "markdown",
   "metadata": {
    "slideshow": {
     "slide_type": "subslide"
    }
   },
   "source": [
    "> **Attention :**  \n",
    "> Pour que l'opération de reshape puisse fonctionner il est impératif que le nombre d'éléments total soit préserver. C'est à dire qu'il faut impérativement que le produit des tailles suivant chacunes des dimensions soit égale avant et après le `reshape`\n",
    "\n",
    "> *Astuce :*  \n",
    "> Pour plus de simplicité vous pouvez lors de l'opération de reshape, laisser une des tailles libre. Cette dernière sera automatiquement déduite des autres afin de satisfaire à la condition de conservation du nombre d'élément. Pour cela il suffit de donner une taille de **-1** à la dimension laissée libre."
   ]
  },
  {
   "cell_type": "code",
   "execution_count": 207,
   "metadata": {
    "slideshow": {
     "slide_type": "fragment"
    }
   },
   "outputs": [
    {
     "name": "stdout",
     "output_type": "stream",
     "text": [
      "Après le reshape((-1,1)) : \n",
      "[[1]\n",
      " [2]\n",
      " [3]\n",
      " [4]\n",
      " [5]\n",
      " [6]]\n"
     ]
    }
   ],
   "source": [
    "vecteur_colonne = array_1.reshape((-1,1))\n",
    "print(\"Après le reshape((-1,1)) : \\n{}\".format(vecteur_colonne))"
   ]
  },
  {
   "cell_type": "markdown",
   "metadata": {
    "slideshow": {
     "slide_type": "slide"
    }
   },
   "source": [
    "### Opérations booléennes et mask"
   ]
  },
  {
   "cell_type": "markdown",
   "metadata": {
    "slideshow": {
     "slide_type": "subslide"
    }
   },
   "source": [
    "Un concept clé de NumPy qui nous permet de ne pas faire de boucle `for` pour traiter les données et le concept de mask. Ce dernier est lié aux opérations booléenne. "
   ]
  },
  {
   "cell_type": "markdown",
   "metadata": {
    "slideshow": {
     "slide_type": "fragment"
    }
   },
   "source": [
    "Un `mask` c'est quoi ? C'est un tableau, un `np.ndarray` mais qui ne contient que des booléens. Ce `mask` va alors nous permettre d'isoler des parties de `np.ndarray` et ainsi d'appliquer différents traitement à différents éléments d'un tableau. "
   ]
  },
  {
   "cell_type": "markdown",
   "metadata": {
    "slideshow": {
     "slide_type": "subslide"
    }
   },
   "source": [
    "Parce qu'un exemple est toujours plus parlant que de grandes phrases : "
   ]
  },
  {
   "cell_type": "code",
   "execution_count": 135,
   "metadata": {
    "slideshow": {
     "slide_type": "fragment"
    }
   },
   "outputs": [
    {
     "data": {
      "text/plain": [
       "array([[0.7131739 , 0.45682059, 0.02002174],\n",
       "       [0.20989727, 0.74466573, 0.05271361],\n",
       "       [0.98982334, 0.06118774, 0.51845415],\n",
       "       [0.51740936, 0.42239238, 0.27439241],\n",
       "       [0.97449857, 0.96575321, 0.14898532],\n",
       "       [0.73328908, 0.365519  , 0.92903076],\n",
       "       [0.42540572, 0.96096913, 0.58866354],\n",
       "       [0.38707135, 0.36736832, 0.44890682],\n",
       "       [0.70391059, 0.67409037, 0.0277892 ],\n",
       "       [0.05544945, 0.59585267, 0.79979241]])"
      ]
     },
     "execution_count": 135,
     "metadata": {},
     "output_type": "execute_result"
    }
   ],
   "source": [
    "data = np.random.rand(10,3)\n",
    "data"
   ]
  },
  {
   "cell_type": "markdown",
   "metadata": {
    "slideshow": {
     "slide_type": "fragment"
    }
   },
   "source": [
    "On peut créer un `mask` correspondant aux valeurs strictement inférieures à `0.5`. "
   ]
  },
  {
   "cell_type": "code",
   "execution_count": 136,
   "metadata": {
    "slideshow": {
     "slide_type": "fragment"
    }
   },
   "outputs": [
    {
     "data": {
      "text/plain": [
       "array([[False,  True,  True],\n",
       "       [ True, False,  True],\n",
       "       [False,  True, False],\n",
       "       [False,  True,  True],\n",
       "       [False, False,  True],\n",
       "       [False,  True, False],\n",
       "       [ True, False, False],\n",
       "       [ True,  True,  True],\n",
       "       [False, False,  True],\n",
       "       [ True, False, False]])"
      ]
     },
     "execution_count": 136,
     "metadata": {},
     "output_type": "execute_result"
    }
   ],
   "source": [
    "mask = data < 0.5 \n",
    "mask "
   ]
  },
  {
   "cell_type": "markdown",
   "metadata": {
    "slideshow": {
     "slide_type": "subslide"
    }
   },
   "source": [
    "Si l'on applique le `mask` au tableau data on ne récupère alors que les valeurs pour lesquelles la case correspondante dans le `mask` est `True`. "
   ]
  },
  {
   "cell_type": "code",
   "execution_count": 138,
   "metadata": {
    "slideshow": {
     "slide_type": "fragment"
    }
   },
   "outputs": [
    {
     "data": {
      "text/plain": [
       "array([0.45682059, 0.02002174, 0.20989727, 0.05271361, 0.06118774,\n",
       "       0.42239238, 0.27439241, 0.14898532, 0.365519  , 0.42540572,\n",
       "       0.38707135, 0.36736832, 0.44890682, 0.0277892 , 0.05544945])"
      ]
     },
     "execution_count": 138,
     "metadata": {},
     "output_type": "execute_result"
    }
   ],
   "source": [
    "data[ mask ]"
   ]
  },
  {
   "cell_type": "markdown",
   "metadata": {
    "slideshow": {
     "slide_type": "subslide"
    }
   },
   "source": [
    "L'intéret est que l'on peut alors appliquer en traitement particulier à ces valeurs. Par exemple : "
   ]
  },
  {
   "cell_type": "code",
   "execution_count": 140,
   "metadata": {
    "slideshow": {
     "slide_type": "fragment"
    }
   },
   "outputs": [
    {
     "data": {
      "text/plain": [
       "array([[0.7131739 , 0.        , 0.        ],\n",
       "       [0.        , 0.74466573, 0.        ],\n",
       "       [0.98982334, 0.        , 0.51845415],\n",
       "       [0.51740936, 0.        , 0.        ],\n",
       "       [0.97449857, 0.96575321, 0.        ],\n",
       "       [0.73328908, 0.        , 0.92903076],\n",
       "       [0.        , 0.96096913, 0.58866354],\n",
       "       [0.        , 0.        , 0.        ],\n",
       "       [0.70391059, 0.67409037, 0.        ],\n",
       "       [0.        , 0.59585267, 0.79979241]])"
      ]
     },
     "execution_count": 140,
     "metadata": {},
     "output_type": "execute_result"
    }
   ],
   "source": [
    "data[ mask ] = 0. \n",
    "data "
   ]
  },
  {
   "cell_type": "markdown",
   "metadata": {
    "slideshow": {
     "slide_type": "subslide"
    }
   },
   "source": [
    "La construction d'un mask peut faire intervenir des opérations aussi complexes que vous le souhaitez. Par exemple : "
   ]
  },
  {
   "cell_type": "code",
   "execution_count": 144,
   "metadata": {
    "slideshow": {
     "slide_type": "fragment"
    }
   },
   "outputs": [
    {
     "name": "stdout",
     "output_type": "stream",
     "text": [
      "[[0.44224779 0.58321489 0.6438715 ]\n",
      " [0.43363567 0.95281348 0.86947002]\n",
      " [0.90483418 0.65773351 0.39243304]\n",
      " [0.88200399 0.83044174 0.53190569]\n",
      " [0.79344733 0.10188584 0.73445052]\n",
      " [0.46809221 0.7056909  0.29489102]\n",
      " [0.60096666 0.57759882 0.48625762]\n",
      " [0.74278475 0.18099537 0.00291934]\n",
      " [0.60933696 0.99942399 0.43663832]\n",
      " [0.74624704 0.85170368 0.21580118]]\n"
     ]
    },
    {
     "data": {
      "text/plain": [
       "array([[False, False, False],\n",
       "       [False, False, False],\n",
       "       [False, False, False],\n",
       "       [False, False, False],\n",
       "       [False,  True, False],\n",
       "       [False, False,  True],\n",
       "       [False, False, False],\n",
       "       [False,  True,  True],\n",
       "       [False, False, False],\n",
       "       [False, False,  True]])"
      ]
     },
     "execution_count": 144,
     "metadata": {},
     "output_type": "execute_result"
    }
   ],
   "source": [
    "data = np.random.rand(10,3)\n",
    "print(data)\n",
    "mask_0_03 = np.logical_and(data > 0., data < 0.3) \n",
    "mask_0_03 "
   ]
  },
  {
   "cell_type": "code",
   "execution_count": 147,
   "metadata": {
    "slideshow": {
     "slide_type": "fragment"
    }
   },
   "outputs": [
    {
     "name": "stdout",
     "output_type": "stream",
     "text": [
      "[[0.0670595  0.29427369 0.33198358]\n",
      " [0.39284668 0.15611943 0.59080315]\n",
      " [0.61931865 0.23644466 0.06930102]\n",
      " [0.6958442  0.66526394 0.20343376]\n",
      " [0.48596255 0.55032504 0.76945326]\n",
      " [0.20400284 0.28996542 0.29861553]\n",
      " [0.22577091 0.6547751  0.77619509]\n",
      " [0.57247425 0.87934843 0.50328757]\n",
      " [0.8415314  0.52120606 0.17580011]\n",
      " [0.54753305 0.64193289 0.90671828]]\n"
     ]
    },
    {
     "data": {
      "text/plain": [
       "array([[ True,  True, False],\n",
       "       [False,  True, False],\n",
       "       [False,  True,  True],\n",
       "       [False, False,  True],\n",
       "       [False, False,  True],\n",
       "       [ True,  True,  True],\n",
       "       [ True, False,  True],\n",
       "       [False,  True, False],\n",
       "       [ True, False,  True],\n",
       "       [False, False,  True]])"
      ]
     },
     "execution_count": 147,
     "metadata": {},
     "output_type": "execute_result"
    }
   ],
   "source": [
    "data = np.random.rand(10,3)\n",
    "print(data)\n",
    "mask_inf03_or_sup07 = np.logical_or(data<0.3, data>0.7)\n",
    "mask_inf03_or_sup07"
   ]
  },
  {
   "cell_type": "markdown",
   "metadata": {
    "slideshow": {
     "slide_type": "subslide"
    }
   },
   "source": [
    "Et il existe également la négation d'un `mask`"
   ]
  },
  {
   "cell_type": "code",
   "execution_count": 149,
   "metadata": {
    "slideshow": {
     "slide_type": "fragment"
    }
   },
   "outputs": [
    {
     "name": "stdout",
     "output_type": "stream",
     "text": [
      "[[ True  True False]\n",
      " [False  True False]\n",
      " [False  True  True]\n",
      " [False False  True]\n",
      " [False False  True]\n",
      " [ True  True  True]\n",
      " [ True False  True]\n",
      " [False  True False]\n",
      " [ True False  True]\n",
      " [False False  True]]\n"
     ]
    },
    {
     "data": {
      "text/plain": [
       "array([[False, False,  True],\n",
       "       [ True, False,  True],\n",
       "       [ True, False, False],\n",
       "       [ True,  True, False],\n",
       "       [ True,  True, False],\n",
       "       [False, False, False],\n",
       "       [False,  True, False],\n",
       "       [ True, False,  True],\n",
       "       [False,  True, False],\n",
       "       [ True,  True, False]])"
      ]
     },
     "execution_count": 149,
     "metadata": {},
     "output_type": "execute_result"
    }
   ],
   "source": [
    "print(mask_inf03_or_sup07)\n",
    "np.logical_not(mask_inf03_or_sup07)\n"
   ]
  },
  {
   "cell_type": "markdown",
   "metadata": {
    "slideshow": {
     "slide_type": "slide"
    }
   },
   "source": [
    "### Opération de réduction"
   ]
  },
  {
   "cell_type": "markdown",
   "metadata": {
    "slideshow": {
     "slide_type": "subslide"
    }
   },
   "source": [
    "Nous avons vu au début qu'il y a dans NumPy un certain nombre de fonction mathématique définie permettant de traiter toutes les entrées d'un tableau simultanément. "
   ]
  },
  {
   "cell_type": "markdown",
   "metadata": {
    "slideshow": {
     "slide_type": "fragment"
    }
   },
   "source": [
    "Dans un registre similaire vous avez à disposition dans NumPy des fonctions, dites de réductions qui vous permettent de calculer des quantités globales sur un `np.ndarray`. "
   ]
  },
  {
   "cell_type": "markdown",
   "metadata": {
    "slideshow": {
     "slide_type": "fragment"
    }
   },
   "source": [
    "Par exemple pour calculer la moyenne d'un `np.ndarray` de rang 1. Vous pourriez vouloir écrire : "
   ]
  },
  {
   "cell_type": "code",
   "execution_count": 150,
   "metadata": {
    "slideshow": {
     "slide_type": "fragment"
    }
   },
   "outputs": [
    {
     "name": "stdout",
     "output_type": "stream",
     "text": [
      "values = [0.58027091 0.58701831 0.03951879 0.19987022 0.06085062 0.86640263\n",
      " 0.20315799 0.3491798  0.98573581 0.77281701]\n"
     ]
    }
   ],
   "source": [
    "values = np.random.rand(10)\n",
    "print(f\"values = {values}\")"
   ]
  },
  {
   "cell_type": "code",
   "execution_count": 154,
   "metadata": {
    "slideshow": {
     "slide_type": "fragment"
    }
   },
   "outputs": [
    {
     "name": "stdout",
     "output_type": "stream",
     "text": [
      "0.4644822083422194\n"
     ]
    }
   ],
   "source": [
    "m = 0\n",
    "for x in values:\n",
    "    m += x\n",
    "m /= values.size\n",
    "print(m)"
   ]
  },
  {
   "cell_type": "markdown",
   "metadata": {
    "slideshow": {
     "slide_type": "subslide"
    }
   },
   "source": [
    "Ce n'est pas optimale, NumPy met à votre dispositon la fonction `np.mean` qui s'utilise de la manière suivante : "
   ]
  },
  {
   "cell_type": "code",
   "execution_count": 156,
   "metadata": {
    "slideshow": {
     "slide_type": "fragment"
    }
   },
   "outputs": [
    {
     "data": {
      "text/plain": [
       "0.4644822083422194"
      ]
     },
     "execution_count": 156,
     "metadata": {},
     "output_type": "execute_result"
    }
   ],
   "source": [
    "np.mean(values)"
   ]
  },
  {
   "cell_type": "markdown",
   "metadata": {
    "slideshow": {
     "slide_type": "subslide"
    }
   },
   "source": [
    "Dans le même registre voici un liste non-exhaustive de fonction de réduction disponible dans Python : \n",
    "    \n",
    "* `np.sum`\n",
    "* `np.min`\n",
    "* `np.mean`\n",
    "* `np.std`\n",
    "* `np.var`\n",
    "* `np.max`\n",
    "* `np.min`\n",
    "* `np.argmax`\n",
    "* `np.argmin`    \n",
    "\n",
    "Les noms sont plutôt explicites "
   ]
  },
  {
   "cell_type": "markdown",
   "metadata": {
    "slideshow": {
     "slide_type": "subslide"
    }
   },
   "source": [
    "Il y a juste une petite subtilité à connaitre avec ces opérations de réduction. En effet elles fonctionnent sur des `np.ndarray` de n'importe quel rang. Par exemple : "
   ]
  },
  {
   "cell_type": "code",
   "execution_count": 208,
   "metadata": {
    "slideshow": {
     "slide_type": "fragment"
    }
   },
   "outputs": [
    {
     "data": {
      "text/plain": [
       "array([[0.18445418, 0.05029953, 0.09430454],\n",
       "       [0.51486363, 0.09062542, 0.37563143],\n",
       "       [0.4647878 , 0.11623097, 0.57775586],\n",
       "       [0.98076503, 0.32207049, 0.3517991 ]])"
      ]
     },
     "execution_count": 208,
     "metadata": {},
     "output_type": "execute_result"
    }
   ],
   "source": [
    "data = np.random.rand(4,3)\n",
    "data"
   ]
  },
  {
   "cell_type": "markdown",
   "metadata": {
    "slideshow": {
     "slide_type": "fragment"
    }
   },
   "source": [
    "Si l'on utilise alors la fonction `np.max` par exemple, tel quel cette fonction va nous retourner la valeur maximale sur l'intégralité du tableau. "
   ]
  },
  {
   "cell_type": "code",
   "execution_count": 170,
   "metadata": {
    "slideshow": {
     "slide_type": "fragment"
    }
   },
   "outputs": [
    {
     "data": {
      "text/plain": [
       "0.8079411801816367"
      ]
     },
     "execution_count": 170,
     "metadata": {},
     "output_type": "execute_result"
    }
   ],
   "source": [
    "np.max(data)"
   ]
  },
  {
   "cell_type": "markdown",
   "metadata": {
    "slideshow": {
     "slide_type": "subslide"
    }
   },
   "source": [
    "Mais il se peut que ce ne soit pas le comportement que vous voulez. Par exemple vous voulez le max de chaque colonne : "
   ]
  },
  {
   "cell_type": "code",
   "execution_count": 172,
   "metadata": {
    "slideshow": {
     "slide_type": "fragment"
    }
   },
   "outputs": [
    {
     "data": {
      "text/plain": [
       "array([0.80794118, 0.58570492, 0.5179398 ])"
      ]
     },
     "execution_count": 172,
     "metadata": {},
     "output_type": "execute_result"
    }
   ],
   "source": [
    "np.max(data, axis=0)"
   ]
  },
  {
   "cell_type": "markdown",
   "metadata": {
    "slideshow": {
     "slide_type": "fragment"
    }
   },
   "source": [
    "Ou alors le max de chaque ligne : "
   ]
  },
  {
   "cell_type": "code",
   "execution_count": 173,
   "metadata": {
    "slideshow": {
     "slide_type": "fragment"
    }
   },
   "outputs": [
    {
     "data": {
      "text/plain": [
       "array([0.58570492, 0.51284564, 0.06455044, 0.80794118])"
      ]
     },
     "execution_count": 173,
     "metadata": {},
     "output_type": "execute_result"
    }
   ],
   "source": [
    "np.max(data, axis=1)"
   ]
  },
  {
   "cell_type": "markdown",
   "metadata": {
    "slideshow": {
     "slide_type": "fragment"
    }
   },
   "source": [
    "Vous voyez donc que grace à l'argument `axis` vous pouvez piloter le comportement des fonctions de réduction afin que ces dernières ne s'appliquent pas de manière globale mais de manière plus spécifique.  "
   ]
  },
  {
   "cell_type": "markdown",
   "metadata": {
    "slideshow": {
     "slide_type": "slide"
    }
   },
   "source": [
    "### L'algèbre linéaire\n",
    "\n",
    "En plus des opérations usuelles et des opérations booléennes NumPy implémente un certain nombre de fonctions d'algèbre linéaire. En effet car NumPy étant le module Python pour les tableaux multi-dimensionnel et donc en particulier les matrices et les vecteurs, il devait impérativement disposer des ces fonctions d'algèbre linéaire. Pour utiliser les fonctions d'algèbre linéaire de NumPy il faut faire appel au sous-module `numpy.linalg`. "
   ]
  },
  {
   "cell_type": "code",
   "execution_count": 210,
   "metadata": {
    "slideshow": {
     "slide_type": "fragment"
    }
   },
   "outputs": [],
   "source": [
    "import numpy.linalg as npl"
   ]
  },
  {
   "cell_type": "markdown",
   "metadata": {
    "slideshow": {
     "slide_type": "subslide"
    }
   },
   "source": [
    "Tout d'abord il y a les fonctions `norm`, `cond` et `det`, qui comme leurs noms l'indiquent permettent de calculer respectivement la norme, le conditionnement et le déterminant d'un tableau à 2 dimensions. "
   ]
  },
  {
   "cell_type": "code",
   "execution_count": 212,
   "metadata": {
    "slideshow": {
     "slide_type": "fragment"
    }
   },
   "outputs": [
    {
     "name": "stdout",
     "output_type": "stream",
     "text": [
      "A = \n",
      "[[0.23174428 0.2473728  0.11007865 0.74602153 0.19401288]\n",
      " [0.5383681  0.64984448 0.95150524 0.17802213 0.62685633]\n",
      " [0.69760077 0.52374774 0.80222342 0.91027795 0.20659281]\n",
      " [0.24386421 0.28584748 0.38527739 0.00629491 0.76795829]\n",
      " [0.89528771 0.85719009 0.04367987 0.29464222 0.75018995]]\n",
      "||A||   = 2.8471726829910127\n",
      "cond(A) = 25.453797557907013\n",
      "det(A)  = 0.0728557122539254\n"
     ]
    }
   ],
   "source": [
    "array_2d = np.random.rand(5,5)\n",
    "norm_array = npl.norm( array_2d )\n",
    "cond_array = npl.cond( array_2d )\n",
    "det_array  = npl.det( array_2d )\n",
    "\n",
    "\n",
    "print(\"A = \\n{}\".format(array_2d))\n",
    "print(\"||A||   = {}\".format(norm_array))\n",
    "print(\"cond(A) = {}\".format(cond_array))\n",
    "print(\"det(A)  = {}\".format(det_array))"
   ]
  },
  {
   "cell_type": "markdown",
   "metadata": {
    "slideshow": {
     "slide_type": "subslide"
    }
   },
   "source": [
    "Il y a ensuite toutes les méthodes de décomposition de matrice et de résolution de systèmes linéaires :\n",
    "* `solve( A, b )` qui permet de trouver la solution au système $A\\cdot x = b$\n",
    "* `inv( A )` qui permet de calculer $A^{-1}$\n",
    "* `pinv( A )` qui calcul la pseudo inverse de la matrice $A$\n",
    "* `svd` qui permet de calculer la décomposition en valeur singulière d'une matrice\n",
    "* `eig( A )` calcul les valeurs et vecteurs propres "
   ]
  },
  {
   "cell_type": "code",
   "execution_count": 213,
   "metadata": {
    "slideshow": {
     "slide_type": "subslide"
    }
   },
   "outputs": [
    {
     "name": "stdout",
     "output_type": "stream",
     "text": [
      "rhs = \n",
      "[[0.81770757]\n",
      " [0.49106036]\n",
      " [0.02871417]\n",
      " [0.50590608]\n",
      " [0.69673563]]\n",
      "Solution x = \n",
      "[[-3.13500376]\n",
      " [ 3.16123043]\n",
      " [-0.52101945]\n",
      " [ 0.9083446 ]\n",
      " [ 0.73156398]]\n",
      "A.x-rhs = \n",
      "[[1.11022302e-16]\n",
      " [6.10622664e-16]\n",
      " [7.49400542e-16]\n",
      " [2.22044605e-16]\n",
      " [4.44089210e-16]]\n",
      "inv(A)*A = \n",
      "[[ 1.00000000e+00  5.47879098e-16  2.37562684e-16 -3.07776841e-16\n",
      "  -2.97954582e-16]\n",
      " [-2.96320088e-16  1.00000000e+00 -2.25400270e-16 -4.81836191e-17\n",
      "   8.82659685e-16]\n",
      " [-6.97755738e-17 -4.64775331e-17  1.00000000e+00 -8.85432928e-17\n",
      "  -3.51270097e-18]\n",
      " [ 6.71113303e-17  9.28745766e-17  7.17047450e-17  1.00000000e+00\n",
      "   4.57214976e-17]\n",
      " [ 1.94033461e-16  1.88164605e-16 -8.57700906e-17  1.94027347e-16\n",
      "   1.00000000e+00]]\n"
     ]
    }
   ],
   "source": [
    "rhs = np.random.rand(5,1)\n",
    "print(\"rhs = \\n{}\".format(rhs))\n",
    "x = npl.solve( array_2d, rhs )\n",
    "print(\"Solution x = \\n{}\".format(x))\n",
    "verif = array_2d @ x  - rhs\n",
    "print(\"A.x-rhs = \\n{}\".format(verif))\n",
    "array_inv = npl.inv( array_2d )\n",
    "verif = array_inv.dot( array_2d )\n",
    "print(\"inv(A)*A = \\n{}\".format( verif ) )\n"
   ]
  },
  {
   "cell_type": "markdown",
   "metadata": {
    "slideshow": {
     "slide_type": "subslide"
    }
   },
   "source": [
    "### Les entrées-sorties avec NumPy\n",
    "\n"
   ]
  },
  {
   "cell_type": "markdown",
   "metadata": {
    "slideshow": {
     "slide_type": "fragment"
    }
   },
   "source": [
    "En plus de fournir des fonctionnalité de création et manipulations de tableaux et d'algèbre linéaire NumPy permet de gérer des entrées-sorties de manière plus simples pour l'utilisateur que ce qui est permis de base dans Python. \n",
    "\n",
    "Parmis les différentes fonctions d'IO que propose NumPy, les trois qui vous seront certainement le plus utile sont : \n",
    "* `loadtxt` qui permet de charger le contenu d'un fichier texte (bien formatté, par exemple un csv) sous la forme directement sous la forme d'un tableau NumPy. \n",
    "* `savetxt` permet de sauvegarder dans un fichier texte le contenu d'un `array` numpy. \n",
    "* `genfromtxt` similaire à `loadtxt` sauf qu'ici le fichier de données peut comporter des trous, données manquantes, qui seront alors automatiquement remplacée par une valeur spécifiée par l'utilisateur. \n",
    "\n",
    "\n"
   ]
  },
  {
   "cell_type": "markdown",
   "metadata": {
    "slideshow": {
     "slide_type": "subslide"
    }
   },
   "source": [
    "Voici ci dessous un extrait d'un fichier texte contenant des données d'acquisition d'essai de traction."
   ]
  },
  {
   "cell_type": "code",
   "execution_count": 27,
   "metadata": {
    "slideshow": {
     "slide_type": "fragment"
    }
   },
   "outputs": [
    {
     "name": "stdout",
     "output_type": "stream",
     "text": [
      "# MTS793|MPT|FRA|1|2|,|/|:|33|1|1|A\t\t\t\t\t\t\t\t\t\r",
      "\r\n",
      "# \t\t\t\t\t\t\t\t\t\r",
      "\r\n",
      "# Acquisition de donn?s\t\t\t\t\t\tTemps:\t67,923828\ts\t26.7.2017 22:18\r",
      "\r\n",
      "# Temps\tCh 1 Displacement\tCh 1 Force\tCh 1 Extenso1\t\t\t\t\t\t\r",
      "\r\n",
      "# s\tmm\tkN\tmm\t\t\t\t\t\t\r",
      "\r\n",
      "0.11914063\t0.001544035\t0.097813249\t7.49E-05\t\t\t\t\t\t\r",
      "\r\n",
      "0.21875\t0.000721824\t0.099797331\t0.000197031\t\t\t\t\t\t\r",
      "\r\n",
      "0.31835938\t0.001864315\t0.105109\t0.000117682\t\t\t\t\t\t\r",
      "\r\n",
      "0.41796875\t0.000874794\t0.1061257\t0.000126474\t\t\t\t\t\t\r",
      "\r\n",
      "0.51757813\t0.001539255\t0.11434808\t0.000134669\t\t\t\t\t\t\r",
      "\r\n"
     ]
    }
   ],
   "source": [
    "!head data/curves/data.txt"
   ]
  },
  {
   "cell_type": "markdown",
   "metadata": {
    "slideshow": {
     "slide_type": "subslide"
    }
   },
   "source": [
    "Pour charger ces données la première solution serait de parser le fichier à la main en utilisant `open`, `read` et enfin la méthode `split` des string. Cependant `numpy` met à disposition la méthode `loadtxt` qui offre un confort d'utilisation accru. Par exemple pour charger les données précédentes, cela se réalise en une seule commande : "
   ]
  },
  {
   "cell_type": "code",
   "execution_count": 28,
   "metadata": {
    "slideshow": {
     "slide_type": "fragment"
    }
   },
   "outputs": [],
   "source": [
    "data_from_file = np.loadtxt(\"data/curves/data.txt\", comments=\"#\")"
   ]
  },
  {
   "cell_type": "code",
   "execution_count": 29,
   "metadata": {
    "scrolled": true,
    "slideshow": {
     "slide_type": "fragment"
    }
   },
   "outputs": [
    {
     "name": "stdout",
     "output_type": "stream",
     "text": [
      "Shape : (681, 4) \n",
      "[[ 1.1914063e-01  1.5440350e-03  9.7813249e-02  7.4900000e-05]\n",
      " [ 2.1875000e-01  7.2182400e-04  9.9797331e-02  1.9703100e-04]\n",
      " [ 3.1835938e-01  1.8643150e-03  1.0510900e-01  1.1768200e-04]\n",
      " [ 4.1796875e-01  8.7479400e-04  1.0612570e-01  1.2647400e-04]\n",
      " [ 5.1757813e-01  1.5392550e-03  1.1434808e-01  1.3466900e-04]\n",
      " [ 6.1718750e-01  5.5929400e-04  1.1795573e-01  1.7449300e-04]\n",
      " [ 7.1679688e-01  1.1329300e-03  1.3211440e-01  2.2992500e-04]\n",
      " [ 8.1640625e-01  2.5813600e-04  1.4328328e-01 -4.4100000e-05]\n",
      " [ 9.1601563e-01  8.1265000e-04  1.6090605e-01  4.2073400e-04]\n",
      " [ 1.0156250e+00 -4.4934800e-04  1.8887568e-01  2.5969000e-04]]\n"
     ]
    }
   ],
   "source": [
    "print(\"Shape : {} \".format(data_from_file.shape))\n",
    "print( data_from_file[:10,:])"
   ]
  },
  {
   "cell_type": "markdown",
   "metadata": {
    "slideshow": {
     "slide_type": "subslide"
    }
   },
   "source": [
    "On remarque que l'on a spécifié l'argument optionel `comments`, cela permet d'indiquer à NumPy quelles lignes sont à ne pas prendre en compte. Si jamais les premières lignes ne commencent pas par un caractère spécifique (carctère de commentaire) il est quand même possible de les ignorer à l'aide de l'argument optionel `skiprosws` qui permet d'indiquer le nombre que l'on souhaite ignorer au début du fichier. Une utilisation équivalente de `loadtxt` à la précédente serait donc : "
   ]
  },
  {
   "cell_type": "code",
   "execution_count": 30,
   "metadata": {
    "slideshow": {
     "slide_type": "fragment"
    }
   },
   "outputs": [],
   "source": [
    "data_from_file = np.loadtxt(\"data/curves/data.txt\", skiprows=5)"
   ]
  },
  {
   "cell_type": "code",
   "execution_count": 31,
   "metadata": {
    "slideshow": {
     "slide_type": "fragment"
    }
   },
   "outputs": [
    {
     "name": "stdout",
     "output_type": "stream",
     "text": [
      "Shape : (681, 4) \n",
      "[[ 1.1914063e-01  1.5440350e-03  9.7813249e-02  7.4900000e-05]\n",
      " [ 2.1875000e-01  7.2182400e-04  9.9797331e-02  1.9703100e-04]\n",
      " [ 3.1835938e-01  1.8643150e-03  1.0510900e-01  1.1768200e-04]\n",
      " [ 4.1796875e-01  8.7479400e-04  1.0612570e-01  1.2647400e-04]\n",
      " [ 5.1757813e-01  1.5392550e-03  1.1434808e-01  1.3466900e-04]\n",
      " [ 6.1718750e-01  5.5929400e-04  1.1795573e-01  1.7449300e-04]\n",
      " [ 7.1679688e-01  1.1329300e-03  1.3211440e-01  2.2992500e-04]\n",
      " [ 8.1640625e-01  2.5813600e-04  1.4328328e-01 -4.4100000e-05]\n",
      " [ 9.1601563e-01  8.1265000e-04  1.6090605e-01  4.2073400e-04]\n",
      " [ 1.0156250e+00 -4.4934800e-04  1.8887568e-01  2.5969000e-04]]\n"
     ]
    }
   ],
   "source": [
    "print(\"Shape : {} \".format(data_from_file.shape))\n",
    "print( data_from_file[:10,:])"
   ]
  }
 ],
 "metadata": {
  "celltoolbar": "Diaporama",
  "kernelspec": {
   "display_name": "Python 3",
   "language": "python",
   "name": "python3"
  },
  "language_info": {
   "codemirror_mode": {
    "name": "ipython",
    "version": 3
   },
   "file_extension": ".py",
   "mimetype": "text/x-python",
   "name": "python",
   "nbconvert_exporter": "python",
   "pygments_lexer": "ipython3",
   "version": "3.7.4"
  },
  "rise": {
   "autolaunch": true,
   "slideNumber": "c/t",
   "theme": "moon",
   "transition": "slide"
  }
 },
 "nbformat": 4,
 "nbformat_minor": 2
}
